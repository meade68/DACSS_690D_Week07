{
 "cells": [
  {
   "cell_type": "markdown",
   "id": "f8746832",
   "metadata": {
    "id": "f8746832"
   },
   "source": [
    "<center><img src=\"https://github.com/DACSS-Spatial/data_forSpatial/raw/main/logo.png\" width=\"700\"></center>\n",
    "\n"
   ]
  },
  {
   "cell_type": "markdown",
   "id": "af76d2a2",
   "metadata": {
    "id": "af76d2a2"
   },
   "source": [
    "<a target=\"_blank\" href=\"https://colab.research.google.com/github/DACSS-Spatial/binaryOPS/blob/main/index.ipynb\">\n",
    "  <img src=\"https://colab.research.google.com/assets/colab-badge.svg\" alt=\"Open In Colab\"/>\n",
    "</a>\n",
    "\n",
    "# Binary Spatial operations on  Geo Dataframes\n",
    "\n",
    "This time the spatial operations will be applied when we have as input two GDFs."
   ]
  },
  {
   "cell_type": "markdown",
   "id": "2677ec11-108e-441c-8231-c994d5dcf6a4",
   "metadata": {
    "id": "2677ec11-108e-441c-8231-c994d5dcf6a4"
   },
   "source": [
    "## Getting ready"
   ]
  },
  {
   "cell_type": "markdown",
   "id": "244a5266",
   "metadata": {
    "id": "244a5266"
   },
   "source": [
    "The links to the our maps on GitHub are here:"
   ]
  },
  {
   "cell_type": "code",
   "execution_count": null,
   "id": "f5bcb405-dfc6-4b14-8499-d9e42805336d",
   "metadata": {
    "id": "f5bcb405-dfc6-4b14-8499-d9e42805336d"
   },
   "outputs": [],
   "source": [
    "mainLink='https://github.com/DACSS-Spatial/data_forSpatial/raw/main/'\n",
    "\n",
    "linkWorldMap=mainLink + \"WORLD/worldMaps.gpkg\"\n",
    "linkIndicators=mainLink + \"WORLD/worldindicators.json\"\n",
    "linkBrazil=mainLink + \"BRAZIL/brazil_5880.gpkg\"\n"
   ]
  },
  {
   "cell_type": "markdown",
   "id": "7b51c669-0bf7-4d3b-a746-991ff520922c",
   "metadata": {
    "id": "7b51c669-0bf7-4d3b-a746-991ff520922c"
   },
   "source": [
    "Let me introduce another [data source on seaports](https://msi.nga.mil/Publications/WPI). Their locations in long/lat is stored in the file **seaports.csv** which we already have on GitHub:"
   ]
  },
  {
   "cell_type": "code",
   "execution_count": null,
   "id": "23b37c56-cac3-45d7-b5a4-49012da52263",
   "metadata": {
    "id": "23b37c56-cac3-45d7-b5a4-49012da52263"
   },
   "outputs": [],
   "source": [
    "linkSeaPorts=mainLink + 'WORLD/seaports.csv'"
   ]
  },
  {
   "cell_type": "markdown",
   "id": "e8fb7cf4-1379-49f0-916d-0b3bf5be0c39",
   "metadata": {
    "id": "e8fb7cf4-1379-49f0-916d-0b3bf5be0c39"
   },
   "source": [
    "Let's get some maps:"
   ]
  },
  {
   "cell_type": "code",
   "execution_count": null,
   "id": "650f1ceb-2e67-487b-92ae-0735c12e9b4c",
   "metadata": {
    "id": "650f1ceb-2e67-487b-92ae-0735c12e9b4c"
   },
   "outputs": [],
   "source": [
    "import geopandas as gpd\n",
    "\n",
    "#world\n",
    "world_rivers=gpd.read_file(linkWorldMap,layer='rivers')\n",
    "#brazil\n",
    "brazil5880=gpd.read_file(linkBrazil,layer='country')\n",
    "airports_brazil5880=gpd.read_file(linkBrazil,layer='airports')\n",
    "states_brazil5880=gpd.read_file(linkBrazil,layer='states')\n",
    "municipalities_brazil5880=gpd.read_file(linkBrazil,layer='municipalities')\n",
    "#some indicators\n",
    "indicators=gpd.read_file(linkIndicators)\n",
    "\n",
    "# the seaports\n",
    "import pandas as pd\n",
    "infoseaports=pd.read_csv(linkSeaPorts)"
   ]
  },
  {
   "cell_type": "code",
   "execution_count": null,
   "id": "2ece4e65-d21c-404c-9921-9befdd3b5874",
   "metadata": {
    "id": "2ece4e65-d21c-404c-9921-9befdd3b5874"
   },
   "outputs": [],
   "source": [
    "# the sesports data has too manny columns:\n",
    "len(infoseaports.columns)"
   ]
  },
  {
   "cell_type": "markdown",
   "id": "97e9afb9-529b-416f-bc18-1bf773768ab7",
   "metadata": {
    "id": "97e9afb9-529b-416f-bc18-1bf773768ab7"
   },
   "source": [
    "Let me keep some columns, and turn the DF into a GDF:"
   ]
  },
  {
   "cell_type": "code",
   "execution_count": null,
   "id": "33c8c5f5-c135-43c0-a43b-b3472ba6d56a",
   "metadata": {
    "id": "33c8c5f5-c135-43c0-a43b-b3472ba6d56a"
   },
   "outputs": [],
   "source": [
    "#rename\n",
    "infoseaports.rename(columns={'Main Port Name':'seaport_name','Country Code':'country_name'},inplace=True)\n",
    "\n",
    "#keep few columns\n",
    "infoseaports=infoseaports.loc[:,['seaport_name', 'country_name','Latitude', 'Longitude']]\n",
    "\n",
    "#spatial points (unprojected)\n",
    "seaports=gpd.GeoDataFrame(data=infoseaports.copy(),\n",
    "                           geometry=gpd.points_from_xy(infoseaports.Longitude,\n",
    "                                                       infoseaports.Latitude),\n",
    "                          crs=4326)# notice it is unprojected\n",
    "\n",
    "# keep Brazil\n",
    "seaports_bra=seaports[seaports['country_name']=='Brazil'].copy()\n",
    "\n",
    "# reset indexes\n",
    "seaports_bra.reset_index(drop=True, inplace=True)\n",
    "\n",
    "# reprojecting\n",
    "seaports_brazil5880=seaports_bra.to_crs(5880) # projected crs"
   ]
  },
  {
   "cell_type": "markdown",
   "id": "c2fc940f",
   "metadata": {
    "id": "c2fc940f"
   },
   "source": [
    "**Before proceeding**, let me compute some GDFs we created the previous session:\n"
   ]
  },
  {
   "cell_type": "markdown",
   "id": "f08579d5-5736-4122-9b69-22d8b98e8f8e",
   "metadata": {
    "id": "f08579d5-5736-4122-9b69-22d8b98e8f8e"
   },
   "source": [
    "* The centroid of Brazil"
   ]
  },
  {
   "cell_type": "code",
   "execution_count": null,
   "id": "a6a221f3-51db-4264-83e3-da0fa8eacc0a",
   "metadata": {
    "id": "a6a221f3-51db-4264-83e3-da0fa8eacc0a"
   },
   "outputs": [],
   "source": [
    "brazil5880_cen=brazil5880.centroid"
   ]
  },
  {
   "cell_type": "markdown",
   "id": "0bd55fc1-b5dd-456b-8991-35f4c368625e",
   "metadata": {
    "id": "0bd55fc1-b5dd-456b-8991-35f4c368625e"
   },
   "source": [
    "- Large Brazilian airports"
   ]
  },
  {
   "cell_type": "code",
   "execution_count": null,
   "id": "300445fe-1709-4002-bafb-4f6c226c78e9",
   "metadata": {
    "id": "300445fe-1709-4002-bafb-4f6c226c78e9"
   },
   "outputs": [],
   "source": [
    "large_airports=airports_brazil5880.query(\"airport_type=='large_airport'\")"
   ]
  },
  {
   "cell_type": "markdown",
   "id": "9c6c78ea-61d2-49df-8d77-af2d008e416a",
   "metadata": {
    "id": "9c6c78ea-61d2-49df-8d77-af2d008e416a"
   },
   "source": [
    "- Amazon Rivers"
   ]
  },
  {
   "cell_type": "code",
   "execution_count": null,
   "id": "52b9c6ef-19c3-48cb-b9d5-8dac5e26ca24",
   "metadata": {
    "id": "52b9c6ef-19c3-48cb-b9d5-8dac5e26ca24"
   },
   "outputs": [],
   "source": [
    "AmazonSystem=world_rivers.query(\"SYSTEM=='Amazon'\")\n",
    "AmazonSystem_5880=AmazonSystem.to_crs(5880)"
   ]
  },
  {
   "cell_type": "markdown",
   "id": "1c44c596-e798-44d7-ba22-e24c00ae5044",
   "metadata": {
    "id": "1c44c596-e798-44d7-ba22-e24c00ae5044"
   },
   "source": [
    "- The states in the East, West, South, and North"
   ]
  },
  {
   "cell_type": "code",
   "execution_count": null,
   "id": "21e77302-50cd-4b69-b4ce-8ef62ca7e9e4",
   "metadata": {
    "id": "21e77302-50cd-4b69-b4ce-8ef62ca7e9e4"
   },
   "outputs": [],
   "source": [
    "mid_x,mid_y=brazil5880_cen.x[0],brazil5880_cen.y[0]\n",
    "\n",
    "# the north\n",
    "N_brazil=states_brazil5880.cx[:,mid_y:]\n",
    "# the south\n",
    "S_brazil=states_brazil5880.cx[:,:mid_y]\n",
    "# the west\n",
    "W_brazil=states_brazil5880.cx[:mid_x,:]\n",
    "# the east\n",
    "E_brazil=states_brazil5880.cx[mid_x:,:]"
   ]
  },
  {
   "cell_type": "markdown",
   "id": "5594016a-5c17-424f-8595-b380921c9780",
   "metadata": {
    "id": "5594016a-5c17-424f-8595-b380921c9780"
   },
   "source": [
    "- The mean fragility by region of the world"
   ]
  },
  {
   "cell_type": "code",
   "execution_count": null,
   "id": "794f3048-257d-4193-89d0-deda71523b9c",
   "metadata": {
    "id": "794f3048-257d-4193-89d0-deda71523b9c"
   },
   "outputs": [],
   "source": [
    "indicatorsByRegion=indicators.dissolve(\n",
    "    by=\"region\", #groupby()\n",
    "    aggfunc={\"fragility\": \"mean\"}, #agg()\n",
    "    )"
   ]
  },
  {
   "cell_type": "code",
   "execution_count": null,
   "id": "-c3sNkIr4ehl",
   "metadata": {
    "id": "-c3sNkIr4ehl"
   },
   "outputs": [],
   "source": [
    "# You may need to install if using Colab\n",
    "# !pip install mapclassify"
   ]
  },
  {
   "cell_type": "markdown",
   "id": "6852f4a7-24bb-4540-9324-bf9f67c54637",
   "metadata": {
    "id": "6852f4a7-24bb-4540-9324-bf9f67c54637"
   },
   "source": [
    "\n",
    "_____________\n",
    "\n"
   ]
  },
  {
   "cell_type": "markdown",
   "id": "dce53b61-ecda-4df3-b9be-6a6cf86bdc4c",
   "metadata": {
    "id": "dce53b61-ecda-4df3-b9be-6a6cf86bdc4c"
   },
   "source": [
    "## I. Distance\n",
    "\n",
    "Distance is a key binary operation as so many practical policy matters depend on knowing distances between objects in space.\n",
    "\n",
    "Any pair of rightly projected GDFs have a distance between them. Below we can make  query using distances:\n",
    "\n",
    "> Which are the airports whose distance to Brazil centroid is > 2500000?"
   ]
  },
  {
   "cell_type": "code",
   "execution_count": null,
   "id": "67fc2686-024b-4cd1-bac0-88dcfd1cc3a8",
   "metadata": {
    "id": "67fc2686-024b-4cd1-bac0-88dcfd1cc3a8"
   },
   "outputs": [],
   "source": [
    "# this is the centroid we have:\n",
    "brazil5880_cen"
   ]
  },
  {
   "cell_type": "markdown",
   "id": "cc6b1993-de99-4537-be29-482fd12e166f",
   "metadata": {
    "id": "cc6b1993-de99-4537-be29-482fd12e166f"
   },
   "source": [
    "Then,"
   ]
  },
  {
   "cell_type": "code",
   "execution_count": null,
   "id": "03130c10-c4c4-4d02-aa66-35aeabfbc310",
   "metadata": {
    "id": "03130c10-c4c4-4d02-aa66-35aeabfbc310"
   },
   "outputs": [],
   "source": [
    "airports_brazil5880[airports_brazil5880.distance(brazil5880_cen[0]) > 2500000]"
   ]
  },
  {
   "cell_type": "markdown",
   "id": "7b2307f8-5682-4fec-9463-c7b6d55a76d9",
   "metadata": {
    "id": "7b2307f8-5682-4fec-9463-c7b6d55a76d9"
   },
   "source": [
    "The results can be confirmed visually:"
   ]
  },
  {
   "cell_type": "code",
   "execution_count": null,
   "id": "eff37bfd-65ca-4f5a-b828-1af1eed8fba9",
   "metadata": {
    "id": "eff37bfd-65ca-4f5a-b828-1af1eed8fba9"
   },
   "outputs": [],
   "source": [
    "base=airports_brazil5880[airports_brazil5880.distance(brazil5880_cen.iloc[0]) > 2500000].plot(marker='+',markersize=100)\n",
    "airports_brazil5880.plot(ax=base,color='grey', markersize=0.1)\n",
    "brazil5880_cen.plot(ax=base,color='red')"
   ]
  },
  {
   "cell_type": "markdown",
   "id": "1c1eac21-eefc-4a2c-b393-93160683b8c1",
   "metadata": {
    "id": "1c1eac21-eefc-4a2c-b393-93160683b8c1"
   },
   "source": [
    "Let me review how distances work between different kinds of geometries:"
   ]
  },
  {
   "cell_type": "markdown",
   "id": "ec0e6aff-3a98-40eb-8313-6ac724ee661f",
   "metadata": {
    "id": "ec0e6aff-3a98-40eb-8313-6ac724ee661f"
   },
   "source": [
    "### a.  Distance between points\n",
    "\n",
    "We have these points:\n"
   ]
  },
  {
   "cell_type": "code",
   "execution_count": null,
   "id": "1d2771d5-9710-4b4c-9feb-698029ddcaa0",
   "metadata": {
    "id": "1d2771d5-9710-4b4c-9feb-698029ddcaa0"
   },
   "outputs": [],
   "source": [
    "seaports_brazil5880.head()"
   ]
  },
  {
   "cell_type": "code",
   "execution_count": null,
   "id": "914bf0e0-0fe8-44bb-997d-d229df1b5cf4",
   "metadata": {
    "id": "914bf0e0-0fe8-44bb-997d-d229df1b5cf4"
   },
   "outputs": [],
   "source": [
    "large_airports.head()"
   ]
  },
  {
   "cell_type": "markdown",
   "id": "c5803c0b-f58b-4714-a17e-24514f95287a",
   "metadata": {
    "id": "c5803c0b-f58b-4714-a17e-24514f95287a"
   },
   "source": [
    "For results of distance operation to be more insightful, we may do this:"
   ]
  },
  {
   "cell_type": "code",
   "execution_count": null,
   "id": "4e6eb5e2-c901-4881-b281-1c4e9b3ef438",
   "metadata": {
    "id": "4e6eb5e2-c901-4881-b281-1c4e9b3ef438"
   },
   "outputs": [],
   "source": [
    "# index will be names of airports/seaports instead of numbers\n",
    "large_airports.set_index('airport_name',inplace=True)\n",
    "seaports_brazil5880.set_index('seaport_name',inplace=True)"
   ]
  },
  {
   "cell_type": "markdown",
   "id": "51b01837-cb9d-4cdf-8797-edbe178cbc41",
   "metadata": {
    "id": "51b01837-cb9d-4cdf-8797-edbe178cbc41"
   },
   "source": [
    "Notice:"
   ]
  },
  {
   "cell_type": "code",
   "execution_count": null,
   "id": "29344ff4-7a70-40d1-9696-f321f5d45bb9",
   "metadata": {
    "id": "29344ff4-7a70-40d1-9696-f321f5d45bb9"
   },
   "outputs": [],
   "source": [
    "seaports_brazil5880.head()"
   ]
  },
  {
   "cell_type": "code",
   "execution_count": null,
   "id": "5981dbb0-956c-4b9d-935b-335db495721c",
   "metadata": {
    "id": "5981dbb0-956c-4b9d-935b-335db495721c"
   },
   "outputs": [],
   "source": [
    "large_airports.head()"
   ]
  },
  {
   "cell_type": "markdown",
   "id": "80dc32b4-3d9b-4e1e-87c5-2adc2dc3f9b5",
   "metadata": {
    "id": "80dc32b4-3d9b-4e1e-87c5-2adc2dc3f9b5"
   },
   "source": [
    "> The distance from each airport to the \"Dtse / Gegua Oil Terminal\""
   ]
  },
  {
   "cell_type": "code",
   "execution_count": null,
   "id": "e3e97535-58b0-47ee-9724-88ecbc4cf1b1",
   "metadata": {
    "id": "e3e97535-58b0-47ee-9724-88ecbc4cf1b1"
   },
   "outputs": [],
   "source": [
    "large_airports.distance(seaports_brazil5880.geometry.loc['Dtse / Gegua Oil Terminal'])"
   ]
  },
  {
   "cell_type": "markdown",
   "id": "7484b0c5-ac6e-4a25-8be5-6e3ada2ab6ad",
   "metadata": {
    "id": "7484b0c5-ac6e-4a25-8be5-6e3ada2ab6ad"
   },
   "source": [
    "What about computing...\n",
    "\n",
    "> All the distances between large aiports and seaports (in km)"
   ]
  },
  {
   "cell_type": "code",
   "execution_count": null,
   "id": "732b442a-bc31-4522-aec5-0cbbca069ec4",
   "metadata": {
    "id": "732b442a-bc31-4522-aec5-0cbbca069ec4"
   },
   "outputs": [],
   "source": [
    "# apply creates a LOOP, computes distances from each seaport to all large airports\n",
    "seaports_brazil5880.geometry.apply\\\n",
    "(lambda seaport: large_airports.geometry.distance(seaport)/1000)"
   ]
  },
  {
   "cell_type": "markdown",
   "id": "e1bf8401-ba3a-42df-a31e-53b8d9f46509",
   "metadata": {
    "id": "e1bf8401-ba3a-42df-a31e-53b8d9f46509"
   },
   "source": [
    "If we save the matrix..."
   ]
  },
  {
   "cell_type": "code",
   "execution_count": null,
   "id": "05c0c0fa-96f3-4f82-8a98-c6c30b570b95",
   "metadata": {
    "id": "05c0c0fa-96f3-4f82-8a98-c6c30b570b95"
   },
   "outputs": [],
   "source": [
    "D_Matrix_sea_air=seaports_brazil5880.geometry.apply \\\n",
    "                (lambda seaport: large_airports.geometry.distance(seaport)/1000)"
   ]
  },
  {
   "cell_type": "markdown",
   "id": "344e4efb-277f-44c0-b06b-b9996b9a3133",
   "metadata": {
    "id": "344e4efb-277f-44c0-b06b-b9996b9a3133"
   },
   "source": [
    "We can compute some distance stats from there:\n",
    "\n",
    "> Some summary of distances from each seaport to all large airports"
   ]
  },
  {
   "cell_type": "code",
   "execution_count": null,
   "id": "e50fe44a-4ba2-45cc-bf5f-e80cfd513d13",
   "metadata": {
    "id": "e50fe44a-4ba2-45cc-bf5f-e80cfd513d13"
   },
   "outputs": [],
   "source": [
    "Stat_sea_air=pd.DataFrame()\n",
    "Stat_sea_air['mean']=D_Matrix_sea_air.mean(axis=1) # mean D to all airports\n",
    "Stat_sea_air['min']=D_Matrix_sea_air.min(axis=1)# min D to all airports\n",
    "Stat_sea_air['max']=D_Matrix_sea_air.max(axis=1)# max D to all airports\n",
    "\n",
    "# see some\n",
    "Stat_sea_air.head(10)"
   ]
  },
  {
   "cell_type": "markdown",
   "id": "17565f68-8797-44be-8212-a7a2776a458a",
   "metadata": {
    "id": "17565f68-8797-44be-8212-a7a2776a458a"
   },
   "source": [
    "Of course, the idmax and idmin could come in handy:\n",
    "> Farthest airport to each seaport"
   ]
  },
  {
   "cell_type": "code",
   "execution_count": null,
   "id": "8690e80d-e3c5-4d22-99cc-8954ea7fee9b",
   "metadata": {
    "id": "8690e80d-e3c5-4d22-99cc-8954ea7fee9b"
   },
   "outputs": [],
   "source": [
    "D_Matrix_sea_air.idxmax(axis=1).head()"
   ]
  },
  {
   "cell_type": "markdown",
   "id": "1eaca75c-130e-4e5e-b0ef-63fac2e6ae25",
   "metadata": {
    "id": "1eaca75c-130e-4e5e-b0ef-63fac2e6ae25"
   },
   "source": [
    "> Farthest seaport to each airport"
   ]
  },
  {
   "cell_type": "code",
   "execution_count": null,
   "id": "ffcb2ed2-7e2f-4bd4-9289-c5b68b328d6f",
   "metadata": {
    "id": "ffcb2ed2-7e2f-4bd4-9289-c5b68b328d6f"
   },
   "outputs": [],
   "source": [
    "D_Matrix_sea_air.idxmax(axis=0).head()"
   ]
  },
  {
   "cell_type": "markdown",
   "id": "b86a39c4-eec0-4e21-aaf5-20ab83411534",
   "metadata": {
    "id": "b86a39c4-eec0-4e21-aaf5-20ab83411534"
   },
   "source": [
    "> Closest airport to each seaport"
   ]
  },
  {
   "cell_type": "code",
   "execution_count": null,
   "id": "3dce5c5a-2b8d-4930-a476-5be12829f5d8",
   "metadata": {
    "id": "3dce5c5a-2b8d-4930-a476-5be12829f5d8"
   },
   "outputs": [],
   "source": [
    "D_Matrix_sea_air.idxmin(axis=1).head()"
   ]
  },
  {
   "cell_type": "markdown",
   "id": "c8a8f228-8e64-4707-9fbf-40df21a3fb6e",
   "metadata": {
    "id": "c8a8f228-8e64-4707-9fbf-40df21a3fb6e"
   },
   "source": [
    "> Closest seaport to each airport\n"
   ]
  },
  {
   "cell_type": "code",
   "execution_count": null,
   "id": "9ba65570-a5da-48a9-ba91-74c3f34a7bc4",
   "metadata": {
    "id": "9ba65570-a5da-48a9-ba91-74c3f34a7bc4"
   },
   "outputs": [],
   "source": [
    "# closest seaport to each airport\n",
    "D_Matrix_sea_air.idxmin(axis=0).head()"
   ]
  },
  {
   "cell_type": "markdown",
   "id": "97c282ec-edae-4a48-a4ea-08a2694cae42",
   "metadata": {
    "id": "97c282ec-edae-4a48-a4ea-08a2694cae42"
   },
   "source": [
    "### b. Distance between line and point\n",
    "\n",
    "Once we know understand how **distance** and idxmin/idxmax work, we can feel comfortable in this stage.\n",
    "\n",
    "Let's use these rivers from before:"
   ]
  },
  {
   "cell_type": "code",
   "execution_count": null,
   "id": "fb1bd828-00c0-4629-878f-c0e7fc5b9436",
   "metadata": {
    "id": "fb1bd828-00c0-4629-878f-c0e7fc5b9436"
   },
   "outputs": [],
   "source": [
    "AmazonSystem_5880.set_index(\"RIVER\",inplace=True)\n",
    "AmazonSystem_5880"
   ]
  },
  {
   "cell_type": "markdown",
   "id": "5b60880d-4dc4-47f3-b35d-180f3f66177d",
   "metadata": {
    "id": "5b60880d-4dc4-47f3-b35d-180f3f66177d"
   },
   "source": [
    "Then,\n",
    "> Distance from river Tapajos to Guarulhos airport"
   ]
  },
  {
   "cell_type": "code",
   "execution_count": null,
   "id": "243e6709-c61f-437a-afce-f33cb9a89ea0",
   "metadata": {
    "id": "243e6709-c61f-437a-afce-f33cb9a89ea0"
   },
   "outputs": [],
   "source": [
    "airName='Guarulhos - Governador André Franco Montoro International Airport'\n",
    "rivName='Tapajos'\n",
    "AmazonSystem_5880.geometry.loc[rivName].distance(large_airports.geometry.loc[airName])/1000"
   ]
  },
  {
   "cell_type": "markdown",
   "id": "cf5edb0d-d99d-43f0-8ce9-d2a4652b7383",
   "metadata": {
    "id": "cf5edb0d-d99d-43f0-8ce9-d2a4652b7383"
   },
   "source": [
    "We can compute the distance matrix now:"
   ]
  },
  {
   "cell_type": "code",
   "execution_count": null,
   "id": "37a72307-cf6c-4438-ac58-1c6fed1f90fd",
   "metadata": {
    "id": "37a72307-cf6c-4438-ac58-1c6fed1f90fd"
   },
   "outputs": [],
   "source": [
    "D_Matrix_amazRivs_air=AmazonSystem_5880.geometry.apply \\\n",
    "                (lambda river: large_airports.geometry.distance(river)/1000)"
   ]
  },
  {
   "cell_type": "code",
   "execution_count": null,
   "id": "c0b71d58-963c-4dc0-bd54-bdd45bcdbd3e",
   "metadata": {
    "id": "c0b71d58-963c-4dc0-bd54-bdd45bcdbd3e"
   },
   "outputs": [],
   "source": [
    "Stat_amz_air=pd.DataFrame()\n",
    "Stat_amz_air['mean']=D_Matrix_amazRivs_air.mean(axis=1) # mean D to all airports\n",
    "Stat_amz_air['min']=D_Matrix_amazRivs_air.min(axis=1)# min D to all airports\n",
    "Stat_amz_air['max']=D_Matrix_amazRivs_air.max(axis=1)# max D to all airports\n",
    "\n",
    "# see some\n",
    "Stat_amz_air.head(10)"
   ]
  },
  {
   "cell_type": "code",
   "execution_count": null,
   "id": "619ad58c-5197-4f92-9883-75ca8b00699f",
   "metadata": {
    "id": "619ad58c-5197-4f92-9883-75ca8b00699f"
   },
   "outputs": [],
   "source": [
    "# closest river to each airport\n",
    "D_Matrix_amazRivs_air.idxmin(axis=0).head()"
   ]
  },
  {
   "cell_type": "code",
   "execution_count": null,
   "id": "6107daa5-d610-40e2-a1c0-930e7044ee94",
   "metadata": {
    "id": "6107daa5-d610-40e2-a1c0-930e7044ee94"
   },
   "outputs": [],
   "source": [
    "# farthest river to each airport\n",
    "D_Matrix_amazRivs_air.idxmax(axis=0).head()"
   ]
  },
  {
   "cell_type": "markdown",
   "id": "1d249122-c2be-43b2-9496-dba32beab171",
   "metadata": {
    "id": "1d249122-c2be-43b2-9496-dba32beab171"
   },
   "source": [
    "### c. Between Polygon and Point\n",
    "\n",
    "Let me re use the world rivers to get the rivers in a couple of systems:"
   ]
  },
  {
   "cell_type": "code",
   "execution_count": null,
   "id": "f7759c73-da70-4e24-875a-1318540ad1aa",
   "metadata": {
    "id": "f7759c73-da70-4e24-875a-1318540ad1aa"
   },
   "outputs": [],
   "source": [
    "river_systems=world_rivers.query(\"SYSTEM in ['Amazon','Parana']\")\n",
    "river_systems"
   ]
  },
  {
   "cell_type": "markdown",
   "id": "b0414c61-e3a5-476a-af4c-0bd58e3c745a",
   "metadata": {
    "id": "b0414c61-e3a5-476a-af4c-0bd58e3c745a"
   },
   "source": [
    "Let me combine per system:"
   ]
  },
  {
   "cell_type": "code",
   "execution_count": null,
   "id": "dae1761f-7914-4b9d-9140-8ef51a7b5cb3",
   "metadata": {
    "id": "dae1761f-7914-4b9d-9140-8ef51a7b5cb3"
   },
   "outputs": [],
   "source": [
    "ama_para=river_systems.dissolve(by='SYSTEM')\n",
    "ama_para.drop(columns='RIVER',inplace=True)\n",
    "ama_para"
   ]
  },
  {
   "cell_type": "markdown",
   "id": "7f20d8a7-a2ab-4997-af3b-b05902ce2f33",
   "metadata": {
    "id": "7f20d8a7-a2ab-4997-af3b-b05902ce2f33"
   },
   "source": [
    "We still have lines:"
   ]
  },
  {
   "cell_type": "code",
   "execution_count": null,
   "id": "8cd483d9-5585-45b7-ad3f-8416a6b2b496",
   "metadata": {
    "id": "8cd483d9-5585-45b7-ad3f-8416a6b2b496"
   },
   "outputs": [],
   "source": [
    "ama_para.plot(cmap='viridis')"
   ]
  },
  {
   "cell_type": "markdown",
   "id": "755dabce-1a0b-4f09-adfe-424bb56ea391",
   "metadata": {
    "id": "755dabce-1a0b-4f09-adfe-424bb56ea391"
   },
   "source": [
    "But we will have polygons after this:"
   ]
  },
  {
   "cell_type": "code",
   "execution_count": null,
   "id": "a40a5543-d676-4696-a2d8-a0447b19d3d9",
   "metadata": {
    "id": "a40a5543-d676-4696-a2d8-a0447b19d3d9"
   },
   "outputs": [],
   "source": [
    "ama_para.convex_hull.plot(cmap='viridis')"
   ]
  },
  {
   "cell_type": "markdown",
   "id": "eea2280b-f1d7-4b62-a891-1f2cd3c48d0c",
   "metadata": {
    "id": "eea2280b-f1d7-4b62-a891-1f2cd3c48d0c"
   },
   "source": [
    "As we have a geoseries of two geometries..."
   ]
  },
  {
   "cell_type": "code",
   "execution_count": null,
   "id": "b480caad-02ae-4525-a823-3fb7c4c83aa9",
   "metadata": {
    "id": "b480caad-02ae-4525-a823-3fb7c4c83aa9"
   },
   "outputs": [],
   "source": [
    "ama_para.convex_hull,type(ama_para.convex_hull)"
   ]
  },
  {
   "cell_type": "markdown",
   "id": "fc972130-f2ba-49b8-97d4-624ec1d0791d",
   "metadata": {
    "id": "fc972130-f2ba-49b8-97d4-624ec1d0791d"
   },
   "source": [
    "Let's turn that into a GDF:"
   ]
  },
  {
   "cell_type": "code",
   "execution_count": null,
   "id": "f6085f9d-044c-43eb-ac09-110dba687c53",
   "metadata": {
    "id": "f6085f9d-044c-43eb-ac09-110dba687c53"
   },
   "outputs": [],
   "source": [
    "ama_para_hulls=ama_para.convex_hull.to_frame()\n",
    "ama_para_hulls.rename(columns={0:'geometry'},inplace=True)\n",
    "ama_para_hulls=ama_para_hulls.set_geometry('geometry')\n",
    "ama_para_hulls.crs=\"EPSG:5880\"\n",
    "\n",
    "#voila\n",
    "ama_para_hulls"
   ]
  },
  {
   "cell_type": "markdown",
   "id": "6c0a05f1-9e77-451b-a0b6-f0a69ecbd044",
   "metadata": {
    "id": "6c0a05f1-9e77-451b-a0b6-f0a69ecbd044"
   },
   "source": [
    "And now, the distance matrix:"
   ]
  },
  {
   "cell_type": "code",
   "execution_count": null,
   "id": "f4d2e3c6-6a33-4247-b83b-5055b5ac980e",
   "metadata": {
    "id": "f4d2e3c6-6a33-4247-b83b-5055b5ac980e"
   },
   "outputs": [],
   "source": [
    "D_Matrix_SYSHulls_air=ama_para_hulls.geometry.apply \\\n",
    "                (lambda system: large_airports.geometry.distance(system)/1000)\n",
    "D_Matrix_SYSHulls_air"
   ]
  },
  {
   "cell_type": "markdown",
   "id": "d97ed48a-1dd4-48e0-9940-de75ea43b5ed",
   "metadata": {
    "id": "d97ed48a-1dd4-48e0-9940-de75ea43b5ed"
   },
   "source": [
    "From here, you can compute distances between other kinds of geometries."
   ]
  },
  {
   "cell_type": "markdown",
   "id": "be643505-1c8f-435c-b3ca-150aee9c4b3b",
   "metadata": {
    "id": "be643505-1c8f-435c-b3ca-150aee9c4b3b"
   },
   "source": [
    "## II. Clipping\n",
    "\n",
    "Clipping uses a GDF geometry as a MASK to cut another GDF which suppossedly is bigger and needes to be clipped."
   ]
  },
  {
   "cell_type": "markdown",
   "id": "01e11a63-f60d-46b7-90b3-29f8e554227f",
   "metadata": {
    "id": "01e11a63-f60d-46b7-90b3-29f8e554227f"
   },
   "source": [
    "Pay attention to the world rivers again:"
   ]
  },
  {
   "cell_type": "code",
   "execution_count": null,
   "id": "e04c8325-ac9e-416a-a15d-165a3945c028",
   "metadata": {
    "id": "e04c8325-ac9e-416a-a15d-165a3945c028"
   },
   "outputs": [],
   "source": [
    "world_rivers"
   ]
  },
  {
   "cell_type": "markdown",
   "id": "c6fcbcc4-6b4e-45ea-ba63-814549807e6d",
   "metadata": {
    "id": "c6fcbcc4-6b4e-45ea-ba63-814549807e6d"
   },
   "source": [
    "As you see, this GDF has no Country column. But since it has geometry, you can keep the rivers, or their sections, that serve a country:"
   ]
  },
  {
   "cell_type": "code",
   "execution_count": null,
   "id": "5b6a5884-4c38-4cf9-b452-c472e409d82b",
   "metadata": {
    "id": "5b6a5884-4c38-4cf9-b452-c472e409d82b"
   },
   "outputs": [],
   "source": [
    "rivers_brazil5880 = gpd.clip(gdf=world_rivers.to_crs(5880),\n",
    "                             mask=brazil5880)"
   ]
  },
  {
   "cell_type": "markdown",
   "id": "59424b3b-f335-47dd-8496-c4a7a5b7ee72",
   "metadata": {
    "id": "59424b3b-f335-47dd-8496-c4a7a5b7ee72"
   },
   "source": [
    "See differences:"
   ]
  },
  {
   "cell_type": "markdown",
   "id": "46dd5477-558e-4d69-b220-dfd436f7d543",
   "metadata": {
    "id": "46dd5477-558e-4d69-b220-dfd436f7d543"
   },
   "source": [
    "- input 1: Rivers"
   ]
  },
  {
   "cell_type": "code",
   "execution_count": null,
   "id": "67a2f2f0-e29b-4599-bb23-e8b5e18404b6",
   "metadata": {
    "id": "67a2f2f0-e29b-4599-bb23-e8b5e18404b6"
   },
   "outputs": [],
   "source": [
    "world_rivers.plot()"
   ]
  },
  {
   "cell_type": "markdown",
   "id": "b64ee07c-535a-4157-a1bb-ef231a2be5b4",
   "metadata": {
    "id": "b64ee07c-535a-4157-a1bb-ef231a2be5b4"
   },
   "source": [
    "- input 2: mask (Brazil)"
   ]
  },
  {
   "cell_type": "code",
   "execution_count": null,
   "id": "3485141c-b939-4c6d-aee0-864899796637",
   "metadata": {
    "id": "3485141c-b939-4c6d-aee0-864899796637"
   },
   "outputs": [],
   "source": [
    "brazil5880.plot(facecolor=\"greenyellow\")"
   ]
  },
  {
   "cell_type": "markdown",
   "id": "b3b59839-475a-4c8e-a67b-62d2f00d4899",
   "metadata": {
    "id": "b3b59839-475a-4c8e-a67b-62d2f00d4899"
   },
   "source": [
    "> Output: clipped rivers"
   ]
  },
  {
   "cell_type": "code",
   "execution_count": null,
   "id": "fcc48289-88b6-439f-a483-e0f08375de4c",
   "metadata": {
    "id": "fcc48289-88b6-439f-a483-e0f08375de4c"
   },
   "outputs": [],
   "source": [
    "rivers_brazil5880.plot()"
   ]
  },
  {
   "cell_type": "code",
   "execution_count": null,
   "id": "4cc43012-dcc3-45b3-b31e-35bcb26cab94",
   "metadata": {
    "id": "4cc43012-dcc3-45b3-b31e-35bcb26cab94"
   },
   "outputs": [],
   "source": [
    "base = brazil5880.plot(facecolor=\"greenyellow\", edgecolor='black', linewidth=0.4,figsize=(5,5))\n",
    "rivers_brazil5880.plot(edgecolor='blue', linewidth=0.5,\n",
    "                    ax=base)"
   ]
  },
  {
   "cell_type": "markdown",
   "id": "c77dfd82-1685-4f2d-a1ae-3ff26f8f3041",
   "metadata": {
    "id": "c77dfd82-1685-4f2d-a1ae-3ff26f8f3041"
   },
   "source": [
    "We can create our own mask for clipping:\n",
    "\n",
    "Let me get the **bounding box** of the map (the smallest possible rectangle that completely encloses a geometric shape or set of shapes):"
   ]
  },
  {
   "cell_type": "code",
   "execution_count": null,
   "id": "80f8a267-da8a-4831-be2b-7d83bac3c595",
   "metadata": {
    "id": "80f8a267-da8a-4831-be2b-7d83bac3c595",
    "scrolled": true
   },
   "outputs": [],
   "source": [
    "brazil5880.total_bounds #[minx, miny, maxx, maxy]"
   ]
  },
  {
   "cell_type": "code",
   "execution_count": null,
   "id": "76f1dee2-1db3-4aca-a389-0d9b87718514",
   "metadata": {
    "id": "76f1dee2-1db3-4aca-a389-0d9b87718514"
   },
   "outputs": [],
   "source": [
    "# saving the output\n",
    "minx, miny, maxx, maxy=brazil5880.total_bounds\n",
    "minx, miny, maxx, maxy"
   ]
  },
  {
   "cell_type": "markdown",
   "id": "e00d037a-9493-4bee-807a-c04202409990",
   "metadata": {
    "id": "e00d037a-9493-4bee-807a-c04202409990"
   },
   "source": [
    "I will combine those coordinates with the _centroid_ (mid_x,mid_y)to create a BOX of the north and south of Brazil:"
   ]
  },
  {
   "cell_type": "code",
   "execution_count": null,
   "id": "0180a0cd-311b-43e4-a68a-2fe82f46b4a0",
   "metadata": {
    "id": "0180a0cd-311b-43e4-a68a-2fe82f46b4a0"
   },
   "outputs": [],
   "source": [
    "north_mask = [minx, mid_y, maxx, maxy]\n",
    "south_mask = [minx, minx, maxx, mid_y]\n",
    "\n",
    "# split Brazil\n",
    "states_brazil5880.clip(north_mask).plot(edgecolor=\"yellow\")"
   ]
  },
  {
   "cell_type": "code",
   "execution_count": null,
   "id": "1b9e1c22-e6ec-4671-b60c-a946bccb7791",
   "metadata": {
    "id": "1b9e1c22-e6ec-4671-b60c-a946bccb7791"
   },
   "outputs": [],
   "source": [
    "states_brazil5880.clip(south_mask).plot(edgecolor=\"yellow\")"
   ]
  },
  {
   "cell_type": "markdown",
   "id": "f465c328-5cb2-49ce-a90a-37419ade4a6f",
   "metadata": {
    "id": "f465c328-5cb2-49ce-a90a-37419ade4a6f"
   },
   "source": [
    "As you see, with clip we can cut polygons (not respecting the borders)."
   ]
  },
  {
   "cell_type": "markdown",
   "id": "b5c4eee9-24fc-4fa2-a639-9d774eb60825",
   "metadata": {
    "id": "b5c4eee9-24fc-4fa2-a639-9d774eb60825"
   },
   "source": [
    "## III. Spatial Joins\n",
    "\n",
    "We’re familiar with **merging**, which joins tables using common keys. Spatial joins, by contrast, rely solely on **geometry columns** to perform various types of filtering.\n",
    "\n",
    "Let me use the brazilian large airports and states:"
   ]
  },
  {
   "cell_type": "code",
   "execution_count": null,
   "id": "a0dfc63d-650e-4f89-bd29-817a42534b8e",
   "metadata": {
    "id": "a0dfc63d-650e-4f89-bd29-817a42534b8e"
   },
   "outputs": [],
   "source": [
    "large_airports.head()"
   ]
  },
  {
   "cell_type": "markdown",
   "id": "b887209c-7a1a-4a3c-a79e-e74321e373ad",
   "metadata": {
    "id": "b887209c-7a1a-4a3c-a79e-e74321e373ad"
   },
   "source": [
    "...and:"
   ]
  },
  {
   "cell_type": "code",
   "execution_count": null,
   "id": "e30b503a-c304-4615-aa27-72a66a3a3cc9",
   "metadata": {
    "id": "e30b503a-c304-4615-aa27-72a66a3a3cc9"
   },
   "outputs": [],
   "source": [
    "states_brazil5880.head()"
   ]
  },
  {
   "cell_type": "code",
   "execution_count": null,
   "id": "58d5a4e6-1d55-434d-9d0e-616394bba9a8",
   "metadata": {
    "id": "58d5a4e6-1d55-434d-9d0e-616394bba9a8"
   },
   "outputs": [],
   "source": [
    "# as before set index for 'states'\n",
    "states_brazil5880.set_index('state_name',inplace=True)\n",
    "states_brazil5880.head()"
   ]
  },
  {
   "cell_type": "markdown",
   "id": "bc834d8a-ada5-4cfc-9a23-f04800d4cd3e",
   "metadata": {
    "id": "bc834d8a-ada5-4cfc-9a23-f04800d4cd3e"
   },
   "source": [
    "### a. Within"
   ]
  },
  {
   "cell_type": "markdown",
   "id": "92e16665-bba3-462b-a6cb-971fd2cac082",
   "metadata": {
    "id": "92e16665-bba3-462b-a6cb-971fd2cac082"
   },
   "source": [
    "Let's ask:\n",
    "> The large airports whose geometries are within the borders of a state in Brazil."
   ]
  },
  {
   "cell_type": "code",
   "execution_count": null,
   "id": "e4093e9f-2149-4390-b7fb-676b6a24beff",
   "metadata": {
    "id": "e4093e9f-2149-4390-b7fb-676b6a24beff"
   },
   "outputs": [],
   "source": [
    "airports_within_states = gpd.sjoin(\n",
    "    large_airports,         # LEFT: airports we want to filter/keep\n",
    "    states_brazil5880,      # RIGHT: spatial boundaries to check against\n",
    "    how='inner',            # return geometries that match in both LEFT/RIGHT (jointype)\n",
    "    predicate='within'      # spatial condition: LEFT geometry within RIGHT geometry\n",
    ")\n",
    "\n",
    "# these are:\n",
    "airports_within_states"
   ]
  },
  {
   "cell_type": "markdown",
   "id": "d15e0714-7198-4d4f-9c60-e295520f5ce6",
   "metadata": {
    "id": "d15e0714-7198-4d4f-9c60-e295520f5ce6"
   },
   "source": [
    "We just performed a point-to-polygon spatial join.\n",
    "Notice that the result preserves the original geometries from the LEFT GeoDataFrame — specifically, only those features whose spatial relationship satisfied both the predicate (e.g., 'within') and the join type ('inner').\n",
    "The non-geometric attributes (columns) from the RIGHT GeoDataFrame are joined to the matching rows.\n",
    "\n",
    "Notice that, the request gave you points. I will add all the states below:"
   ]
  },
  {
   "cell_type": "code",
   "execution_count": null,
   "id": "3301bb57-d56d-4510-9681-63d5ceb8d04c",
   "metadata": {
    "id": "3301bb57-d56d-4510-9681-63d5ceb8d04c"
   },
   "outputs": [],
   "source": [
    "base=states_brazil5880.explore(edgecolor='black',style_kwds={'fillOpacity': 0.1,'color':'grey'})\n",
    "airports_within_states.explore(color='red',m=base)"
   ]
  },
  {
   "cell_type": "markdown",
   "id": "b5304d8d-9ff5-4c65-94ad-5a7c4727396a",
   "metadata": {
    "id": "b5304d8d-9ff5-4c65-94ad-5a7c4727396a"
   },
   "source": [
    "### b. Contains"
   ]
  },
  {
   "cell_type": "markdown",
   "id": "9a8607e8-a979-4cdb-b980-83d474c2418d",
   "metadata": {
    "id": "9a8607e8-a979-4cdb-b980-83d474c2418d"
   },
   "source": [
    "Importantly, if the LEFT GeoDataFrame geometries are polygons and the RIGHT one points (a polygon-to-point join), you’ll typically need to use a different predicate — such as 'contains' — to express the spatial relationship correctly.\n",
    "\n",
    "> Brazilian states that house large airports"
   ]
  },
  {
   "cell_type": "code",
   "execution_count": null,
   "id": "86d0683e-21fd-4300-a04e-59cc7392ef25",
   "metadata": {
    "id": "86d0683e-21fd-4300-a04e-59cc7392ef25"
   },
   "outputs": [],
   "source": [
    "states_containing_LargeAirports = gpd.sjoin(states_brazil5880,large_airports,how='inner',\n",
    "                                            predicate='contains')\n",
    "\n",
    "states_containing_LargeAirports"
   ]
  },
  {
   "cell_type": "markdown",
   "id": "f46d4882-a537-4094-a5cd-f7d98e4d2d08",
   "metadata": {
    "id": "f46d4882-a537-4094-a5cd-f7d98e4d2d08"
   },
   "source": [
    "As requested, you got polygons (not the airports). I will add airports for reference."
   ]
  },
  {
   "cell_type": "code",
   "execution_count": null,
   "id": "fe147401-f04a-4937-8e1f-1844d7edab4d",
   "metadata": {
    "id": "fe147401-f04a-4937-8e1f-1844d7edab4d"
   },
   "outputs": [],
   "source": [
    "base=states_containing_LargeAirports.explore(color='red')\n",
    "large_airports.explore(color='white',m=base)"
   ]
  },
  {
   "cell_type": "markdown",
   "id": "1d051af3-f9e2-47f2-974a-f22731bcab89",
   "metadata": {
    "id": "1d051af3-f9e2-47f2-974a-f22731bcab89"
   },
   "source": [
    "### c. Intersects\n",
    "\n",
    "'Contains' and 'within' are literally strict: Any airport located exactly on a state boundary — whether due to data precision, snapping, or real geography — will be excluded, even if it’s “practically” inside the state. More flexibility is achieved with **intersects**.\n",
    "\n",
    "> A point on the border of Rio de Janeiro, can be detected if I use intersect!"
   ]
  },
  {
   "cell_type": "code",
   "execution_count": null,
   "id": "312b0bb8-3ca7-40a6-b2df-c8cb63f573c9",
   "metadata": {
    "id": "312b0bb8-3ca7-40a6-b2df-c8cb63f573c9"
   },
   "outputs": [],
   "source": [
    "# this is RDJ:\n",
    "Rio=states_brazil5880.loc[['Rio de Janeiro'],:]\n",
    "\n",
    "#this a point on its border\n",
    "from shapely.geometry import Point\n",
    "\n",
    "coordinates=Rio.geometry.iloc[0].boundary.geoms[0].coords[1]\n",
    "aRDJ_PointInBorder=Point(coordinates)\n",
    "aRDJ_borderPoint = gpd.GeoDataFrame({'name': ['RioJaneiro Border Point']},\n",
    "                                    geometry=[aRDJ_PointInBorder],\n",
    "                                    crs=states_brazil5880.crs)"
   ]
  },
  {
   "cell_type": "code",
   "execution_count": null,
   "id": "ed58e5eb-663f-4973-b6c0-f9e1a00f6532",
   "metadata": {
    "id": "ed58e5eb-663f-4973-b6c0-f9e1a00f6532"
   },
   "outputs": [],
   "source": [
    "## Intersects result\n",
    "gpd.sjoin(aRDJ_borderPoint,Rio,\n",
    "          how='inner', predicate='intersects')"
   ]
  },
  {
   "cell_type": "markdown",
   "id": "3e71678d-23c3-44be-9163-16b1d5f5a2f3",
   "metadata": {
    "id": "3e71678d-23c3-44be-9163-16b1d5f5a2f3"
   },
   "source": [
    "> A point on the border of Rio de Janeiro, can NOT be detected if I use within / contains"
   ]
  },
  {
   "cell_type": "code",
   "execution_count": null,
   "id": "560e2e75-fdbc-44b8-a86c-5dc4b8a81f28",
   "metadata": {
    "id": "560e2e75-fdbc-44b8-a86c-5dc4b8a81f28"
   },
   "outputs": [],
   "source": [
    "## within should return no rows\n",
    "gpd.sjoin(aRDJ_borderPoint,Rio,\n",
    "          how='inner', predicate='within')"
   ]
  },
  {
   "cell_type": "code",
   "execution_count": null,
   "id": "6bc8e82c-7988-4fdf-b8d3-34fb8bfe8645",
   "metadata": {
    "id": "6bc8e82c-7988-4fdf-b8d3-34fb8bfe8645"
   },
   "outputs": [],
   "source": [
    "## contains should return no rows\n",
    "gpd.sjoin(Rio,aRDJ_borderPoint,\n",
    "          how='inner', predicate='contains')"
   ]
  },
  {
   "cell_type": "markdown",
   "id": "74e7d374-e2b7-4645-bf8d-a9fabaea19d4",
   "metadata": {
    "id": "74e7d374-e2b7-4645-bf8d-a9fabaea19d4"
   },
   "source": [
    "We knew this:"
   ]
  },
  {
   "cell_type": "code",
   "execution_count": null,
   "id": "2fc71c37-07df-4406-bf38-8dfb1fabf8b2",
   "metadata": {
    "id": "2fc71c37-07df-4406-bf38-8dfb1fabf8b2"
   },
   "outputs": [],
   "source": [
    "# we need crs4326 for explore:\n",
    "aRDJ_borderPoint_latlon = aRDJ_borderPoint.to_crs(4326).geometry.iloc[0]\n",
    "\n",
    "base=Rio.explore(zoom_start=20,location=[aRDJ_borderPoint_latlon.y, aRDJ_borderPoint_latlon.x])\n",
    "aRDJ_borderPoint.explore(m=base, color='red')"
   ]
  },
  {
   "cell_type": "markdown",
   "id": "fa2ca902-c593-4b74-a33a-8169a49c0250",
   "metadata": {
    "id": "fa2ca902-c593-4b74-a33a-8169a49c0250"
   },
   "source": [
    "### d. Touches\n",
    "\n",
    "We also have 'touches', a more stringent predicate than 'intersects'. It returns geometries that:\n",
    " - Share a only a border (for polygons or lines), or\n",
    " - Have only one tangent point in common.\n",
    "\n",
    "> Which states are neighbors of 'BAHIA\", including BAHIA"
   ]
  },
  {
   "cell_type": "code",
   "execution_count": null,
   "id": "9c2276e2-4e96-43b3-ab33-45f90eeea7fc",
   "metadata": {
    "id": "9c2276e2-4e96-43b3-ab33-45f90eeea7fc"
   },
   "outputs": [],
   "source": [
    "# Neighbors of Bahia?\n",
    "gpd.sjoin(N_brazil.loc[N_brazil.state_name=='Bahia',:],N_brazil,how='inner', predicate='intersects').shape"
   ]
  },
  {
   "cell_type": "markdown",
   "id": "f862a19d-e5ec-4268-b126-dcbab84693c3",
   "metadata": {
    "id": "f862a19d-e5ec-4268-b126-dcbab84693c3"
   },
   "source": [
    "That is, Bahia seems to share borders with 5 states:"
   ]
  },
  {
   "cell_type": "code",
   "execution_count": null,
   "id": "65d81e9d-b406-47de-9b06-dd26ed2b58d7",
   "metadata": {
    "id": "65d81e9d-b406-47de-9b06-dd26ed2b58d7"
   },
   "outputs": [],
   "source": [
    "base=gpd.sjoin(N_brazil,N_brazil.loc[N_brazil.state_name=='Bahia',:],\n",
    "               how='inner',\n",
    "               predicate='intersects').plot(color='yellow',edgecolor='red')\n",
    "N_brazil.loc[N_brazil.state_name=='Bahia',:].plot(ax=base, color='red')"
   ]
  },
  {
   "cell_type": "markdown",
   "id": "bbe020a9-92cf-40de-8eab-2edb5d9088ee",
   "metadata": {
    "id": "bbe020a9-92cf-40de-8eab-2edb5d9088ee"
   },
   "source": [
    "However, because many free GeoDataFrames — especially those sourced as Shapefiles — contain topological imperfections like gaps, overlaps, or misaligned vertices, 'touches' often fails to detect what should be adjacent features. Ironically, this “failure” can be useful: 'touches' acts as a diagnostic tool — highlighting where boundaries are not perfectly aligned."
   ]
  },
  {
   "cell_type": "code",
   "execution_count": null,
   "id": "a2fcd8fc-b227-40c4-860e-c6367385d980",
   "metadata": {
    "id": "a2fcd8fc-b227-40c4-860e-c6367385d980"
   },
   "outputs": [],
   "source": [
    "gpd.sjoin(N_brazil.loc[N_brazil.state_name=='Bahia',:],N_brazil,how='inner', predicate='touches').shape"
   ]
  },
  {
   "cell_type": "markdown",
   "id": "a78b37ed-372c-48db-ad41-193e70866a5c",
   "metadata": {
    "id": "a78b37ed-372c-48db-ad41-193e70866a5c"
   },
   "source": [
    "See the neighbor that disappears:"
   ]
  },
  {
   "cell_type": "code",
   "execution_count": null,
   "id": "0f7315ce-674e-4ed4-a3ea-c302d5bbdd8b",
   "metadata": {
    "id": "0f7315ce-674e-4ed4-a3ea-c302d5bbdd8b"
   },
   "outputs": [],
   "source": [
    "base=gpd.sjoin(N_brazil,N_brazil.loc[N_brazil.state_name=='Bahia',:],\n",
    "               how='inner',\n",
    "               predicate='touches').plot(color='yellow',edgecolor='red')\n",
    "N_brazil.loc[N_brazil.state_name=='Bahia',:].plot(ax=base, color='red')"
   ]
  },
  {
   "cell_type": "markdown",
   "id": "542dcd95-0a36-4d83-8216-13a7da41b41e",
   "metadata": {
    "id": "542dcd95-0a36-4d83-8216-13a7da41b41e"
   },
   "source": [
    "### e. Crosses\n",
    "\n",
    "When we have **lines**, we may need **crosses**. Let me subset our rivers:"
   ]
  },
  {
   "cell_type": "code",
   "execution_count": null,
   "id": "d74706f6-8eb3-4d5a-a5ad-00b896a0738c",
   "metadata": {
    "id": "d74706f6-8eb3-4d5a-a5ad-00b896a0738c"
   },
   "outputs": [],
   "source": [
    "amazonSystem=rivers_brazil5880[rivers_brazil5880.SYSTEM=='Amazon']\n",
    "amazonSystem.set_index('RIVER',inplace=True)"
   ]
  },
  {
   "cell_type": "markdown",
   "id": "06bf70f4-9fa3-4d2c-bb19-099e0317641b",
   "metadata": {
    "id": "06bf70f4-9fa3-4d2c-bb19-099e0317641b"
   },
   "source": [
    "Then,\n",
    "> Which rivers from the Amazon system are intersecting states?"
   ]
  },
  {
   "cell_type": "code",
   "execution_count": null,
   "id": "4b255e2d-1410-47c5-ae3a-936757b47152",
   "metadata": {
    "id": "4b255e2d-1410-47c5-ae3a-936757b47152"
   },
   "outputs": [],
   "source": [
    "gpd.sjoin(amazonSystem,states_brazil5880,how='inner', predicate='intersects')"
   ]
  },
  {
   "cell_type": "markdown",
   "id": "4e3fd7eb-bf69-4f62-8f85-93f4a6e908bc",
   "metadata": {
    "id": "4e3fd7eb-bf69-4f62-8f85-93f4a6e908bc"
   },
   "source": [
    "A count of the result:"
   ]
  },
  {
   "cell_type": "code",
   "execution_count": null,
   "id": "96be5973-9fea-45d3-a6de-a8a6ff7b868a",
   "metadata": {
    "id": "96be5973-9fea-45d3-a6de-a8a6ff7b868a"
   },
   "outputs": [],
   "source": [
    "gpd.sjoin(amazonSystem,states_brazil5880,how='inner', predicate='intersects').shape"
   ]
  },
  {
   "cell_type": "markdown",
   "id": "ea5546ab-0870-406a-9ef6-dff58b69ad03",
   "metadata": {
    "id": "ea5546ab-0870-406a-9ef6-dff58b69ad03"
   },
   "source": [
    "Alternatively,\n",
    "\n",
    "> Which rivers from the Amazon system are crossing states?"
   ]
  },
  {
   "cell_type": "code",
   "execution_count": null,
   "id": "ebd2b4be-3b5f-47d4-b42d-e4a4d0a0f6ad",
   "metadata": {
    "id": "ebd2b4be-3b5f-47d4-b42d-e4a4d0a0f6ad"
   },
   "outputs": [],
   "source": [
    "gpd.sjoin(amazonSystem,states_brazil5880,how='inner', predicate='crosses')"
   ]
  },
  {
   "cell_type": "markdown",
   "id": "0d8dd114-c458-4e54-8abf-34bf9d7c0ba8",
   "metadata": {
    "id": "0d8dd114-c458-4e54-8abf-34bf9d7c0ba8"
   },
   "source": [
    "You got one less:"
   ]
  },
  {
   "cell_type": "code",
   "execution_count": null,
   "id": "80662036-9e9a-47b3-af64-8287707c95ed",
   "metadata": {
    "id": "80662036-9e9a-47b3-af64-8287707c95ed"
   },
   "outputs": [],
   "source": [
    "gpd.sjoin(amazonSystem,states_brazil5880,how='inner', predicate='crosses').shape"
   ]
  },
  {
   "cell_type": "markdown",
   "id": "49f10269-28e7-4ec2-851c-d8b8acacb161",
   "metadata": {
    "id": "49f10269-28e7-4ec2-851c-d8b8acacb161"
   },
   "source": [
    "Again, _intersects_ means both geometries have some 'space' in common. But **crosses** is an intersection that has to cross the spatial object. From the result above, there is one river that shares space with the state, but is not crossing its border:"
   ]
  },
  {
   "cell_type": "code",
   "execution_count": null,
   "id": "1ce5511d-bcfe-4008-9989-6c349685a83a",
   "metadata": {
    "id": "1ce5511d-bcfe-4008-9989-6c349685a83a"
   },
   "outputs": [],
   "source": [
    "# Get intersects result\n",
    "intersects_result = gpd.sjoin(amazonSystem,states_brazil5880, how='inner', predicate='intersects')\n",
    "intersects_result"
   ]
  },
  {
   "cell_type": "code",
   "execution_count": null,
   "id": "9f702482-0263-498b-bd87-49686f5d00ba",
   "metadata": {
    "id": "9f702482-0263-498b-bd87-49686f5d00ba"
   },
   "outputs": [],
   "source": [
    "# Get crosses result\n",
    "crosses_result = gpd.sjoin(amazonSystem,states_brazil5880, how='inner', predicate='crosses')\n",
    "crosses_result"
   ]
  },
  {
   "cell_type": "code",
   "execution_count": null,
   "id": "3bda6206-14b8-4d32-822e-9dc599e1a8c4",
   "metadata": {
    "id": "3bda6206-14b8-4d32-822e-9dc599e1a8c4"
   },
   "outputs": [],
   "source": [
    "river_notCrossing=list(set(intersects_result.index)-set(crosses_result.index))\n",
    "river_notCrossing"
   ]
  },
  {
   "cell_type": "code",
   "execution_count": null,
   "id": "ac682687-f791-47ca-b6d1-86fb80ba6eef",
   "metadata": {
    "id": "ac682687-f791-47ca-b6d1-86fb80ba6eef"
   },
   "outputs": [],
   "source": [
    "# Find indexes/columns\n",
    "state_notCrossed=intersects_result.loc[river_notCrossing,'state_name'].to_list()\n",
    "state_notCrossed"
   ]
  },
  {
   "cell_type": "markdown",
   "id": "98684eea-ab6b-42f8-8afa-d66000fd0c17",
   "metadata": {
    "id": "98684eea-ab6b-42f8-8afa-d66000fd0c17"
   },
   "source": [
    "Now we know the river that is not crossing an state, and the name of that state."
   ]
  },
  {
   "cell_type": "code",
   "execution_count": null,
   "id": "06cc6736-5808-41c8-8062-5f72527c8cdb",
   "metadata": {
    "id": "06cc6736-5808-41c8-8062-5f72527c8cdb"
   },
   "outputs": [],
   "source": [
    "base=states_brazil5880.loc[state_notCrossed,:].plot(color='w',edgecolor='k',figsize=(12, 8))\n",
    "amazonSystem.plot(ax=base)\n",
    "amazonSystem.loc[river_notCrossing,:].plot(color='red',ax=base)\n"
   ]
  },
  {
   "cell_type": "markdown",
   "id": "aff9f8ed-ce13-4c36-a219-ae4d5f2d0b83",
   "metadata": {
    "id": "aff9f8ed-ce13-4c36-a219-ae4d5f2d0b83"
   },
   "source": [
    "## IV. Spatial Overlay\n",
    "\n",
    "As the name implies, you need two inputs. We might need to create or find some geometries from the geometries we already have. Using a set theory approach, we will see the use of _intersection_, _union_, _difference_, and _symmetric difference_.\n",
    "Let's remember these results:"
   ]
  },
  {
   "cell_type": "code",
   "execution_count": null,
   "id": "a264444a-0383-48b8-b52d-b4ad3119b260",
   "metadata": {
    "id": "a264444a-0383-48b8-b52d-b4ad3119b260"
   },
   "outputs": [],
   "source": [
    "# Create a figure and a 2x2 grid of axes\n",
    "import matplotlib.pyplot as plt\n",
    "fig, axes = plt.subplots(nrows=2, ncols=2, figsize=(12, 10))\n",
    "axes = axes.flatten()\n",
    "\n",
    "N_brazil.plot(color='pink',edgecolor='k',ax=axes[0])\n",
    "axes[0].set_title(\"1. North\")\n",
    "\n",
    "S_brazil.plot(color='pink',edgecolor='k',ax=axes[1])\n",
    "axes[1].set_title(\"2. South\")\n",
    "\n",
    "W_brazil.plot(color='pink',edgecolor='k',ax=axes[2])\n",
    "axes[2].set_title(\"3. West\")\n",
    "\n",
    "E_brazil.plot(color='pink',edgecolor='k',ax=axes[3])\n",
    "axes[3].set_title(\"4. East\")\n",
    "\n",
    "plt.show()"
   ]
  },
  {
   "cell_type": "markdown",
   "id": "8e770e96-da53-412d-8ab5-70e186c62f53",
   "metadata": {
    "id": "8e770e96-da53-412d-8ab5-70e186c62f53"
   },
   "source": [
    "Let's play with these GDFs, keep in mind the position of the GDFs:\n",
    "\n",
    "```\n",
    "GDFleft.overlay(GDFright, ...)\n",
    "```"
   ]
  },
  {
   "cell_type": "markdown",
   "id": "b751684b-270f-4b3a-9b7d-d51ae7f2b641",
   "metadata": {
    "id": "b751684b-270f-4b3a-9b7d-d51ae7f2b641"
   },
   "source": [
    "### a. Intersection\n",
    "\n",
    "We keep what is common between _left_ and _right_ GDFs.\n",
    "\n",
    "> Intersection of North and South"
   ]
  },
  {
   "cell_type": "code",
   "execution_count": null,
   "id": "43047a28-d7ac-4c99-9ebc-6629fe10ab11",
   "metadata": {
    "id": "43047a28-d7ac-4c99-9ebc-6629fe10ab11"
   },
   "outputs": [],
   "source": [
    "NS_brazil=N_brazil.overlay(S_brazil, how=\"intersection\",keep_geom_type=True)\n",
    "NS_brazil.plot(color='pink',edgecolor='k')"
   ]
  },
  {
   "cell_type": "markdown",
   "id": "f31e1a0d-2685-43cc-8328-7414a2cbe0ec",
   "metadata": {
    "id": "f31e1a0d-2685-43cc-8328-7414a2cbe0ec"
   },
   "source": [
    "> Intersection of West and East"
   ]
  },
  {
   "cell_type": "code",
   "execution_count": null,
   "id": "39a07a96-ff42-4ddc-9f80-6f93d315c8b1",
   "metadata": {
    "id": "39a07a96-ff42-4ddc-9f80-6f93d315c8b1"
   },
   "outputs": [],
   "source": [
    "WE_brazil=W_brazil.overlay(E_brazil, how=\"intersection\",keep_geom_type=True)\n",
    "WE_brazil.plot(color='pink',edgecolor='k')"
   ]
  },
  {
   "cell_type": "markdown",
   "id": "ec14306e-6c6e-4759-88e0-66a02b4294ec",
   "metadata": {
    "id": "ec14306e-6c6e-4759-88e0-66a02b4294ec"
   },
   "source": [
    "### b. Union\n",
    "\n",
    "In the union overlay, we do not return dissolved geometries. Instead, we return a complete set of new geometries that represent every unique spatial combination of the two input GeoDataFrames. The resulting GeoDataFrame will contain the columns from both GDFs, and the row count will be the sum of all parts of A, all parts of B, and the newly created intersection parts, potentially inflated by topological flaws\n"
   ]
  },
  {
   "cell_type": "markdown",
   "id": "21dbcb9e-2130-40f1-8261-4b386fd63673",
   "metadata": {
    "id": "21dbcb9e-2130-40f1-8261-4b386fd63673"
   },
   "source": [
    "> Unite the West/East intersection with the North/South intersection"
   ]
  },
  {
   "cell_type": "code",
   "execution_count": null,
   "id": "5dfab57c-04e5-468d-b60a-0cc82ddeb1de",
   "metadata": {
    "id": "5dfab57c-04e5-468d-b60a-0cc82ddeb1de"
   },
   "outputs": [],
   "source": [
    "mid_Brazil=NS_brazil.overlay(WE_brazil,how=\"union\",keep_geom_type=True)\n",
    "mid_Brazil.plot(color='pink',edgecolor='k')"
   ]
  },
  {
   "cell_type": "markdown",
   "id": "bd80963c-3d9e-4708-af62-6d19149a6a4b",
   "metadata": {
    "id": "bd80963c-3d9e-4708-af62-6d19149a6a4b"
   },
   "source": [
    "### c. Difference\n",
    "\n",
    "Here, you keep what belongs to the left GDF that is not in the right GDF.\n",
    "\n",
    "> Keep nothern states that are not in the southern ones"
   ]
  },
  {
   "cell_type": "code",
   "execution_count": null,
   "id": "667a9eeb-dadb-4fcf-9c67-23ce0f6da08a",
   "metadata": {
    "id": "667a9eeb-dadb-4fcf-9c67-23ce0f6da08a"
   },
   "outputs": [],
   "source": [
    "NS_diff_brazil=N_brazil.overlay(S_brazil, how='difference')\n",
    "NS_diff_brazil.plot(color='pink',edgecolor='k')"
   ]
  },
  {
   "cell_type": "markdown",
   "id": "8170b033-0707-43e8-b4ee-dca39e46f17a",
   "metadata": {
    "id": "8170b033-0707-43e8-b4ee-dca39e46f17a"
   },
   "source": [
    "### d. Symmetric Difference"
   ]
  },
  {
   "cell_type": "markdown",
   "id": "5f2728ec-f142-47a9-8de2-a65fef18680f",
   "metadata": {
    "id": "5f2728ec-f142-47a9-8de2-a65fef18680f"
   },
   "source": [
    "Here, we keep what is not in the intersection but in both GDFs.\n",
    "\n",
    "> Unite Northern and Southern states, but keep states that are not in their intersection."
   ]
  },
  {
   "cell_type": "code",
   "execution_count": null,
   "id": "1a3e81f0-3f80-4a88-98c7-5f6611c50cfe",
   "metadata": {
    "id": "1a3e81f0-3f80-4a88-98c7-5f6611c50cfe"
   },
   "outputs": [],
   "source": [
    "NS_simdiff_brazil=N_brazil.overlay(S_brazil, how='symmetric_difference')\n",
    "NS_simdiff_brazil.plot(color='pink',edgecolor='k')"
   ]
  },
  {
   "cell_type": "markdown",
   "id": "7caa0e58",
   "metadata": {
    "id": "7caa0e58"
   },
   "source": [
    "\n",
    "_____________\n",
    "\n",
    "\n",
    "### e. Cleaning and Overlay\n",
    "\n",
    "Overlay and SJoin differ in that overlay, as it creates geometries, may not output clean results. Not because overlay fault, but due to the quality of the original maps.\n"
   ]
  },
  {
   "cell_type": "markdown",
   "id": "2317badb-dae3-4e00-a7fa-de3a157fbe1c",
   "metadata": {
    "id": "2317badb-dae3-4e00-a7fa-de3a157fbe1c"
   },
   "source": [
    "Let me use the **intersection** as our topological detective."
   ]
  },
  {
   "cell_type": "markdown",
   "id": "48df2aa6-d0f3-4568-aee9-7fa2a163fe59",
   "metadata": {
    "id": "48df2aa6-d0f3-4568-aee9-7fa2a163fe59"
   },
   "source": [
    "- **Using set operations**: What are the common states between northern and souther states."
   ]
  },
  {
   "cell_type": "code",
   "execution_count": null,
   "id": "b595dde9-ed0f-4ff1-babb-e95068a63423",
   "metadata": {
    "id": "b595dde9-ed0f-4ff1-babb-e95068a63423"
   },
   "outputs": [],
   "source": [
    "setIntersection=set(N_brazil.state_name) & set(S_brazil.state_name)\n",
    "\n",
    "# how many, which are they\n",
    "len(setIntersection),setIntersection"
   ]
  },
  {
   "cell_type": "markdown",
   "id": "ccfe4249-53e5-4b7d-922f-7f6af1bfca52",
   "metadata": {
    "id": "ccfe4249-53e5-4b7d-922f-7f6af1bfca52"
   },
   "source": [
    "- **The spatial overlay with keep_geom_type as True**:"
   ]
  },
  {
   "cell_type": "code",
   "execution_count": null,
   "id": "f6c71c71-f9d1-4a3d-b03e-d3a492ddb2e7",
   "metadata": {
    "id": "f6c71c71-f9d1-4a3d-b03e-d3a492ddb2e7"
   },
   "outputs": [],
   "source": [
    "NS_brazil_T=N_brazil.overlay(S_brazil, how=\"intersection\",keep_geom_type=True)\n",
    "\n",
    "# different from 8 (see above)\n",
    "NS_brazil_T.shape[0]"
   ]
  },
  {
   "cell_type": "markdown",
   "id": "fddbd82c-4126-4867-ba1b-f73c4c97d560",
   "metadata": {
    "id": "fddbd82c-4126-4867-ba1b-f73c4c97d560"
   },
   "source": [
    "- **The spatial overlay with keep_geom_type as False**:"
   ]
  },
  {
   "cell_type": "code",
   "execution_count": null,
   "id": "0b18044b-7735-4c95-bf90-08234055f34d",
   "metadata": {
    "id": "0b18044b-7735-4c95-bf90-08234055f34d"
   },
   "outputs": [],
   "source": [
    "NS_brazil_F=N_brazil.overlay(S_brazil, how=\"intersection\",keep_geom_type=False)\n",
    "\n",
    "# different from 8 and 11 (see above)\n",
    "NS_brazil_F.shape[0]"
   ]
  },
  {
   "cell_type": "markdown",
   "id": "fa1c156d-d1f5-41e9-8374-f7bc93529a38",
   "metadata": {
    "id": "fa1c156d-d1f5-41e9-8374-f7bc93529a38"
   },
   "source": [
    "As you see, the intersection that we plotted before had several topological issues we could not see with bare eyes. There were several **additional** geometries that represent flaws. When we used \"keep_geom_type=True\" the results were polygons (left GDF geometries were polygons); but when we asked \"keep_geom_type=False\" the result may include polygons and more (even collections). Let's see this last case:"
   ]
  },
  {
   "cell_type": "code",
   "execution_count": null,
   "id": "7f1b0650-dea5-4362-9915-f58cf7da8706",
   "metadata": {
    "id": "7f1b0650-dea5-4362-9915-f58cf7da8706"
   },
   "outputs": [],
   "source": [
    "NS_brazil_F.geometry.geom_type.value_counts()"
   ]
  },
  {
   "cell_type": "markdown",
   "id": "c26ff82d-cb26-4c18-8b6f-f89e09bd85fc",
   "metadata": {
    "id": "c26ff82d-cb26-4c18-8b6f-f89e09bd85fc"
   },
   "source": [
    "> Can this be fixed?"
   ]
  },
  {
   "cell_type": "markdown",
   "id": "2eb98b61-73c2-4474-8770-1d96f92f03d6",
   "metadata": {
    "id": "2eb98b61-73c2-4474-8770-1d96f92f03d6"
   },
   "source": [
    "Let's see what can be done:\n",
    "\n",
    "- review the previous intersection:"
   ]
  },
  {
   "cell_type": "code",
   "execution_count": null,
   "id": "50778adb-882d-4f02-8293-c6af28dd8942",
   "metadata": {
    "id": "50778adb-882d-4f02-8293-c6af28dd8942"
   },
   "outputs": [],
   "source": [
    "NS_brazil_T"
   ]
  },
  {
   "cell_type": "markdown",
   "id": "efb09511-d995-4d38-92ef-4fc3ea018208",
   "metadata": {
    "id": "efb09511-d995-4d38-92ef-4fc3ea018208"
   },
   "source": [
    "- Detect problematic rows"
   ]
  },
  {
   "cell_type": "code",
   "execution_count": null,
   "id": "6674f874-d8df-4d4f-9786-dca6571d46c2",
   "metadata": {
    "id": "6674f874-d8df-4d4f-9786-dca6571d46c2"
   },
   "outputs": [],
   "source": [
    "NS_brazil_T[NS_brazil_T.state_name_1!=NS_brazil_T.state_name_2]"
   ]
  },
  {
   "cell_type": "markdown",
   "id": "0d4de83e-03db-4215-8680-8af8c7291b1c",
   "metadata": {
    "id": "0d4de83e-03db-4215-8680-8af8c7291b1c"
   },
   "source": [
    "Pernambuco and Minas Gerais must have some of their points \"invading\" Bahia and  Alagoas polygon. The strategy here is that Bahia and Aalagoas will not push away the invading points, but to 'abandon' the area in conflict (difference) for the sake of clean limits (dissolve).\n",
    "\n",
    "- We need to work with the original states. Let's make a copy of them before cleaning:"
   ]
  },
  {
   "cell_type": "code",
   "execution_count": null,
   "id": "c260c5af-9a0c-4a6e-a7e0-135cd4945f20",
   "metadata": {
    "id": "c260c5af-9a0c-4a6e-a7e0-135cd4945f20"
   },
   "outputs": [],
   "source": [
    "states_brazil_clean=states_brazil5880.copy()\n",
    "states_brazil_clean.head()"
   ]
  },
  {
   "cell_type": "markdown",
   "id": "740bfa34-9ecd-4450-8285-3d4a6a8147ce",
   "metadata": {
    "id": "740bfa34-9ecd-4450-8285-3d4a6a8147ce"
   },
   "source": [
    "- Let's dissolve Pernambuco and Minas Gerais, the invaders:"
   ]
  },
  {
   "cell_type": "code",
   "execution_count": null,
   "id": "e5011dc4-aecf-47aa-877a-0df9aea75723",
   "metadata": {
    "id": "e5011dc4-aecf-47aa-877a-0df9aea75723"
   },
   "outputs": [],
   "source": [
    "alienStates=[\"Minas Gerais\",\"Pernambuco\"]\n",
    "alienUnion_GDF=states_brazil_clean[states_brazil_clean.index.isin(alienStates)].dissolve()\n",
    "alienUnion_GDF"
   ]
  },
  {
   "cell_type": "markdown",
   "id": "339e349e-e349-4185-9d75-ec2823d24250",
   "metadata": {
    "id": "339e349e-e349-4185-9d75-ec2823d24250"
   },
   "source": [
    "- Keep the states to be cleaned from the 'alienStates', no dissolving - just filtering:"
   ]
  },
  {
   "cell_type": "code",
   "execution_count": null,
   "id": "731db026-fb18-4119-961f-2fad3ecf1579",
   "metadata": {
    "id": "731db026-fb18-4119-961f-2fad3ecf1579"
   },
   "outputs": [],
   "source": [
    "forCleaning=[\"Alagoas\",\"Bahia\"] #order matters\n",
    "forCleaning_GDF=states_brazil_clean[states_brazil_clean.index.isin(forCleaning)]\n",
    "forCleaning_GDF"
   ]
  },
  {
   "cell_type": "markdown",
   "id": "409417c6-71eb-43e4-8856-846a1afb4cd8",
   "metadata": {
    "id": "409417c6-71eb-43e4-8856-846a1afb4cd8"
   },
   "source": [
    "- Recreate boundaries, so that no intersection occurs... do you see different values in geometry column now?"
   ]
  },
  {
   "cell_type": "code",
   "execution_count": null,
   "id": "17486e7c-5b7c-4815-8196-b7271954274b",
   "metadata": {
    "id": "17486e7c-5b7c-4815-8196-b7271954274b"
   },
   "outputs": [],
   "source": [
    "recreatedPolygons=forCleaning_GDF.overlay(alienUnion_GDF,how=\"difference\",keep_geom_type=False).dissolve(by=\"state_code\")\n",
    "recreatedPolygons"
   ]
  },
  {
   "cell_type": "markdown",
   "id": "7376bdf4-61cc-4d01-8a50-209b57f6d6a5",
   "metadata": {
    "id": "7376bdf4-61cc-4d01-8a50-209b57f6d6a5"
   },
   "source": [
    "- Replace old geometries with recent values.\n",
    "\n",
    "This is a sensible moment: You need to change just the geometry cells, not the whole rows:"
   ]
  },
  {
   "cell_type": "code",
   "execution_count": null,
   "id": "71c89b70-031d-4061-bd5b-a6f57d390836",
   "metadata": {
    "id": "71c89b70-031d-4061-bd5b-a6f57d390836"
   },
   "outputs": [],
   "source": [
    "#old values\n",
    "states_brazil_clean.loc[forCleaning,'geometry']"
   ]
  },
  {
   "cell_type": "code",
   "execution_count": null,
   "id": "5a767042-4403-4f12-a0ac-9f44420f27ce",
   "metadata": {
    "id": "5a767042-4403-4f12-a0ac-9f44420f27ce"
   },
   "outputs": [],
   "source": [
    "#new values - notice order\n",
    "recreatedPolygons.geometry"
   ]
  },
  {
   "cell_type": "code",
   "execution_count": null,
   "id": "5b089f7c-5f40-4e37-9f5d-9bda3173e71a",
   "metadata": {
    "id": "5b089f7c-5f40-4e37-9f5d-9bda3173e71a"
   },
   "outputs": [],
   "source": [
    "# but use this for replacement\n",
    "recreatedPolygons.geometry.values"
   ]
  },
  {
   "cell_type": "markdown",
   "id": "c13320c0-3d74-402f-9f93-2afd18208737",
   "metadata": {
    "id": "c13320c0-3d74-402f-9f93-2afd18208737"
   },
   "source": [
    "Then,"
   ]
  },
  {
   "cell_type": "code",
   "execution_count": null,
   "id": "a7ae59e8-d098-47c2-a53b-80ac59db0b67",
   "metadata": {
    "id": "a7ae59e8-d098-47c2-a53b-80ac59db0b67"
   },
   "outputs": [],
   "source": [
    "states_brazil_clean.loc[forCleaning,'geometry']=recreatedPolygons.geometry.values\n",
    "\n",
    "#see\n",
    "states_brazil_clean.loc[forCleaning,'geometry']"
   ]
  },
  {
   "cell_type": "markdown",
   "id": "6e402082-c8d7-4703-be6b-ba4dc6fa18fc",
   "metadata": {
    "id": "6e402082-c8d7-4703-be6b-ba4dc6fa18fc"
   },
   "source": [
    "- We need to recreate northern and southern GDFs, let's redo the four ones at once:"
   ]
  },
  {
   "cell_type": "code",
   "execution_count": null,
   "id": "d011b48d-5e8a-4588-8533-1a69f9ec81a2",
   "metadata": {
    "id": "d011b48d-5e8a-4588-8533-1a69f9ec81a2"
   },
   "outputs": [],
   "source": [
    "# the north\n",
    "N_brazil_clean=states_brazil_clean.reset_index().cx[:,mid_y:]\n",
    "# the south\n",
    "S_brazil_clean=states_brazil_clean.reset_index().cx[:,:mid_y]\n",
    "# the west\n",
    "W_brazil_clean=states_brazil_clean.reset_index().cx[:mid_x,:]\n",
    "# the east\n",
    "E_brazil_clean=states_brazil_clean.reset_index().cx[mid_x:,:]"
   ]
  },
  {
   "cell_type": "markdown",
   "id": "d355265c-af33-4272-87a8-b934e2d0689b",
   "metadata": {
    "id": "d355265c-af33-4272-87a8-b934e2d0689b"
   },
   "source": [
    "- Confirm you have improved the intersection with **keep_geom_type=True**:"
   ]
  },
  {
   "cell_type": "code",
   "execution_count": null,
   "id": "57876151-3f62-4eb3-bf31-650234137342",
   "metadata": {
    "id": "57876151-3f62-4eb3-bf31-650234137342"
   },
   "outputs": [],
   "source": [
    "N_brazil_clean.overlay(S_brazil_clean, how=\"intersection\",keep_geom_type=True)"
   ]
  },
  {
   "cell_type": "markdown",
   "id": "10d460e4-ccf9-418a-944e-1543b6dc35a2",
   "metadata": {
    "id": "10d460e4-ccf9-418a-944e-1543b6dc35a2"
   },
   "source": [
    "- Confirm you have improved the intersection with **keep_geom_type=False**:"
   ]
  },
  {
   "cell_type": "code",
   "execution_count": null,
   "id": "23c14cef-7359-40ea-a1fc-4012d404d261",
   "metadata": {
    "id": "23c14cef-7359-40ea-a1fc-4012d404d261"
   },
   "outputs": [],
   "source": [
    "N_brazil_clean.overlay(S_brazil_clean, how=\"intersection\",keep_geom_type=False).geometry.geom_type.value_counts()"
   ]
  },
  {
   "cell_type": "markdown",
   "id": "dd161eb9-0f58-467a-8c3b-75b62a23bbe5",
   "metadata": {
    "id": "dd161eb9-0f58-467a-8c3b-75b62a23bbe5"
   },
   "source": [
    "All this work did help. But remember while we cleaned the neighborhood issues between 4 states, cleaning 2 of them there might be more cleaning remaining."
   ]
  },
  {
   "cell_type": "markdown",
   "id": "52cc6720-acce-41c0-935a-5acc3c667e35",
   "metadata": {
    "id": "52cc6720-acce-41c0-935a-5acc3c667e35"
   },
   "source": [
    "**What about** union?\n",
    "\n",
    "The _mid_Brazil_ had these many geometries (rows):"
   ]
  },
  {
   "cell_type": "code",
   "execution_count": null,
   "id": "af2a7335-b79b-4c11-8ee5-4e62feb9369e",
   "metadata": {
    "id": "af2a7335-b79b-4c11-8ee5-4e62feb9369e"
   },
   "outputs": [],
   "source": [
    "len(mid_Brazil)"
   ]
  },
  {
   "cell_type": "markdown",
   "id": "28f44117-80c7-43f6-bb99-4cf458a70f03",
   "metadata": {
    "id": "28f44117-80c7-43f6-bb99-4cf458a70f03"
   },
   "source": [
    "Just using sets, this is the target count:"
   ]
  },
  {
   "cell_type": "code",
   "execution_count": null,
   "id": "33cf6d95-1006-4d39-9160-6a2ccde3016a",
   "metadata": {
    "id": "33cf6d95-1006-4d39-9160-6a2ccde3016a"
   },
   "outputs": [],
   "source": [
    "interNS=set(N_brazil_clean.state_name)&set(S_brazil_clean.state_name)\n",
    "interEW=set(E_brazil_clean.state_name)&set(W_brazil_clean.state_name)\n",
    "union_interNSEW=interNS|interEW\n",
    "len(union_interNSEW)"
   ]
  },
  {
   "cell_type": "markdown",
   "id": "5849eace-8aed-4e77-aede-f1139d211e73",
   "metadata": {
    "id": "5849eace-8aed-4e77-aede-f1139d211e73"
   },
   "source": [
    "Let's recreate intersection to recreate a clean mid Brazil:"
   ]
  },
  {
   "cell_type": "code",
   "execution_count": null,
   "id": "dd6e9be1-e150-4a40-b6e2-03f41d3633e3",
   "metadata": {
    "id": "dd6e9be1-e150-4a40-b6e2-03f41d3633e3"
   },
   "outputs": [],
   "source": [
    "NS_brazil_clean=N_brazil_clean.overlay(S_brazil_clean, how=\"intersection\",keep_geom_type=True)\n",
    "EW_brazil_clean=E_brazil_clean.overlay(W_brazil_clean, how=\"intersection\",keep_geom_type=True)\n",
    "\n",
    "# then\n",
    "mid_Brazil_clean=NS_brazil_clean.overlay(EW_brazil_clean,how=\"union\",keep_geom_type=True)\n",
    "\n",
    "# count\n",
    "len(mid_Brazil_clean)"
   ]
  },
  {
   "cell_type": "markdown",
   "id": "d48f14b9-78eb-4381-8ead-f82c22c15efa",
   "metadata": {
    "id": "d48f14b9-78eb-4381-8ead-f82c22c15efa"
   },
   "source": [
    "Again, we had improved, but you realize there is still more cleaning to do.\n",
    "\n",
    "Finally, let's check the recent result:"
   ]
  },
  {
   "cell_type": "code",
   "execution_count": null,
   "id": "4fc3ec85-00f7-48db-a766-149cad4a7b4c",
   "metadata": {
    "id": "4fc3ec85-00f7-48db-a766-149cad4a7b4c"
   },
   "outputs": [],
   "source": [
    "mid_Brazil_clean"
   ]
  },
  {
   "cell_type": "markdown",
   "id": "2764a544-f086-41a0-b87b-19ce9525debc",
   "metadata": {
    "id": "2764a544-f086-41a0-b87b-19ce9525debc"
   },
   "source": [
    "The UNION overlay is a simple idea. But the result above does not seem friendly.\n",
    "\n",
    "Let's recreat this GDF from previous steps:"
   ]
  },
  {
   "cell_type": "code",
   "execution_count": null,
   "id": "208960f9-5827-4fdb-9278-5b1f4b4169f6",
   "metadata": {
    "id": "208960f9-5827-4fdb-9278-5b1f4b4169f6"
   },
   "outputs": [],
   "source": [
    "NS_brazil_clean"
   ]
  },
  {
   "cell_type": "code",
   "execution_count": null,
   "id": "6333fbb5-f6e0-4703-b788-82a9d7053083",
   "metadata": {
    "id": "6333fbb5-f6e0-4703-b788-82a9d7053083"
   },
   "outputs": [],
   "source": [
    "# better format\n",
    "NS_brazil_clean.drop(columns=['state_code_1','state_name_2','state_code_2'],inplace=True)\n",
    "NS_brazil_clean.rename(columns={'state_name_1':'state_name_clean'},inplace=True)\n",
    "# then\n",
    "NS_brazil_clean"
   ]
  },
  {
   "cell_type": "markdown",
   "id": "a4eb8455-12fb-47eb-8e70-a1d8575613e8",
   "metadata": {
    "id": "a4eb8455-12fb-47eb-8e70-a1d8575613e8"
   },
   "source": [
    "Notice this one is not cleaned:"
   ]
  },
  {
   "cell_type": "code",
   "execution_count": null,
   "id": "ba84df5d-2480-4555-b8d4-024a0373cb85",
   "metadata": {
    "id": "ba84df5d-2480-4555-b8d4-024a0373cb85"
   },
   "outputs": [],
   "source": [
    "EW_brazil_clean"
   ]
  },
  {
   "cell_type": "markdown",
   "id": "839824d2-4ced-426a-9d48-3c816865f489",
   "metadata": {
    "id": "839824d2-4ced-426a-9d48-3c816865f489"
   },
   "source": [
    "We will not do the any reformatting as before, since we can not erase columns.\n",
    "\n",
    "Let's see the 'mid' again:"
   ]
  },
  {
   "cell_type": "code",
   "execution_count": null,
   "id": "529bcb4d-dcdd-4f89-ac84-82fb13c3e2e9",
   "metadata": {
    "id": "529bcb4d-dcdd-4f89-ac84-82fb13c3e2e9"
   },
   "outputs": [],
   "source": [
    "mid_Brazil_clean=NS_brazil_clean.overlay(EW_brazil_clean,how=\"union\",keep_geom_type=True)\n",
    "mid_Brazil_clean"
   ]
  },
  {
   "cell_type": "markdown",
   "id": "4630ac7f-d8f5-4f98-b88b-4b3e201cdba3",
   "metadata": {
    "id": "4630ac7f-d8f5-4f98-b88b-4b3e201cdba3"
   },
   "source": [
    "Notice this UNION operation  identifies the intersection in the result. **MATO GROSSO** is present in both.\n",
    "\n",
    "However, missing values were created where no intersection exists. Remember, whatever is not in the intersection of these two, would be the result of **symmetric difference**:"
   ]
  },
  {
   "cell_type": "code",
   "execution_count": null,
   "id": "f34ba4e9-8bc4-45a3-8c8e-a30c2438c209",
   "metadata": {
    "id": "f34ba4e9-8bc4-45a3-8c8e-a30c2438c209"
   },
   "outputs": [],
   "source": [
    "NS_brazil_clean.overlay(EW_brazil_clean,how=\"symmetric_difference\",keep_geom_type=True)"
   ]
  },
  {
   "cell_type": "markdown",
   "id": "b0a0a6b4-d74a-48e8-bc9d-3d619b205900",
   "metadata": {
    "id": "b0a0a6b4-d74a-48e8-bc9d-3d619b205900"
   },
   "source": [
    "As you see, the fact that we have not clean all the geometries affects all these overlay operations."
   ]
  },
  {
   "cell_type": "markdown",
   "id": "75f1fd42-45a2-41d5-a048-7a32d441b217",
   "metadata": {
    "id": "75f1fd42-45a2-41d5-a048-7a32d441b217"
   },
   "source": [
    "**NEXT STEPS**\n",
    "\n",
    "- Cleaning spatial data is not trivial. It is time consuming. We could keep working here to improve this.\n",
    "- We may need to take this fight to QGis or ArcGis to edit the points manually, it gives you more control, but it will affect replicability.\n",
    "- A smart decision would be to get a new map  with a [better quality](https://www.naturalearthdata.com/downloads/110m-cultural-vectors/) - which might also require some money investment."
   ]
  }
 ],
 "metadata": {
  "anaconda-cloud": {
   "attach-environment": true,
   "summary": "test"
  },
  "colab": {
   "provenance": []
  },
  "hide_input": false,
  "jupytext": {
   "cell_metadata_filter": "-all",
   "notebook_metadata_filter": "-all"
  },
  "kernelspec": {
   "display_name": "geo_env",
   "language": "python",
   "name": "geo_env"
  },
  "language_info": {
   "codemirror_mode": {
    "name": "ipython",
    "version": 3
   },
   "file_extension": ".py",
   "mimetype": "text/x-python",
   "name": "python",
   "nbconvert_exporter": "python",
   "pygments_lexer": "ipython3",
   "version": "3.13.5"
  },
  "toc-autonumbering": false
 },
 "nbformat": 4,
 "nbformat_minor": 5
}
