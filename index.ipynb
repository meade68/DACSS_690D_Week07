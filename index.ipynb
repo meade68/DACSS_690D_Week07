{
 "cells": [
  {
   "cell_type": "markdown",
   "id": "f8746832",
   "metadata": {
    "id": "f8746832"
   },
   "source": [
    "<center><img src=\"https://github.com/DACSS-Spatial/data_forSpatial/raw/main/logo.png\" width=\"700\"></center>\n",
    "\n"
   ]
  },
  {
   "cell_type": "markdown",
   "id": "af76d2a2",
   "metadata": {
    "id": "af76d2a2"
   },
   "source": [
    "<a target=\"_blank\" href=\"https://colab.research.google.com/github/DACSS-Spatial/binaryOPS/blob/main/index.ipynb\">\n",
    "  <img src=\"https://colab.research.google.com/assets/colab-badge.svg\" alt=\"Open In Colab\"/>\n",
    "</a>\n",
    "\n",
    "# Binary Spatial operations on  Geo Dataframes\n",
    "\n",
    "This time the spatial operations will be applied when we have as input two GDFs."
   ]
  },
  {
   "cell_type": "markdown",
   "id": "2677ec11-108e-441c-8231-c994d5dcf6a4",
   "metadata": {
    "id": "2677ec11-108e-441c-8231-c994d5dcf6a4"
   },
   "source": [
    "## Getting ready"
   ]
  },
  {
   "cell_type": "markdown",
   "id": "244a5266",
   "metadata": {
    "id": "244a5266"
   },
   "source": [
    "The links to the our maps on GitHub are here:"
   ]
  },
  {
   "cell_type": "code",
   "execution_count": 2,
   "id": "f5bcb405-dfc6-4b14-8499-d9e42805336d",
   "metadata": {
    "id": "f5bcb405-dfc6-4b14-8499-d9e42805336d"
   },
   "outputs": [],
   "source": [
    "mainLink='https://github.com/meade68/DACSS_690D_Week07/raw/refs/heads/main/'\n",
    "\n",
    "linkWorldMap=mainLink + \"WORLD/worldMaps.gpkg\"\n",
    "linkIndicators=mainLink + \"WORLD/worldindicators.json\"\n",
    "linkBrazil=mainLink + \"BRAZIL/brazil_5880.gpkg\"\n"
   ]
  },
  {
   "cell_type": "markdown",
   "id": "7b51c669-0bf7-4d3b-a746-991ff520922c",
   "metadata": {
    "id": "7b51c669-0bf7-4d3b-a746-991ff520922c"
   },
   "source": [
    "Let me introduce another [data source on seaports](https://msi.nga.mil/Publications/WPI). Their locations in long/lat is stored in the file **seaports.csv** which we already have on GitHub:"
   ]
  },
  {
   "cell_type": "code",
   "execution_count": 3,
   "id": "23b37c56-cac3-45d7-b5a4-49012da52263",
   "metadata": {
    "id": "23b37c56-cac3-45d7-b5a4-49012da52263"
   },
   "outputs": [],
   "source": [
    "linkSeaPorts=mainLink + 'WORLD/seaports.csv'"
   ]
  },
  {
   "cell_type": "markdown",
   "id": "e8fb7cf4-1379-49f0-916d-0b3bf5be0c39",
   "metadata": {
    "id": "e8fb7cf4-1379-49f0-916d-0b3bf5be0c39"
   },
   "source": [
    "Let's get some maps:"
   ]
  },
  {
   "cell_type": "code",
   "execution_count": 5,
   "id": "650f1ceb-2e67-487b-92ae-0735c12e9b4c",
   "metadata": {
    "id": "650f1ceb-2e67-487b-92ae-0735c12e9b4c"
   },
   "outputs": [],
   "source": [
    "import geopandas as gpd\n",
    "\n",
    "#world\n",
    "world_rivers=gpd.read_file(linkWorldMap,layer='rivers')\n",
    "#brazil\n",
    "brazil5880=gpd.read_file(linkBrazil,layer='country')\n",
    "airports_brazil5880=gpd.read_file(linkBrazil,layer='airports')\n",
    "states_brazil5880=gpd.read_file(linkBrazil,layer='states')\n",
    "municipalities_brazil5880=gpd.read_file(linkBrazil,layer='municipalities')\n",
    "#some indicators\n",
    "indicators=gpd.read_file(linkIndicators)\n",
    "\n",
    "# the seaports\n",
    "import pandas as pd\n",
    "infoseaports=pd.read_csv(linkSeaPorts)"
   ]
  },
  {
   "cell_type": "code",
   "execution_count": 6,
   "id": "2ece4e65-d21c-404c-9921-9befdd3b5874",
   "metadata": {
    "id": "2ece4e65-d21c-404c-9921-9befdd3b5874"
   },
   "outputs": [
    {
     "data": {
      "text/plain": [
       "108"
      ]
     },
     "execution_count": 6,
     "metadata": {},
     "output_type": "execute_result"
    }
   ],
   "source": [
    "# the sesports data has too manny columns:\n",
    "len(infoseaports.columns)"
   ]
  },
  {
   "cell_type": "markdown",
   "id": "97e9afb9-529b-416f-bc18-1bf773768ab7",
   "metadata": {
    "id": "97e9afb9-529b-416f-bc18-1bf773768ab7"
   },
   "source": [
    "Let me keep some columns, and turn the DF into a GDF:"
   ]
  },
  {
   "cell_type": "code",
   "execution_count": 7,
   "id": "33c8c5f5-c135-43c0-a43b-b3472ba6d56a",
   "metadata": {
    "id": "33c8c5f5-c135-43c0-a43b-b3472ba6d56a"
   },
   "outputs": [],
   "source": [
    "#rename\n",
    "infoseaports.rename(columns={'Main Port Name':'seaport_name','Country Code':'country_name'},inplace=True)\n",
    "\n",
    "#keep few columns\n",
    "infoseaports=infoseaports.loc[:,['seaport_name', 'country_name','Latitude', 'Longitude']]\n",
    "\n",
    "#spatial points (unprojected)\n",
    "seaports=gpd.GeoDataFrame(data=infoseaports.copy(),\n",
    "                           geometry=gpd.points_from_xy(infoseaports.Longitude,\n",
    "                                                       infoseaports.Latitude),\n",
    "                          crs=4326)# notice it is unprojected\n",
    "\n",
    "# keep Brazil\n",
    "seaports_bra=seaports[seaports['country_name']=='Brazil'].copy()\n",
    "\n",
    "# reset indexes\n",
    "seaports_bra.reset_index(drop=True, inplace=True)\n",
    "\n",
    "# reprojecting\n",
    "seaports_brazil5880=seaports_bra.to_crs(5880) # projected crs"
   ]
  },
  {
   "cell_type": "markdown",
   "id": "c2fc940f",
   "metadata": {
    "id": "c2fc940f"
   },
   "source": [
    "**Before proceeding**, let me compute some GDFs we created the previous session:\n"
   ]
  },
  {
   "cell_type": "markdown",
   "id": "f08579d5-5736-4122-9b69-22d8b98e8f8e",
   "metadata": {
    "id": "f08579d5-5736-4122-9b69-22d8b98e8f8e"
   },
   "source": [
    "* The centroid of Brazil"
   ]
  },
  {
   "cell_type": "code",
   "execution_count": 8,
   "id": "a6a221f3-51db-4264-83e3-da0fa8eacc0a",
   "metadata": {
    "id": "a6a221f3-51db-4264-83e3-da0fa8eacc0a"
   },
   "outputs": [],
   "source": [
    "brazil5880_cen=brazil5880.centroid"
   ]
  },
  {
   "cell_type": "markdown",
   "id": "0bd55fc1-b5dd-456b-8991-35f4c368625e",
   "metadata": {
    "id": "0bd55fc1-b5dd-456b-8991-35f4c368625e"
   },
   "source": [
    "- Large Brazilian airports"
   ]
  },
  {
   "cell_type": "code",
   "execution_count": 9,
   "id": "300445fe-1709-4002-bafb-4f6c226c78e9",
   "metadata": {
    "id": "300445fe-1709-4002-bafb-4f6c226c78e9"
   },
   "outputs": [],
   "source": [
    "large_airports=airports_brazil5880.query(\"airport_type=='large_airport'\")"
   ]
  },
  {
   "cell_type": "markdown",
   "id": "9c6c78ea-61d2-49df-8d77-af2d008e416a",
   "metadata": {
    "id": "9c6c78ea-61d2-49df-8d77-af2d008e416a"
   },
   "source": [
    "- Amazon Rivers"
   ]
  },
  {
   "cell_type": "code",
   "execution_count": 10,
   "id": "52b9c6ef-19c3-48cb-b9d5-8dac5e26ca24",
   "metadata": {
    "id": "52b9c6ef-19c3-48cb-b9d5-8dac5e26ca24"
   },
   "outputs": [],
   "source": [
    "AmazonSystem=world_rivers.query(\"SYSTEM=='Amazon'\")\n",
    "AmazonSystem_5880=AmazonSystem.to_crs(5880)"
   ]
  },
  {
   "cell_type": "markdown",
   "id": "1c44c596-e798-44d7-ba22-e24c00ae5044",
   "metadata": {
    "id": "1c44c596-e798-44d7-ba22-e24c00ae5044"
   },
   "source": [
    "- The states in the East, West, South, and North"
   ]
  },
  {
   "cell_type": "code",
   "execution_count": 11,
   "id": "21e77302-50cd-4b69-b4ce-8ef62ca7e9e4",
   "metadata": {
    "id": "21e77302-50cd-4b69-b4ce-8ef62ca7e9e4"
   },
   "outputs": [],
   "source": [
    "mid_x,mid_y=brazil5880_cen.x[0],brazil5880_cen.y[0]\n",
    "\n",
    "# the north\n",
    "N_brazil=states_brazil5880.cx[:,mid_y:]\n",
    "# the south\n",
    "S_brazil=states_brazil5880.cx[:,:mid_y]\n",
    "# the west\n",
    "W_brazil=states_brazil5880.cx[:mid_x,:]\n",
    "# the east\n",
    "E_brazil=states_brazil5880.cx[mid_x:,:]"
   ]
  },
  {
   "cell_type": "markdown",
   "id": "5594016a-5c17-424f-8595-b380921c9780",
   "metadata": {
    "id": "5594016a-5c17-424f-8595-b380921c9780"
   },
   "source": [
    "- The mean fragility by region of the world"
   ]
  },
  {
   "cell_type": "code",
   "execution_count": 12,
   "id": "794f3048-257d-4193-89d0-deda71523b9c",
   "metadata": {
    "id": "794f3048-257d-4193-89d0-deda71523b9c"
   },
   "outputs": [],
   "source": [
    "indicatorsByRegion=indicators.dissolve(\n",
    "    by=\"region\", #groupby()\n",
    "    aggfunc={\"fragility\": \"mean\"}, #agg()\n",
    "    )"
   ]
  },
  {
   "cell_type": "code",
   "execution_count": 16,
   "id": "-c3sNkIr4ehl",
   "metadata": {
    "id": "-c3sNkIr4ehl"
   },
   "outputs": [],
   "source": [
    "# You may need to install if using Colab\n",
    "# !pip install mapclassify"
   ]
  },
  {
   "cell_type": "markdown",
   "id": "6852f4a7-24bb-4540-9324-bf9f67c54637",
   "metadata": {
    "id": "6852f4a7-24bb-4540-9324-bf9f67c54637"
   },
   "source": [
    "\n",
    "_____________\n",
    "\n"
   ]
  },
  {
   "cell_type": "markdown",
   "id": "dce53b61-ecda-4df3-b9be-6a6cf86bdc4c",
   "metadata": {
    "id": "dce53b61-ecda-4df3-b9be-6a6cf86bdc4c"
   },
   "source": [
    "## I. Distance\n",
    "\n",
    "Distance is a key binary operation as so many practical policy matters depend on knowing distances between objects in space.\n",
    "\n",
    "Any pair of rightly projected GDFs have a distance between them. Below we can make  query using distances:\n",
    "\n",
    "> Which are the airports whose distance to Brazil centroid is > 2500000?"
   ]
  },
  {
   "cell_type": "code",
   "execution_count": 17,
   "id": "67fc2686-024b-4cd1-bac0-88dcfd1cc3a8",
   "metadata": {
    "id": "67fc2686-024b-4cd1-bac0-88dcfd1cc3a8"
   },
   "outputs": [
    {
     "data": {
      "text/plain": [
       "0    POINT (5085264.134 8827720.201)\n",
       "dtype: geometry"
      ]
     },
     "execution_count": 17,
     "metadata": {},
     "output_type": "execute_result"
    }
   ],
   "source": [
    "# this is the centroid we have:\n",
    "brazil5880_cen"
   ]
  },
  {
   "cell_type": "markdown",
   "id": "cc6b1993-de99-4537-be29-482fd12e166f",
   "metadata": {
    "id": "cc6b1993-de99-4537-be29-482fd12e166f"
   },
   "source": [
    "Then,"
   ]
  },
  {
   "cell_type": "code",
   "execution_count": 18,
   "id": "03130c10-c4c4-4d02-aa66-35aeabfbc310",
   "metadata": {
    "id": "03130c10-c4c4-4d02-aa66-35aeabfbc310"
   },
   "outputs": [
    {
     "data": {
      "text/html": [
       "<div>\n",
       "<style scoped>\n",
       "    .dataframe tbody tr th:only-of-type {\n",
       "        vertical-align: middle;\n",
       "    }\n",
       "\n",
       "    .dataframe tbody tr th {\n",
       "        vertical-align: top;\n",
       "    }\n",
       "\n",
       "    .dataframe thead th {\n",
       "        text-align: right;\n",
       "    }\n",
       "</style>\n",
       "<table border=\"1\" class=\"dataframe\">\n",
       "  <thead>\n",
       "    <tr style=\"text-align: right;\">\n",
       "      <th></th>\n",
       "      <th>airport_name</th>\n",
       "      <th>airport_type</th>\n",
       "      <th>elevation_ft</th>\n",
       "      <th>region</th>\n",
       "      <th>municipality</th>\n",
       "      <th>geometry</th>\n",
       "    </tr>\n",
       "  </thead>\n",
       "  <tbody>\n",
       "    <tr>\n",
       "      <th>4104</th>\n",
       "      <td>Viatec Aviação Agrícola Airport</td>\n",
       "      <td>small_airport</td>\n",
       "      <td>92.0</td>\n",
       "      <td>Rio Grande do Sul</td>\n",
       "      <td>Santa Vitória do Palmar</td>\n",
       "      <td>POINT (5068397.782 6323060.053)</td>\n",
       "    </tr>\n",
       "    <tr>\n",
       "      <th>4106</th>\n",
       "      <td>Santa Vitória do Palmar Airport</td>\n",
       "      <td>small_airport</td>\n",
       "      <td>82.0</td>\n",
       "      <td>Rio Grande do Sul</td>\n",
       "      <td>Santa Vitória Do Palmar</td>\n",
       "      <td>POINT (5060939.818 6291358.318)</td>\n",
       "    </tr>\n",
       "    <tr>\n",
       "      <th>6662</th>\n",
       "      <td>Trindade Heliport</td>\n",
       "      <td>heliport</td>\n",
       "      <td>NaN</td>\n",
       "      <td>Espírito Santo</td>\n",
       "      <td>Vitória</td>\n",
       "      <td>POINT (7565615.936 7537143.55)</td>\n",
       "    </tr>\n",
       "  </tbody>\n",
       "</table>\n",
       "</div>"
      ],
      "text/plain": [
       "                         airport_name   airport_type  elevation_ft  \\\n",
       "4104  Viatec Aviação Agrícola Airport  small_airport          92.0   \n",
       "4106  Santa Vitória do Palmar Airport  small_airport          82.0   \n",
       "6662                Trindade Heliport       heliport           NaN   \n",
       "\n",
       "                 region             municipality  \\\n",
       "4104  Rio Grande do Sul  Santa Vitória do Palmar   \n",
       "4106  Rio Grande do Sul  Santa Vitória Do Palmar   \n",
       "6662     Espírito Santo                  Vitória   \n",
       "\n",
       "                             geometry  \n",
       "4104  POINT (5068397.782 6323060.053)  \n",
       "4106  POINT (5060939.818 6291358.318)  \n",
       "6662   POINT (7565615.936 7537143.55)  "
      ]
     },
     "execution_count": 18,
     "metadata": {},
     "output_type": "execute_result"
    }
   ],
   "source": [
    "airports_brazil5880[airports_brazil5880.distance(brazil5880_cen[0]) > 2500000]"
   ]
  },
  {
   "cell_type": "markdown",
   "id": "7b2307f8-5682-4fec-9463-c7b6d55a76d9",
   "metadata": {
    "id": "7b2307f8-5682-4fec-9463-c7b6d55a76d9"
   },
   "source": [
    "The results can be confirmed visually:"
   ]
  },
  {
   "cell_type": "code",
   "execution_count": 19,
   "id": "eff37bfd-65ca-4f5a-b828-1af1eed8fba9",
   "metadata": {
    "id": "eff37bfd-65ca-4f5a-b828-1af1eed8fba9"
   },
   "outputs": [
    {
     "data": {
      "text/plain": [
       "<Axes: >"
      ]
     },
     "execution_count": 19,
     "metadata": {},
     "output_type": "execute_result"
    },
    {
     "data": {
      "image/png": "[encoded data removed]",
      "text/plain": [
       "<Figure size 640x480 with 1 Axes>"
      ]
     },
     "metadata": {},
     "output_type": "display_data"
    }
   ],
   "source": [
    "base=airports_brazil5880[airports_brazil5880.distance(brazil5880_cen.iloc[0]) > 2500000].plot(marker='+',markersize=100)\n",
    "airports_brazil5880.plot(ax=base,color='grey', markersize=0.1)\n",
    "brazil5880_cen.plot(ax=base,color='red')"
   ]
  },
  {
   "cell_type": "markdown",
   "id": "1c1eac21-eefc-4a2c-b393-93160683b8c1",
   "metadata": {
    "id": "1c1eac21-eefc-4a2c-b393-93160683b8c1"
   },
   "source": [
    "Let me review how distances work between different kinds of geometries:"
   ]
  },
  {
   "cell_type": "markdown",
   "id": "ec0e6aff-3a98-40eb-8313-6ac724ee661f",
   "metadata": {
    "id": "ec0e6aff-3a98-40eb-8313-6ac724ee661f"
   },
   "source": [
    "### a.  Distance between points\n",
    "\n",
    "We have these points:\n"
   ]
  },
  {
   "cell_type": "code",
   "execution_count": 20,
   "id": "1d2771d5-9710-4b4c-9feb-698029ddcaa0",
   "metadata": {
    "id": "1d2771d5-9710-4b4c-9feb-698029ddcaa0"
   },
   "outputs": [
    {
     "data": {
      "text/html": [
       "<div>\n",
       "<style scoped>\n",
       "    .dataframe tbody tr th:only-of-type {\n",
       "        vertical-align: middle;\n",
       "    }\n",
       "\n",
       "    .dataframe tbody tr th {\n",
       "        vertical-align: top;\n",
       "    }\n",
       "\n",
       "    .dataframe thead th {\n",
       "        text-align: right;\n",
       "    }\n",
       "</style>\n",
       "<table border=\"1\" class=\"dataframe\">\n",
       "  <thead>\n",
       "    <tr style=\"text-align: right;\">\n",
       "      <th></th>\n",
       "      <th>seaport_name</th>\n",
       "      <th>country_name</th>\n",
       "      <th>Latitude</th>\n",
       "      <th>Longitude</th>\n",
       "      <th>geometry</th>\n",
       "    </tr>\n",
       "  </thead>\n",
       "  <tbody>\n",
       "    <tr>\n",
       "      <th>0</th>\n",
       "      <td>Dtse / Gegua Oil Terminal</td>\n",
       "      <td>Brazil</td>\n",
       "      <td>-22.816667</td>\n",
       "      <td>-43.150000</td>\n",
       "      <td>POINT (6112865.27 7434885.819)</td>\n",
       "    </tr>\n",
       "    <tr>\n",
       "      <th>1</th>\n",
       "      <td>Porto De Mucuripe</td>\n",
       "      <td>Brazil</td>\n",
       "      <td>-3.716667</td>\n",
       "      <td>-38.483333</td>\n",
       "      <td>POINT (6723610.313 9573897.029)</td>\n",
       "    </tr>\n",
       "    <tr>\n",
       "      <th>2</th>\n",
       "      <td>Portocel</td>\n",
       "      <td>Brazil</td>\n",
       "      <td>-19.850000</td>\n",
       "      <td>-40.050000</td>\n",
       "      <td>POINT (6459540.7 7743872.147)</td>\n",
       "    </tr>\n",
       "    <tr>\n",
       "      <th>3</th>\n",
       "      <td>Santa Clara</td>\n",
       "      <td>Brazil</td>\n",
       "      <td>-20.883333</td>\n",
       "      <td>-51.366667</td>\n",
       "      <td>POINT (5273988.618 7687595.596)</td>\n",
       "    </tr>\n",
       "    <tr>\n",
       "      <th>4</th>\n",
       "      <td>Aratu</td>\n",
       "      <td>Brazil</td>\n",
       "      <td>-12.783333</td>\n",
       "      <td>-38.500000</td>\n",
       "      <td>POINT (6681955.632 8535904.773)</td>\n",
       "    </tr>\n",
       "  </tbody>\n",
       "</table>\n",
       "</div>"
      ],
      "text/plain": [
       "                seaport_name country_name   Latitude  Longitude  \\\n",
       "0  Dtse / Gegua Oil Terminal       Brazil -22.816667 -43.150000   \n",
       "1          Porto De Mucuripe       Brazil  -3.716667 -38.483333   \n",
       "2                   Portocel       Brazil -19.850000 -40.050000   \n",
       "3                Santa Clara       Brazil -20.883333 -51.366667   \n",
       "4                      Aratu       Brazil -12.783333 -38.500000   \n",
       "\n",
       "                          geometry  \n",
       "0   POINT (6112865.27 7434885.819)  \n",
       "1  POINT (6723610.313 9573897.029)  \n",
       "2    POINT (6459540.7 7743872.147)  \n",
       "3  POINT (5273988.618 7687595.596)  \n",
       "4  POINT (6681955.632 8535904.773)  "
      ]
     },
     "execution_count": 20,
     "metadata": {},
     "output_type": "execute_result"
    }
   ],
   "source": [
    "seaports_brazil5880.head()"
   ]
  },
  {
   "cell_type": "code",
   "execution_count": 21,
   "id": "914bf0e0-0fe8-44bb-997d-d229df1b5cf4",
   "metadata": {
    "id": "914bf0e0-0fe8-44bb-997d-d229df1b5cf4"
   },
   "outputs": [
    {
     "data": {
      "text/html": [
       "<div>\n",
       "<style scoped>\n",
       "    .dataframe tbody tr th:only-of-type {\n",
       "        vertical-align: middle;\n",
       "    }\n",
       "\n",
       "    .dataframe tbody tr th {\n",
       "        vertical-align: top;\n",
       "    }\n",
       "\n",
       "    .dataframe thead th {\n",
       "        text-align: right;\n",
       "    }\n",
       "</style>\n",
       "<table border=\"1\" class=\"dataframe\">\n",
       "  <thead>\n",
       "    <tr style=\"text-align: right;\">\n",
       "      <th></th>\n",
       "      <th>airport_name</th>\n",
       "      <th>airport_type</th>\n",
       "      <th>elevation_ft</th>\n",
       "      <th>region</th>\n",
       "      <th>municipality</th>\n",
       "      <th>geometry</th>\n",
       "    </tr>\n",
       "  </thead>\n",
       "  <tbody>\n",
       "    <tr>\n",
       "      <th>0</th>\n",
       "      <td>Guarulhos - Governador André Franco Montoro In...</td>\n",
       "      <td>large_airport</td>\n",
       "      <td>2461.0</td>\n",
       "      <td>São Paulo</td>\n",
       "      <td>São Paulo</td>\n",
       "      <td>POINT (5769392.959 7387510.487)</td>\n",
       "    </tr>\n",
       "    <tr>\n",
       "      <th>1</th>\n",
       "      <td>Rio Galeão – Tom Jobim International Airport</td>\n",
       "      <td>large_airport</td>\n",
       "      <td>28.0</td>\n",
       "      <td>Rio de Janeiro</td>\n",
       "      <td>Rio De Janeiro</td>\n",
       "      <td>POINT (6102623.812 7436387.271)</td>\n",
       "    </tr>\n",
       "    <tr>\n",
       "      <th>4</th>\n",
       "      <td>Presidente Juscelino Kubitschek International ...</td>\n",
       "      <td>large_airport</td>\n",
       "      <td>3497.0</td>\n",
       "      <td>Distrito Federal</td>\n",
       "      <td>Brasília</td>\n",
       "      <td>POINT (5651010.181 8235390.09)</td>\n",
       "    </tr>\n",
       "    <tr>\n",
       "      <th>5</th>\n",
       "      <td>Deputado Luiz Eduardo Magalhães International ...</td>\n",
       "      <td>large_airport</td>\n",
       "      <td>64.0</td>\n",
       "      <td>Bahia</td>\n",
       "      <td>Salvador</td>\n",
       "      <td>POINT (6700330.807 8520415.591)</td>\n",
       "    </tr>\n",
       "    <tr>\n",
       "      <th>9</th>\n",
       "      <td>Tancredo Neves International Airport</td>\n",
       "      <td>large_airport</td>\n",
       "      <td>2721.0</td>\n",
       "      <td>Minas Gerais</td>\n",
       "      <td>Belo Horizonte</td>\n",
       "      <td>POINT (6051718.72 7797008.905)</td>\n",
       "    </tr>\n",
       "  </tbody>\n",
       "</table>\n",
       "</div>"
      ],
      "text/plain": [
       "                                        airport_name   airport_type  \\\n",
       "0  Guarulhos - Governador André Franco Montoro In...  large_airport   \n",
       "1       Rio Galeão – Tom Jobim International Airport  large_airport   \n",
       "4  Presidente Juscelino Kubitschek International ...  large_airport   \n",
       "5  Deputado Luiz Eduardo Magalhães International ...  large_airport   \n",
       "9               Tancredo Neves International Airport  large_airport   \n",
       "\n",
       "   elevation_ft            region    municipality  \\\n",
       "0        2461.0         São Paulo       São Paulo   \n",
       "1          28.0    Rio de Janeiro  Rio De Janeiro   \n",
       "4        3497.0  Distrito Federal        Brasília   \n",
       "5          64.0             Bahia        Salvador   \n",
       "9        2721.0      Minas Gerais  Belo Horizonte   \n",
       "\n",
       "                          geometry  \n",
       "0  POINT (5769392.959 7387510.487)  \n",
       "1  POINT (6102623.812 7436387.271)  \n",
       "4   POINT (5651010.181 8235390.09)  \n",
       "5  POINT (6700330.807 8520415.591)  \n",
       "9   POINT (6051718.72 7797008.905)  "
      ]
     },
     "execution_count": 21,
     "metadata": {},
     "output_type": "execute_result"
    }
   ],
   "source": [
    "large_airports.head()"
   ]
  },
  {
   "cell_type": "markdown",
   "id": "c5803c0b-f58b-4714-a17e-24514f95287a",
   "metadata": {
    "id": "c5803c0b-f58b-4714-a17e-24514f95287a"
   },
   "source": [
    "For results of distance operation to be more insightful, we may do this:"
   ]
  },
  {
   "cell_type": "code",
   "execution_count": 22,
   "id": "4e6eb5e2-c901-4881-b281-1c4e9b3ef438",
   "metadata": {
    "id": "4e6eb5e2-c901-4881-b281-1c4e9b3ef438"
   },
   "outputs": [],
   "source": [
    "# index will be names of airports/seaports instead of numbers\n",
    "large_airports.set_index('airport_name',inplace=True)\n",
    "seaports_brazil5880.set_index('seaport_name',inplace=True)"
   ]
  },
  {
   "cell_type": "markdown",
   "id": "51b01837-cb9d-4cdf-8797-edbe178cbc41",
   "metadata": {
    "id": "51b01837-cb9d-4cdf-8797-edbe178cbc41"
   },
   "source": [
    "Notice:"
   ]
  },
  {
   "cell_type": "code",
   "execution_count": 23,
   "id": "29344ff4-7a70-40d1-9696-f321f5d45bb9",
   "metadata": {
    "id": "29344ff4-7a70-40d1-9696-f321f5d45bb9"
   },
   "outputs": [
    {
     "data": {
      "text/html": [
       "<div>\n",
       "<style scoped>\n",
       "    .dataframe tbody tr th:only-of-type {\n",
       "        vertical-align: middle;\n",
       "    }\n",
       "\n",
       "    .dataframe tbody tr th {\n",
       "        vertical-align: top;\n",
       "    }\n",
       "\n",
       "    .dataframe thead th {\n",
       "        text-align: right;\n",
       "    }\n",
       "</style>\n",
       "<table border=\"1\" class=\"dataframe\">\n",
       "  <thead>\n",
       "    <tr style=\"text-align: right;\">\n",
       "      <th></th>\n",
       "      <th>country_name</th>\n",
       "      <th>Latitude</th>\n",
       "      <th>Longitude</th>\n",
       "      <th>geometry</th>\n",
       "    </tr>\n",
       "    <tr>\n",
       "      <th>seaport_name</th>\n",
       "      <th></th>\n",
       "      <th></th>\n",
       "      <th></th>\n",
       "      <th></th>\n",
       "    </tr>\n",
       "  </thead>\n",
       "  <tbody>\n",
       "    <tr>\n",
       "      <th>Dtse / Gegua Oil Terminal</th>\n",
       "      <td>Brazil</td>\n",
       "      <td>-22.816667</td>\n",
       "      <td>-43.150000</td>\n",
       "      <td>POINT (6112865.27 7434885.819)</td>\n",
       "    </tr>\n",
       "    <tr>\n",
       "      <th>Porto De Mucuripe</th>\n",
       "      <td>Brazil</td>\n",
       "      <td>-3.716667</td>\n",
       "      <td>-38.483333</td>\n",
       "      <td>POINT (6723610.313 9573897.029)</td>\n",
       "    </tr>\n",
       "    <tr>\n",
       "      <th>Portocel</th>\n",
       "      <td>Brazil</td>\n",
       "      <td>-19.850000</td>\n",
       "      <td>-40.050000</td>\n",
       "      <td>POINT (6459540.7 7743872.147)</td>\n",
       "    </tr>\n",
       "    <tr>\n",
       "      <th>Santa Clara</th>\n",
       "      <td>Brazil</td>\n",
       "      <td>-20.883333</td>\n",
       "      <td>-51.366667</td>\n",
       "      <td>POINT (5273988.618 7687595.596)</td>\n",
       "    </tr>\n",
       "    <tr>\n",
       "      <th>Aratu</th>\n",
       "      <td>Brazil</td>\n",
       "      <td>-12.783333</td>\n",
       "      <td>-38.500000</td>\n",
       "      <td>POINT (6681955.632 8535904.773)</td>\n",
       "    </tr>\n",
       "  </tbody>\n",
       "</table>\n",
       "</div>"
      ],
      "text/plain": [
       "                          country_name   Latitude  Longitude  \\\n",
       "seaport_name                                                   \n",
       "Dtse / Gegua Oil Terminal       Brazil -22.816667 -43.150000   \n",
       "Porto De Mucuripe               Brazil  -3.716667 -38.483333   \n",
       "Portocel                        Brazil -19.850000 -40.050000   \n",
       "Santa Clara                     Brazil -20.883333 -51.366667   \n",
       "Aratu                           Brazil -12.783333 -38.500000   \n",
       "\n",
       "                                                  geometry  \n",
       "seaport_name                                                \n",
       "Dtse / Gegua Oil Terminal   POINT (6112865.27 7434885.819)  \n",
       "Porto De Mucuripe          POINT (6723610.313 9573897.029)  \n",
       "Portocel                     POINT (6459540.7 7743872.147)  \n",
       "Santa Clara                POINT (5273988.618 7687595.596)  \n",
       "Aratu                      POINT (6681955.632 8535904.773)  "
      ]
     },
     "execution_count": 23,
     "metadata": {},
     "output_type": "execute_result"
    }
   ],
   "source": [
    "seaports_brazil5880.head()"
   ]
  },
  {
   "cell_type": "code",
   "execution_count": 24,
   "id": "5981dbb0-956c-4b9d-935b-335db495721c",
   "metadata": {
    "id": "5981dbb0-956c-4b9d-935b-335db495721c"
   },
   "outputs": [
    {
     "data": {
      "text/html": [
       "<div>\n",
       "<style scoped>\n",
       "    .dataframe tbody tr th:only-of-type {\n",
       "        vertical-align: middle;\n",
       "    }\n",
       "\n",
       "    .dataframe tbody tr th {\n",
       "        vertical-align: top;\n",
       "    }\n",
       "\n",
       "    .dataframe thead th {\n",
       "        text-align: right;\n",
       "    }\n",
       "</style>\n",
       "<table border=\"1\" class=\"dataframe\">\n",
       "  <thead>\n",
       "    <tr style=\"text-align: right;\">\n",
       "      <th></th>\n",
       "      <th>airport_type</th>\n",
       "      <th>elevation_ft</th>\n",
       "      <th>region</th>\n",
       "      <th>municipality</th>\n",
       "      <th>geometry</th>\n",
       "    </tr>\n",
       "    <tr>\n",
       "      <th>airport_name</th>\n",
       "      <th></th>\n",
       "      <th></th>\n",
       "      <th></th>\n",
       "      <th></th>\n",
       "      <th></th>\n",
       "    </tr>\n",
       "  </thead>\n",
       "  <tbody>\n",
       "    <tr>\n",
       "      <th>Guarulhos - Governador André Franco Montoro International Airport</th>\n",
       "      <td>large_airport</td>\n",
       "      <td>2461.0</td>\n",
       "      <td>São Paulo</td>\n",
       "      <td>São Paulo</td>\n",
       "      <td>POINT (5769392.959 7387510.487)</td>\n",
       "    </tr>\n",
       "    <tr>\n",
       "      <th>Rio Galeão – Tom Jobim International Airport</th>\n",
       "      <td>large_airport</td>\n",
       "      <td>28.0</td>\n",
       "      <td>Rio de Janeiro</td>\n",
       "      <td>Rio De Janeiro</td>\n",
       "      <td>POINT (6102623.812 7436387.271)</td>\n",
       "    </tr>\n",
       "    <tr>\n",
       "      <th>Presidente Juscelino Kubitschek International Airport</th>\n",
       "      <td>large_airport</td>\n",
       "      <td>3497.0</td>\n",
       "      <td>Distrito Federal</td>\n",
       "      <td>Brasília</td>\n",
       "      <td>POINT (5651010.181 8235390.09)</td>\n",
       "    </tr>\n",
       "    <tr>\n",
       "      <th>Deputado Luiz Eduardo Magalhães International Airport</th>\n",
       "      <td>large_airport</td>\n",
       "      <td>64.0</td>\n",
       "      <td>Bahia</td>\n",
       "      <td>Salvador</td>\n",
       "      <td>POINT (6700330.807 8520415.591)</td>\n",
       "    </tr>\n",
       "    <tr>\n",
       "      <th>Tancredo Neves International Airport</th>\n",
       "      <td>large_airport</td>\n",
       "      <td>2721.0</td>\n",
       "      <td>Minas Gerais</td>\n",
       "      <td>Belo Horizonte</td>\n",
       "      <td>POINT (6051718.72 7797008.905)</td>\n",
       "    </tr>\n",
       "  </tbody>\n",
       "</table>\n",
       "</div>"
      ],
      "text/plain": [
       "                                                     airport_type  \\\n",
       "airport_name                                                        \n",
       "Guarulhos - Governador André Franco Montoro Int...  large_airport   \n",
       "Rio Galeão – Tom Jobim International Airport        large_airport   \n",
       "Presidente Juscelino Kubitschek International A...  large_airport   \n",
       "Deputado Luiz Eduardo Magalhães International A...  large_airport   \n",
       "Tancredo Neves International Airport                large_airport   \n",
       "\n",
       "                                                    elevation_ft  \\\n",
       "airport_name                                                       \n",
       "Guarulhos - Governador André Franco Montoro Int...        2461.0   \n",
       "Rio Galeão – Tom Jobim International Airport                28.0   \n",
       "Presidente Juscelino Kubitschek International A...        3497.0   \n",
       "Deputado Luiz Eduardo Magalhães International A...          64.0   \n",
       "Tancredo Neves International Airport                      2721.0   \n",
       "\n",
       "                                                              region  \\\n",
       "airport_name                                                           \n",
       "Guarulhos - Governador André Franco Montoro Int...         São Paulo   \n",
       "Rio Galeão – Tom Jobim International Airport          Rio de Janeiro   \n",
       "Presidente Juscelino Kubitschek International A...  Distrito Federal   \n",
       "Deputado Luiz Eduardo Magalhães International A...             Bahia   \n",
       "Tancredo Neves International Airport                    Minas Gerais   \n",
       "\n",
       "                                                      municipality  \\\n",
       "airport_name                                                         \n",
       "Guarulhos - Governador André Franco Montoro Int...       São Paulo   \n",
       "Rio Galeão – Tom Jobim International Airport        Rio De Janeiro   \n",
       "Presidente Juscelino Kubitschek International A...        Brasília   \n",
       "Deputado Luiz Eduardo Magalhães International A...        Salvador   \n",
       "Tancredo Neves International Airport                Belo Horizonte   \n",
       "\n",
       "                                                                           geometry  \n",
       "airport_name                                                                         \n",
       "Guarulhos - Governador André Franco Montoro Int...  POINT (5769392.959 7387510.487)  \n",
       "Rio Galeão – Tom Jobim International Airport        POINT (6102623.812 7436387.271)  \n",
       "Presidente Juscelino Kubitschek International A...   POINT (5651010.181 8235390.09)  \n",
       "Deputado Luiz Eduardo Magalhães International A...  POINT (6700330.807 8520415.591)  \n",
       "Tancredo Neves International Airport                 POINT (6051718.72 7797008.905)  "
      ]
     },
     "execution_count": 24,
     "metadata": {},
     "output_type": "execute_result"
    }
   ],
   "source": [
    "large_airports.head()"
   ]
  },
  {
   "cell_type": "markdown",
   "id": "80dc32b4-3d9b-4e1e-87c5-2adc2dc3f9b5",
   "metadata": {
    "id": "80dc32b4-3d9b-4e1e-87c5-2adc2dc3f9b5"
   },
   "source": [
    "> The distance from each airport to the \"Dtse / Gegua Oil Terminal\""
   ]
  },
  {
   "cell_type": "code",
   "execution_count": 25,
   "id": "e3e97535-58b0-47ee-9724-88ecbc4cf1b1",
   "metadata": {
    "id": "e3e97535-58b0-47ee-9724-88ecbc4cf1b1"
   },
   "outputs": [
    {
     "data": {
      "text/plain": [
       "airport_name\n",
       "Guarulhos - Governador André Franco Montoro International Airport    3.467242e+05\n",
       "Rio Galeão – Tom Jobim International Airport                         1.035093e+04\n",
       "Presidente Juscelino Kubitschek International Airport                9.241846e+05\n",
       "Deputado Luiz Eduardo Magalhães International Airport                1.234298e+06\n",
       "Tancredo Neves International Airport                                 3.672493e+05\n",
       "Eduardo Gomes International Airport                                  2.854494e+06\n",
       "Hercílio Luz International Airport                                   7.681356e+05\n",
       "Val de Cans/Júlio Cezar Ribeiro International Airport                2.462792e+06\n",
       "dtype: float64"
      ]
     },
     "execution_count": 25,
     "metadata": {},
     "output_type": "execute_result"
    }
   ],
   "source": [
    "large_airports.distance(seaports_brazil5880.geometry.loc['Dtse / Gegua Oil Terminal'])"
   ]
  },
  {
   "cell_type": "markdown",
   "id": "7484b0c5-ac6e-4a25-8be5-6e3ada2ab6ad",
   "metadata": {
    "id": "7484b0c5-ac6e-4a25-8be5-6e3ada2ab6ad"
   },
   "source": [
    "What about computing...\n",
    "\n",
    "> All the distances between large aiports and seaports (in km)"
   ]
  },
  {
   "cell_type": "code",
   "execution_count": 26,
   "id": "732b442a-bc31-4522-aec5-0cbbca069ec4",
   "metadata": {
    "id": "732b442a-bc31-4522-aec5-0cbbca069ec4"
   },
   "outputs": [
    {
     "data": {
      "text/html": [
       "<div>\n",
       "<style scoped>\n",
       "    .dataframe tbody tr th:only-of-type {\n",
       "        vertical-align: middle;\n",
       "    }\n",
       "\n",
       "    .dataframe tbody tr th {\n",
       "        vertical-align: top;\n",
       "    }\n",
       "\n",
       "    .dataframe thead th {\n",
       "        text-align: right;\n",
       "    }\n",
       "</style>\n",
       "<table border=\"1\" class=\"dataframe\">\n",
       "  <thead>\n",
       "    <tr style=\"text-align: right;\">\n",
       "      <th>airport_name</th>\n",
       "      <th>Guarulhos - Governador André Franco Montoro International Airport</th>\n",
       "      <th>Rio Galeão – Tom Jobim International Airport</th>\n",
       "      <th>Presidente Juscelino Kubitschek International Airport</th>\n",
       "      <th>Deputado Luiz Eduardo Magalhães International Airport</th>\n",
       "      <th>Tancredo Neves International Airport</th>\n",
       "      <th>Eduardo Gomes International Airport</th>\n",
       "      <th>Hercílio Luz International Airport</th>\n",
       "      <th>Val de Cans/Júlio Cezar Ribeiro International Airport</th>\n",
       "    </tr>\n",
       "    <tr>\n",
       "      <th>seaport_name</th>\n",
       "      <th></th>\n",
       "      <th></th>\n",
       "      <th></th>\n",
       "      <th></th>\n",
       "      <th></th>\n",
       "      <th></th>\n",
       "      <th></th>\n",
       "      <th></th>\n",
       "    </tr>\n",
       "  </thead>\n",
       "  <tbody>\n",
       "    <tr>\n",
       "      <th>Dtse / Gegua Oil Terminal</th>\n",
       "      <td>346.724171</td>\n",
       "      <td>10.350933</td>\n",
       "      <td>924.184620</td>\n",
       "      <td>1234.297632</td>\n",
       "      <td>367.249276</td>\n",
       "      <td>2854.493600</td>\n",
       "      <td>768.135646</td>\n",
       "      <td>2462.791784</td>\n",
       "    </tr>\n",
       "    <tr>\n",
       "      <th>Porto De Mucuripe</th>\n",
       "      <td>2385.543307</td>\n",
       "      <td>2225.886834</td>\n",
       "      <td>1715.246883</td>\n",
       "      <td>1053.738618</td>\n",
       "      <td>1899.676213</td>\n",
       "      <td>2397.739727</td>\n",
       "      <td>2901.295202</td>\n",
       "      <td>1141.963646</td>\n",
       "    </tr>\n",
       "    <tr>\n",
       "      <th>Portocel</th>\n",
       "      <td>776.722303</td>\n",
       "      <td>471.101490</td>\n",
       "      <td>946.209008</td>\n",
       "      <td>813.018817</td>\n",
       "      <td>411.269111</td>\n",
       "      <td>2867.979624</td>\n",
       "      <td>1232.521248</td>\n",
       "      <td>2266.253017</td>\n",
       "    </tr>\n",
       "    <tr>\n",
       "      <th>Santa Clara</th>\n",
       "      <td>579.203362</td>\n",
       "      <td>865.876382</td>\n",
       "      <td>664.999298</td>\n",
       "      <td>1651.678293</td>\n",
       "      <td>785.388683</td>\n",
       "      <td>2189.659524</td>\n",
       "      <td>805.599343</td>\n",
       "      <td>2185.898767</td>\n",
       "    </tr>\n",
       "    <tr>\n",
       "      <th>Aratu</th>\n",
       "      <td>1466.826530</td>\n",
       "      <td>1242.804930</td>\n",
       "      <td>1073.851757</td>\n",
       "      <td>24.032516</td>\n",
       "      <td>971.167168</td>\n",
       "      <td>2609.953079</td>\n",
       "      <td>1975.180167</td>\n",
       "      <td>1690.370196</td>\n",
       "    </tr>\n",
       "    <tr>\n",
       "      <th>Cabedelo</th>\n",
       "      <td>2248.124981</td>\n",
       "      <td>2023.173930</td>\n",
       "      <td>1747.914940</td>\n",
       "      <td>786.022123</td>\n",
       "      <td>1751.230863</td>\n",
       "      <td>2830.123680</td>\n",
       "      <td>2757.957782</td>\n",
       "      <td>1641.263825</td>\n",
       "    </tr>\n",
       "    <tr>\n",
       "      <th>Imbituba</th>\n",
       "      <td>578.310920</td>\n",
       "      <td>814.278300</td>\n",
       "      <td>1377.148556</td>\n",
       "      <td>2031.882238</td>\n",
       "      <td>1072.105305</td>\n",
       "      <td>3042.768039</td>\n",
       "      <td>63.612808</td>\n",
       "      <td>2983.998277</td>\n",
       "    </tr>\n",
       "    <tr>\n",
       "      <th>Angra Dos Reis</th>\n",
       "      <td>225.003606</td>\n",
       "      <td>111.795735</td>\n",
       "      <td>883.019058</td>\n",
       "      <td>1308.028199</td>\n",
       "      <td>380.901616</td>\n",
       "      <td>2791.717379</td>\n",
       "      <td>671.807826</td>\n",
       "      <td>2455.089996</td>\n",
       "    </tr>\n",
       "    <tr>\n",
       "      <th>Natal</th>\n",
       "      <td>2341.056650</td>\n",
       "      <td>2128.327377</td>\n",
       "      <td>1799.131283</td>\n",
       "      <td>891.421964</td>\n",
       "      <td>1843.689307</td>\n",
       "      <td>2774.776071</td>\n",
       "      <td>2853.930050</td>\n",
       "      <td>1556.780342</td>\n",
       "    </tr>\n",
       "    <tr>\n",
       "      <th>Guamare Oil Terminal</th>\n",
       "      <td>2371.907633</td>\n",
       "      <td>2177.693211</td>\n",
       "      <td>1779.896593</td>\n",
       "      <td>953.130770</td>\n",
       "      <td>1876.302092</td>\n",
       "      <td>2647.096318</td>\n",
       "      <td>2887.478112</td>\n",
       "      <td>1411.272089</td>\n",
       "    </tr>\n",
       "    <tr>\n",
       "      <th>Itaqui</th>\n",
       "      <td>2344.169726</td>\n",
       "      <td>2275.985960</td>\n",
       "      <td>1535.410406</td>\n",
       "      <td>1347.564542</td>\n",
       "      <td>1915.248841</td>\n",
       "      <td>1744.522370</td>\n",
       "      <td>2836.644708</td>\n",
       "      <td>476.002360</td>\n",
       "    </tr>\n",
       "    <tr>\n",
       "      <th>Manaus</th>\n",
       "      <td>2682.252079</td>\n",
       "      <td>2836.382779</td>\n",
       "      <td>1935.849306</td>\n",
       "      <td>2625.311641</td>\n",
       "      <td>2529.751943</td>\n",
       "      <td>11.154274</td>\n",
       "      <td>2980.307205</td>\n",
       "      <td>1298.255235</td>\n",
       "    </tr>\n",
       "    <tr>\n",
       "      <th>Itacoatiara</th>\n",
       "      <td>2592.193077</td>\n",
       "      <td>2730.217800</td>\n",
       "      <td>1820.822272</td>\n",
       "      <td>2468.851545</td>\n",
       "      <td>2413.939317</td>\n",
       "      <td>178.249697</td>\n",
       "      <td>2913.273479</td>\n",
       "      <td>1126.561239</td>\n",
       "    </tr>\n",
       "    <tr>\n",
       "      <th>Belem</th>\n",
       "      <td>2456.456648</td>\n",
       "      <td>2452.107621</td>\n",
       "      <td>1604.006437</td>\n",
       "      <td>1709.617689</td>\n",
       "      <td>2088.711020</td>\n",
       "      <td>1296.677448</td>\n",
       "      <td>2913.649490</td>\n",
       "      <td>8.290566</td>\n",
       "    </tr>\n",
       "    <tr>\n",
       "      <th>Macae</th>\n",
       "      <td>496.852182</td>\n",
       "      <td>160.532855</td>\n",
       "      <td>973.748856</td>\n",
       "      <td>1135.432221</td>\n",
       "      <td>383.200281</td>\n",
       "      <td>2918.055893</td>\n",
       "      <td>905.988525</td>\n",
       "      <td>2458.151928</td>\n",
       "    </tr>\n",
       "    <tr>\n",
       "      <th>Niteroi</th>\n",
       "      <td>348.597382</td>\n",
       "      <td>16.028283</td>\n",
       "      <td>932.309968</td>\n",
       "      <td>1239.746717</td>\n",
       "      <td>375.348945</td>\n",
       "      <td>2862.315099</td>\n",
       "      <td>765.202458</td>\n",
       "      <td>2470.939163</td>\n",
       "    </tr>\n",
       "    <tr>\n",
       "      <th>Pelotas</th>\n",
       "      <td>1093.531165</td>\n",
       "      <td>1343.662618</td>\n",
       "      <td>1822.421018</td>\n",
       "      <td>2557.070047</td>\n",
       "      <td>1590.903559</td>\n",
       "      <td>3287.745109</td>\n",
       "      <td>585.001710</td>\n",
       "      <td>3396.677050</td>\n",
       "    </tr>\n",
       "    <tr>\n",
       "      <th>Rio De Janeiro</th>\n",
       "      <td>343.209409</td>\n",
       "      <td>13.287640</td>\n",
       "      <td>930.999018</td>\n",
       "      <td>1243.545205</td>\n",
       "      <td>375.961548</td>\n",
       "      <td>2860.201645</td>\n",
       "      <td>760.258369</td>\n",
       "      <td>2471.340121</td>\n",
       "    </tr>\n",
       "    <tr>\n",
       "      <th>Recife</th>\n",
       "      <td>2142.801315</td>\n",
       "      <td>1910.277530</td>\n",
       "      <td>1674.666425</td>\n",
       "      <td>676.860725</td>\n",
       "      <td>1647.057100</td>\n",
       "      <td>2845.133868</td>\n",
       "      <td>2650.142734</td>\n",
       "      <td>1687.882366</td>\n",
       "    </tr>\n",
       "    <tr>\n",
       "      <th>Tramandai</th>\n",
       "      <td>814.930209</td>\n",
       "      <td>1054.174075</td>\n",
       "      <td>1584.514525</td>\n",
       "      <td>2272.782881</td>\n",
       "      <td>1310.905328</td>\n",
       "      <td>3164.410125</td>\n",
       "      <td>299.764293</td>\n",
       "      <td>3180.525010</td>\n",
       "    </tr>\n",
       "    <tr>\n",
       "      <th>Madre De Deus</th>\n",
       "      <td>1462.725337</td>\n",
       "      <td>1241.121137</td>\n",
       "      <td>1063.232802</td>\n",
       "      <td>36.749390</td>\n",
       "      <td>966.657897</td>\n",
       "      <td>2596.778994</td>\n",
       "      <td>1971.741706</td>\n",
       "      <td>1679.002816</td>\n",
       "    </tr>\n",
       "    <tr>\n",
       "      <th>Laguna</th>\n",
       "      <td>610.078831</td>\n",
       "      <td>843.875837</td>\n",
       "      <td>1407.360604</td>\n",
       "      <td>2062.999867</td>\n",
       "      <td>1103.719364</td>\n",
       "      <td>3064.635623</td>\n",
       "      <td>95.009235</td>\n",
       "      <td>3013.520141</td>\n",
       "    </tr>\n",
       "    <tr>\n",
       "      <th>Port De Aracaju</th>\n",
       "      <td>1733.070695</td>\n",
       "      <td>1504.384506</td>\n",
       "      <td>1303.001081</td>\n",
       "      <td>267.564965</td>\n",
       "      <td>1237.441529</td>\n",
       "      <td>2687.325788</td>\n",
       "      <td>2240.825988</td>\n",
       "      <td>1659.464068</td>\n",
       "    </tr>\n",
       "    <tr>\n",
       "      <th>Porto Santana</th>\n",
       "      <td>2646.507607</td>\n",
       "      <td>2677.012736</td>\n",
       "      <td>1791.151164</td>\n",
       "      <td>2023.853225</td>\n",
       "      <td>2318.125252</td>\n",
       "      <td>1040.555921</td>\n",
       "      <td>3076.376196</td>\n",
       "      <td>335.441624</td>\n",
       "    </tr>\n",
       "    <tr>\n",
       "      <th>Porto De Maceio</th>\n",
       "      <td>1934.791716</td>\n",
       "      <td>1699.567552</td>\n",
       "      <td>1497.384909</td>\n",
       "      <td>468.512961</td>\n",
       "      <td>1440.007502</td>\n",
       "      <td>2788.984232</td>\n",
       "      <td>2440.819954</td>\n",
       "      <td>1693.889037</td>\n",
       "    </tr>\n",
       "    <tr>\n",
       "      <th>Port De Salvador</th>\n",
       "      <td>1448.644611</td>\n",
       "      <td>1222.959201</td>\n",
       "      <td>1065.257319</td>\n",
       "      <td>22.089660</td>\n",
       "      <td>953.390744</td>\n",
       "      <td>2616.268890</td>\n",
       "      <td>1956.445482</td>\n",
       "      <td>1704.676897</td>\n",
       "    </tr>\n",
       "    <tr>\n",
       "      <th>Rio Grande</th>\n",
       "      <td>1106.010760</td>\n",
       "      <td>1349.213774</td>\n",
       "      <td>1845.254974</td>\n",
       "      <td>2567.264855</td>\n",
       "      <td>1603.088647</td>\n",
       "      <td>3322.620918</td>\n",
       "      <td>593.951743</td>\n",
       "      <td>3423.363634</td>\n",
       "    </tr>\n",
       "    <tr>\n",
       "      <th>Santarem</th>\n",
       "      <td>2494.223469</td>\n",
       "      <td>2582.870485</td>\n",
       "      <td>1666.149767</td>\n",
       "      <td>2153.673543</td>\n",
       "      <td>2242.151898</td>\n",
       "      <td>596.990455</td>\n",
       "      <td>2873.540176</td>\n",
       "      <td>703.734669</td>\n",
       "    </tr>\n",
       "    <tr>\n",
       "      <th>Porto Do Forno</th>\n",
       "      <td>458.612166</td>\n",
       "      <td>127.835449</td>\n",
       "      <td>1007.569738</td>\n",
       "      <td>1207.778202</td>\n",
       "      <td>425.934098</td>\n",
       "      <td>2947.271281</td>\n",
       "      <td>842.325416</td>\n",
       "      <td>2513.571318</td>\n",
       "    </tr>\n",
       "    <tr>\n",
       "      <th>Port Of Ilheus</th>\n",
       "      <td>1250.183516</td>\n",
       "      <td>1012.231807</td>\n",
       "      <td>963.853808</td>\n",
       "      <td>227.158223</td>\n",
       "      <td>760.366657</td>\n",
       "      <td>2653.948977</td>\n",
       "      <td>1752.959780</td>\n",
       "      <td>1830.939739</td>\n",
       "    </tr>\n",
       "    <tr>\n",
       "      <th>Itajai</th>\n",
       "      <td>445.212169</td>\n",
       "      <td>711.429716</td>\n",
       "      <td>1230.766858</td>\n",
       "      <td>1908.751545</td>\n",
       "      <td>942.378862</td>\n",
       "      <td>2912.927857</td>\n",
       "      <td>84.183089</td>\n",
       "      <td>2837.650203</td>\n",
       "    </tr>\n",
       "    <tr>\n",
       "      <th>Cameta</th>\n",
       "      <td>2378.168716</td>\n",
       "      <td>2391.088714</td>\n",
       "      <td>1522.497285</td>\n",
       "      <td>1718.258865</td>\n",
       "      <td>2029.693661</td>\n",
       "      <td>1176.378545</td>\n",
       "      <td>2824.439489</td>\n",
       "      <td>149.389065</td>\n",
       "    </tr>\n",
       "    <tr>\n",
       "      <th>Gebig</th>\n",
       "      <td>234.293252</td>\n",
       "      <td>102.687867</td>\n",
       "      <td>890.971113</td>\n",
       "      <td>1306.374359</td>\n",
       "      <td>383.834407</td>\n",
       "      <td>2801.212589</td>\n",
       "      <td>675.394423</td>\n",
       "      <td>2460.997434</td>\n",
       "    </tr>\n",
       "    <tr>\n",
       "      <th>Camocim</th>\n",
       "      <td>2386.572249</td>\n",
       "      <td>2263.438786</td>\n",
       "      <td>1649.578153</td>\n",
       "      <td>1174.469354</td>\n",
       "      <td>1918.592061</td>\n",
       "      <td>2136.332613</td>\n",
       "      <td>2896.762517</td>\n",
       "      <td>867.120057</td>\n",
       "    </tr>\n",
       "    <tr>\n",
       "      <th>Tutoia</th>\n",
       "      <td>2359.329043</td>\n",
       "      <td>2258.261495</td>\n",
       "      <td>1590.076044</td>\n",
       "      <td>1231.305489</td>\n",
       "      <td>1905.363602</td>\n",
       "      <td>1975.390802</td>\n",
       "      <td>2863.730319</td>\n",
       "      <td>706.603901</td>\n",
       "    </tr>\n",
       "    <tr>\n",
       "      <th>Porto De Suape</th>\n",
       "      <td>2103.354422</td>\n",
       "      <td>1869.279589</td>\n",
       "      <td>1643.841933</td>\n",
       "      <td>637.106285</td>\n",
       "      <td>1607.968400</td>\n",
       "      <td>2841.333120</td>\n",
       "      <td>2610.100411</td>\n",
       "      <td>1695.716388</td>\n",
       "    </tr>\n",
       "    <tr>\n",
       "      <th>Sao Sebastiao</th>\n",
       "      <td>116.468574</td>\n",
       "      <td>246.255403</td>\n",
       "      <td>922.876460</td>\n",
       "      <td>1439.559506</td>\n",
       "      <td>489.364806</td>\n",
       "      <td>2790.737899</td>\n",
       "      <td>534.907206</td>\n",
       "      <td>2520.013507</td>\n",
       "    </tr>\n",
       "    <tr>\n",
       "      <th>Porto Alegre</th>\n",
       "      <td>873.579840</td>\n",
       "      <td>1131.972395</td>\n",
       "      <td>1608.962449</td>\n",
       "      <td>2338.373437</td>\n",
       "      <td>1370.955950</td>\n",
       "      <td>3133.273638</td>\n",
       "      <td>370.518357</td>\n",
       "      <td>3192.817209</td>\n",
       "    </tr>\n",
       "    <tr>\n",
       "      <th>Sao Francisco</th>\n",
       "      <td>382.581936</td>\n",
       "      <td>667.068214</td>\n",
       "      <td>1156.757681</td>\n",
       "      <td>1848.757620</td>\n",
       "      <td>879.673853</td>\n",
       "      <td>2846.986805</td>\n",
       "      <td>158.134767</td>\n",
       "      <td>2763.531465</td>\n",
       "    </tr>\n",
       "    <tr>\n",
       "      <th>Santos</th>\n",
       "      <td>60.285901</td>\n",
       "      <td>336.840080</td>\n",
       "      <td>916.131756</td>\n",
       "      <td>1503.504871</td>\n",
       "      <td>539.576757</td>\n",
       "      <td>2750.220613</td>\n",
       "      <td>471.909979</td>\n",
       "      <td>2523.542123</td>\n",
       "    </tr>\n",
       "    <tr>\n",
       "      <th>Vitoria</th>\n",
       "      <td>724.103309</td>\n",
       "      <td>412.874702</td>\n",
       "      <td>945.370886</td>\n",
       "      <td>871.332211</td>\n",
       "      <td>388.004920</td>\n",
       "      <td>2877.110506</td>\n",
       "      <td>1173.859123</td>\n",
       "      <td>2300.907362</td>\n",
       "    </tr>\n",
       "    <tr>\n",
       "      <th>Vila Do Conde</th>\n",
       "      <td>2447.390678</td>\n",
       "      <td>2447.041476</td>\n",
       "      <td>1593.895601</td>\n",
       "      <td>1719.067617</td>\n",
       "      <td>2083.991348</td>\n",
       "      <td>1267.605039</td>\n",
       "      <td>2902.031022</td>\n",
       "      <td>35.886867</td>\n",
       "    </tr>\n",
       "    <tr>\n",
       "      <th>Tubarao</th>\n",
       "      <td>733.536010</td>\n",
       "      <td>421.815958</td>\n",
       "      <td>951.016346</td>\n",
       "      <td>865.639116</td>\n",
       "      <td>395.886973</td>\n",
       "      <td>2881.588731</td>\n",
       "      <td>1182.657631</td>\n",
       "      <td>2301.239995</td>\n",
       "    </tr>\n",
       "    <tr>\n",
       "      <th>Paranagua</th>\n",
       "      <td>310.122786</td>\n",
       "      <td>613.685944</td>\n",
       "      <td>1072.847448</td>\n",
       "      <td>1775.347212</td>\n",
       "      <td>804.518079</td>\n",
       "      <td>2778.830902</td>\n",
       "      <td>241.366210</td>\n",
       "      <td>2680.325904</td>\n",
       "    </tr>\n",
       "    <tr>\n",
       "      <th>Guaiba Island Terminal</th>\n",
       "      <td>253.451432</td>\n",
       "      <td>83.581854</td>\n",
       "      <td>896.378698</td>\n",
       "      <td>1294.218692</td>\n",
       "      <td>379.377843</td>\n",
       "      <td>2810.644009</td>\n",
       "      <td>690.358499</td>\n",
       "      <td>2461.628137</td>\n",
       "    </tr>\n",
       "  </tbody>\n",
       "</table>\n",
       "</div>"
      ],
      "text/plain": [
       "airport_name               Guarulhos - Governador André Franco Montoro International Airport  \\\n",
       "seaport_name                                                                                   \n",
       "Dtse / Gegua Oil Terminal                                         346.724171                   \n",
       "Porto De Mucuripe                                                2385.543307                   \n",
       "Portocel                                                          776.722303                   \n",
       "Santa Clara                                                       579.203362                   \n",
       "Aratu                                                            1466.826530                   \n",
       "Cabedelo                                                         2248.124981                   \n",
       "Imbituba                                                          578.310920                   \n",
       "Angra Dos Reis                                                    225.003606                   \n",
       "Natal                                                            2341.056650                   \n",
       "Guamare Oil Terminal                                             2371.907633                   \n",
       "Itaqui                                                           2344.169726                   \n",
       "Manaus                                                           2682.252079                   \n",
       "Itacoatiara                                                      2592.193077                   \n",
       "Belem                                                            2456.456648                   \n",
       "Macae                                                             496.852182                   \n",
       "Niteroi                                                           348.597382                   \n",
       "Pelotas                                                          1093.531165                   \n",
       "Rio De Janeiro                                                    343.209409                   \n",
       "Recife                                                           2142.801315                   \n",
       "Tramandai                                                         814.930209                   \n",
       "Madre De Deus                                                    1462.725337                   \n",
       "Laguna                                                            610.078831                   \n",
       "Port De Aracaju                                                  1733.070695                   \n",
       "Porto Santana                                                    2646.507607                   \n",
       "Porto De Maceio                                                  1934.791716                   \n",
       "Port De Salvador                                                 1448.644611                   \n",
       "Rio Grande                                                       1106.010760                   \n",
       "Santarem                                                         2494.223469                   \n",
       "Porto Do Forno                                                    458.612166                   \n",
       "Port Of Ilheus                                                   1250.183516                   \n",
       "Itajai                                                            445.212169                   \n",
       "Cameta                                                           2378.168716                   \n",
       "Gebig                                                             234.293252                   \n",
       "Camocim                                                          2386.572249                   \n",
       "Tutoia                                                           2359.329043                   \n",
       "Porto De Suape                                                   2103.354422                   \n",
       "Sao Sebastiao                                                     116.468574                   \n",
       "Porto Alegre                                                      873.579840                   \n",
       "Sao Francisco                                                     382.581936                   \n",
       "Santos                                                             60.285901                   \n",
       "Vitoria                                                           724.103309                   \n",
       "Vila Do Conde                                                    2447.390678                   \n",
       "Tubarao                                                           733.536010                   \n",
       "Paranagua                                                         310.122786                   \n",
       "Guaiba Island Terminal                                            253.451432                   \n",
       "\n",
       "airport_name               Rio Galeão – Tom Jobim International Airport  \\\n",
       "seaport_name                                                              \n",
       "Dtse / Gegua Oil Terminal                                     10.350933   \n",
       "Porto De Mucuripe                                           2225.886834   \n",
       "Portocel                                                     471.101490   \n",
       "Santa Clara                                                  865.876382   \n",
       "Aratu                                                       1242.804930   \n",
       "Cabedelo                                                    2023.173930   \n",
       "Imbituba                                                     814.278300   \n",
       "Angra Dos Reis                                               111.795735   \n",
       "Natal                                                       2128.327377   \n",
       "Guamare Oil Terminal                                        2177.693211   \n",
       "Itaqui                                                      2275.985960   \n",
       "Manaus                                                      2836.382779   \n",
       "Itacoatiara                                                 2730.217800   \n",
       "Belem                                                       2452.107621   \n",
       "Macae                                                        160.532855   \n",
       "Niteroi                                                       16.028283   \n",
       "Pelotas                                                     1343.662618   \n",
       "Rio De Janeiro                                                13.287640   \n",
       "Recife                                                      1910.277530   \n",
       "Tramandai                                                   1054.174075   \n",
       "Madre De Deus                                               1241.121137   \n",
       "Laguna                                                       843.875837   \n",
       "Port De Aracaju                                             1504.384506   \n",
       "Porto Santana                                               2677.012736   \n",
       "Porto De Maceio                                             1699.567552   \n",
       "Port De Salvador                                            1222.959201   \n",
       "Rio Grande                                                  1349.213774   \n",
       "Santarem                                                    2582.870485   \n",
       "Porto Do Forno                                               127.835449   \n",
       "Port Of Ilheus                                              1012.231807   \n",
       "Itajai                                                       711.429716   \n",
       "Cameta                                                      2391.088714   \n",
       "Gebig                                                        102.687867   \n",
       "Camocim                                                     2263.438786   \n",
       "Tutoia                                                      2258.261495   \n",
       "Porto De Suape                                              1869.279589   \n",
       "Sao Sebastiao                                                246.255403   \n",
       "Porto Alegre                                                1131.972395   \n",
       "Sao Francisco                                                667.068214   \n",
       "Santos                                                       336.840080   \n",
       "Vitoria                                                      412.874702   \n",
       "Vila Do Conde                                               2447.041476   \n",
       "Tubarao                                                      421.815958   \n",
       "Paranagua                                                    613.685944   \n",
       "Guaiba Island Terminal                                        83.581854   \n",
       "\n",
       "airport_name               Presidente Juscelino Kubitschek International Airport  \\\n",
       "seaport_name                                                                       \n",
       "Dtse / Gegua Oil Terminal                                         924.184620       \n",
       "Porto De Mucuripe                                                1715.246883       \n",
       "Portocel                                                          946.209008       \n",
       "Santa Clara                                                       664.999298       \n",
       "Aratu                                                            1073.851757       \n",
       "Cabedelo                                                         1747.914940       \n",
       "Imbituba                                                         1377.148556       \n",
       "Angra Dos Reis                                                    883.019058       \n",
       "Natal                                                            1799.131283       \n",
       "Guamare Oil Terminal                                             1779.896593       \n",
       "Itaqui                                                           1535.410406       \n",
       "Manaus                                                           1935.849306       \n",
       "Itacoatiara                                                      1820.822272       \n",
       "Belem                                                            1604.006437       \n",
       "Macae                                                             973.748856       \n",
       "Niteroi                                                           932.309968       \n",
       "Pelotas                                                          1822.421018       \n",
       "Rio De Janeiro                                                    930.999018       \n",
       "Recife                                                           1674.666425       \n",
       "Tramandai                                                        1584.514525       \n",
       "Madre De Deus                                                    1063.232802       \n",
       "Laguna                                                           1407.360604       \n",
       "Port De Aracaju                                                  1303.001081       \n",
       "Porto Santana                                                    1791.151164       \n",
       "Porto De Maceio                                                  1497.384909       \n",
       "Port De Salvador                                                 1065.257319       \n",
       "Rio Grande                                                       1845.254974       \n",
       "Santarem                                                         1666.149767       \n",
       "Porto Do Forno                                                   1007.569738       \n",
       "Port Of Ilheus                                                    963.853808       \n",
       "Itajai                                                           1230.766858       \n",
       "Cameta                                                           1522.497285       \n",
       "Gebig                                                             890.971113       \n",
       "Camocim                                                          1649.578153       \n",
       "Tutoia                                                           1590.076044       \n",
       "Porto De Suape                                                   1643.841933       \n",
       "Sao Sebastiao                                                     922.876460       \n",
       "Porto Alegre                                                     1608.962449       \n",
       "Sao Francisco                                                    1156.757681       \n",
       "Santos                                                            916.131756       \n",
       "Vitoria                                                           945.370886       \n",
       "Vila Do Conde                                                    1593.895601       \n",
       "Tubarao                                                           951.016346       \n",
       "Paranagua                                                        1072.847448       \n",
       "Guaiba Island Terminal                                            896.378698       \n",
       "\n",
       "airport_name               Deputado Luiz Eduardo Magalhães International Airport  \\\n",
       "seaport_name                                                                       \n",
       "Dtse / Gegua Oil Terminal                                        1234.297632       \n",
       "Porto De Mucuripe                                                1053.738618       \n",
       "Portocel                                                          813.018817       \n",
       "Santa Clara                                                      1651.678293       \n",
       "Aratu                                                              24.032516       \n",
       "Cabedelo                                                          786.022123       \n",
       "Imbituba                                                         2031.882238       \n",
       "Angra Dos Reis                                                   1308.028199       \n",
       "Natal                                                             891.421964       \n",
       "Guamare Oil Terminal                                              953.130770       \n",
       "Itaqui                                                           1347.564542       \n",
       "Manaus                                                           2625.311641       \n",
       "Itacoatiara                                                      2468.851545       \n",
       "Belem                                                            1709.617689       \n",
       "Macae                                                            1135.432221       \n",
       "Niteroi                                                          1239.746717       \n",
       "Pelotas                                                          2557.070047       \n",
       "Rio De Janeiro                                                   1243.545205       \n",
       "Recife                                                            676.860725       \n",
       "Tramandai                                                        2272.782881       \n",
       "Madre De Deus                                                      36.749390       \n",
       "Laguna                                                           2062.999867       \n",
       "Port De Aracaju                                                   267.564965       \n",
       "Porto Santana                                                    2023.853225       \n",
       "Porto De Maceio                                                   468.512961       \n",
       "Port De Salvador                                                   22.089660       \n",
       "Rio Grande                                                       2567.264855       \n",
       "Santarem                                                         2153.673543       \n",
       "Porto Do Forno                                                   1207.778202       \n",
       "Port Of Ilheus                                                    227.158223       \n",
       "Itajai                                                           1908.751545       \n",
       "Cameta                                                           1718.258865       \n",
       "Gebig                                                            1306.374359       \n",
       "Camocim                                                          1174.469354       \n",
       "Tutoia                                                           1231.305489       \n",
       "Porto De Suape                                                    637.106285       \n",
       "Sao Sebastiao                                                    1439.559506       \n",
       "Porto Alegre                                                     2338.373437       \n",
       "Sao Francisco                                                    1848.757620       \n",
       "Santos                                                           1503.504871       \n",
       "Vitoria                                                           871.332211       \n",
       "Vila Do Conde                                                    1719.067617       \n",
       "Tubarao                                                           865.639116       \n",
       "Paranagua                                                        1775.347212       \n",
       "Guaiba Island Terminal                                           1294.218692       \n",
       "\n",
       "airport_name               Tancredo Neves International Airport  \\\n",
       "seaport_name                                                      \n",
       "Dtse / Gegua Oil Terminal                            367.249276   \n",
       "Porto De Mucuripe                                   1899.676213   \n",
       "Portocel                                             411.269111   \n",
       "Santa Clara                                          785.388683   \n",
       "Aratu                                                971.167168   \n",
       "Cabedelo                                            1751.230863   \n",
       "Imbituba                                            1072.105305   \n",
       "Angra Dos Reis                                       380.901616   \n",
       "Natal                                               1843.689307   \n",
       "Guamare Oil Terminal                                1876.302092   \n",
       "Itaqui                                              1915.248841   \n",
       "Manaus                                              2529.751943   \n",
       "Itacoatiara                                         2413.939317   \n",
       "Belem                                               2088.711020   \n",
       "Macae                                                383.200281   \n",
       "Niteroi                                              375.348945   \n",
       "Pelotas                                             1590.903559   \n",
       "Rio De Janeiro                                       375.961548   \n",
       "Recife                                              1647.057100   \n",
       "Tramandai                                           1310.905328   \n",
       "Madre De Deus                                        966.657897   \n",
       "Laguna                                              1103.719364   \n",
       "Port De Aracaju                                     1237.441529   \n",
       "Porto Santana                                       2318.125252   \n",
       "Porto De Maceio                                     1440.007502   \n",
       "Port De Salvador                                     953.390744   \n",
       "Rio Grande                                          1603.088647   \n",
       "Santarem                                            2242.151898   \n",
       "Porto Do Forno                                       425.934098   \n",
       "Port Of Ilheus                                       760.366657   \n",
       "Itajai                                               942.378862   \n",
       "Cameta                                              2029.693661   \n",
       "Gebig                                                383.834407   \n",
       "Camocim                                             1918.592061   \n",
       "Tutoia                                              1905.363602   \n",
       "Porto De Suape                                      1607.968400   \n",
       "Sao Sebastiao                                        489.364806   \n",
       "Porto Alegre                                        1370.955950   \n",
       "Sao Francisco                                        879.673853   \n",
       "Santos                                               539.576757   \n",
       "Vitoria                                              388.004920   \n",
       "Vila Do Conde                                       2083.991348   \n",
       "Tubarao                                              395.886973   \n",
       "Paranagua                                            804.518079   \n",
       "Guaiba Island Terminal                               379.377843   \n",
       "\n",
       "airport_name               Eduardo Gomes International Airport  \\\n",
       "seaport_name                                                     \n",
       "Dtse / Gegua Oil Terminal                          2854.493600   \n",
       "Porto De Mucuripe                                  2397.739727   \n",
       "Portocel                                           2867.979624   \n",
       "Santa Clara                                        2189.659524   \n",
       "Aratu                                              2609.953079   \n",
       "Cabedelo                                           2830.123680   \n",
       "Imbituba                                           3042.768039   \n",
       "Angra Dos Reis                                     2791.717379   \n",
       "Natal                                              2774.776071   \n",
       "Guamare Oil Terminal                               2647.096318   \n",
       "Itaqui                                             1744.522370   \n",
       "Manaus                                               11.154274   \n",
       "Itacoatiara                                         178.249697   \n",
       "Belem                                              1296.677448   \n",
       "Macae                                              2918.055893   \n",
       "Niteroi                                            2862.315099   \n",
       "Pelotas                                            3287.745109   \n",
       "Rio De Janeiro                                     2860.201645   \n",
       "Recife                                             2845.133868   \n",
       "Tramandai                                          3164.410125   \n",
       "Madre De Deus                                      2596.778994   \n",
       "Laguna                                             3064.635623   \n",
       "Port De Aracaju                                    2687.325788   \n",
       "Porto Santana                                      1040.555921   \n",
       "Porto De Maceio                                    2788.984232   \n",
       "Port De Salvador                                   2616.268890   \n",
       "Rio Grande                                         3322.620918   \n",
       "Santarem                                            596.990455   \n",
       "Porto Do Forno                                     2947.271281   \n",
       "Port Of Ilheus                                     2653.948977   \n",
       "Itajai                                             2912.927857   \n",
       "Cameta                                             1176.378545   \n",
       "Gebig                                              2801.212589   \n",
       "Camocim                                            2136.332613   \n",
       "Tutoia                                             1975.390802   \n",
       "Porto De Suape                                     2841.333120   \n",
       "Sao Sebastiao                                      2790.737899   \n",
       "Porto Alegre                                       3133.273638   \n",
       "Sao Francisco                                      2846.986805   \n",
       "Santos                                             2750.220613   \n",
       "Vitoria                                            2877.110506   \n",
       "Vila Do Conde                                      1267.605039   \n",
       "Tubarao                                            2881.588731   \n",
       "Paranagua                                          2778.830902   \n",
       "Guaiba Island Terminal                             2810.644009   \n",
       "\n",
       "airport_name               Hercílio Luz International Airport  \\\n",
       "seaport_name                                                    \n",
       "Dtse / Gegua Oil Terminal                          768.135646   \n",
       "Porto De Mucuripe                                 2901.295202   \n",
       "Portocel                                          1232.521248   \n",
       "Santa Clara                                        805.599343   \n",
       "Aratu                                             1975.180167   \n",
       "Cabedelo                                          2757.957782   \n",
       "Imbituba                                            63.612808   \n",
       "Angra Dos Reis                                     671.807826   \n",
       "Natal                                             2853.930050   \n",
       "Guamare Oil Terminal                              2887.478112   \n",
       "Itaqui                                            2836.644708   \n",
       "Manaus                                            2980.307205   \n",
       "Itacoatiara                                       2913.273479   \n",
       "Belem                                             2913.649490   \n",
       "Macae                                              905.988525   \n",
       "Niteroi                                            765.202458   \n",
       "Pelotas                                            585.001710   \n",
       "Rio De Janeiro                                     760.258369   \n",
       "Recife                                            2650.142734   \n",
       "Tramandai                                          299.764293   \n",
       "Madre De Deus                                     1971.741706   \n",
       "Laguna                                              95.009235   \n",
       "Port De Aracaju                                   2240.825988   \n",
       "Porto Santana                                     3076.376196   \n",
       "Porto De Maceio                                   2440.819954   \n",
       "Port De Salvador                                  1956.445482   \n",
       "Rio Grande                                         593.951743   \n",
       "Santarem                                          2873.540176   \n",
       "Porto Do Forno                                     842.325416   \n",
       "Port Of Ilheus                                    1752.959780   \n",
       "Itajai                                              84.183089   \n",
       "Cameta                                            2824.439489   \n",
       "Gebig                                              675.394423   \n",
       "Camocim                                           2896.762517   \n",
       "Tutoia                                            2863.730319   \n",
       "Porto De Suape                                    2610.100411   \n",
       "Sao Sebastiao                                      534.907206   \n",
       "Porto Alegre                                       370.518357   \n",
       "Sao Francisco                                      158.134767   \n",
       "Santos                                             471.909979   \n",
       "Vitoria                                           1173.859123   \n",
       "Vila Do Conde                                     2902.031022   \n",
       "Tubarao                                           1182.657631   \n",
       "Paranagua                                          241.366210   \n",
       "Guaiba Island Terminal                             690.358499   \n",
       "\n",
       "airport_name               Val de Cans/Júlio Cezar Ribeiro International Airport  \n",
       "seaport_name                                                                      \n",
       "Dtse / Gegua Oil Terminal                                        2462.791784      \n",
       "Porto De Mucuripe                                                1141.963646      \n",
       "Portocel                                                         2266.253017      \n",
       "Santa Clara                                                      2185.898767      \n",
       "Aratu                                                            1690.370196      \n",
       "Cabedelo                                                         1641.263825      \n",
       "Imbituba                                                         2983.998277      \n",
       "Angra Dos Reis                                                   2455.089996      \n",
       "Natal                                                            1556.780342      \n",
       "Guamare Oil Terminal                                             1411.272089      \n",
       "Itaqui                                                            476.002360      \n",
       "Manaus                                                           1298.255235      \n",
       "Itacoatiara                                                      1126.561239      \n",
       "Belem                                                               8.290566      \n",
       "Macae                                                            2458.151928      \n",
       "Niteroi                                                          2470.939163      \n",
       "Pelotas                                                          3396.677050      \n",
       "Rio De Janeiro                                                   2471.340121      \n",
       "Recife                                                           1687.882366      \n",
       "Tramandai                                                        3180.525010      \n",
       "Madre De Deus                                                    1679.002816      \n",
       "Laguna                                                           3013.520141      \n",
       "Port De Aracaju                                                  1659.464068      \n",
       "Porto Santana                                                     335.441624      \n",
       "Porto De Maceio                                                  1693.889037      \n",
       "Port De Salvador                                                 1704.676897      \n",
       "Rio Grande                                                       3423.363634      \n",
       "Santarem                                                          703.734669      \n",
       "Porto Do Forno                                                   2513.571318      \n",
       "Port Of Ilheus                                                   1830.939739      \n",
       "Itajai                                                           2837.650203      \n",
       "Cameta                                                            149.389065      \n",
       "Gebig                                                            2460.997434      \n",
       "Camocim                                                           867.120057      \n",
       "Tutoia                                                            706.603901      \n",
       "Porto De Suape                                                   1695.716388      \n",
       "Sao Sebastiao                                                    2520.013507      \n",
       "Porto Alegre                                                     3192.817209      \n",
       "Sao Francisco                                                    2763.531465      \n",
       "Santos                                                           2523.542123      \n",
       "Vitoria                                                          2300.907362      \n",
       "Vila Do Conde                                                      35.886867      \n",
       "Tubarao                                                          2301.239995      \n",
       "Paranagua                                                        2680.325904      \n",
       "Guaiba Island Terminal                                           2461.628137      "
      ]
     },
     "execution_count": 26,
     "metadata": {},
     "output_type": "execute_result"
    }
   ],
   "source": [
    "# apply creates a LOOP, computes distances from each seaport to all large airports\n",
    "seaports_brazil5880.geometry.apply\\\n",
    "(lambda seaport: large_airports.geometry.distance(seaport)/1000)"
   ]
  },
  {
   "cell_type": "markdown",
   "id": "e1bf8401-ba3a-42df-a31e-53b8d9f46509",
   "metadata": {
    "id": "e1bf8401-ba3a-42df-a31e-53b8d9f46509"
   },
   "source": [
    "If we save the matrix..."
   ]
  },
  {
   "cell_type": "code",
   "execution_count": 27,
   "id": "05c0c0fa-96f3-4f82-8a98-c6c30b570b95",
   "metadata": {
    "id": "05c0c0fa-96f3-4f82-8a98-c6c30b570b95"
   },
   "outputs": [],
   "source": [
    "D_Matrix_sea_air=seaports_brazil5880.geometry.apply \\\n",
    "                (lambda seaport: large_airports.geometry.distance(seaport)/1000)"
   ]
  },
  {
   "cell_type": "markdown",
   "id": "344e4efb-277f-44c0-b06b-b9996b9a3133",
   "metadata": {
    "id": "344e4efb-277f-44c0-b06b-b9996b9a3133"
   },
   "source": [
    "We can compute some distance stats from there:\n",
    "\n",
    "> Some summary of distances from each seaport to all large airports"
   ]
  },
  {
   "cell_type": "code",
   "execution_count": 28,
   "id": "e50fe44a-4ba2-45cc-bf5f-e80cfd513d13",
   "metadata": {
    "id": "e50fe44a-4ba2-45cc-bf5f-e80cfd513d13"
   },
   "outputs": [
    {
     "data": {
      "text/html": [
       "<div>\n",
       "<style scoped>\n",
       "    .dataframe tbody tr th:only-of-type {\n",
       "        vertical-align: middle;\n",
       "    }\n",
       "\n",
       "    .dataframe tbody tr th {\n",
       "        vertical-align: top;\n",
       "    }\n",
       "\n",
       "    .dataframe thead th {\n",
       "        text-align: right;\n",
       "    }\n",
       "</style>\n",
       "<table border=\"1\" class=\"dataframe\">\n",
       "  <thead>\n",
       "    <tr style=\"text-align: right;\">\n",
       "      <th></th>\n",
       "      <th>mean</th>\n",
       "      <th>min</th>\n",
       "      <th>max</th>\n",
       "    </tr>\n",
       "    <tr>\n",
       "      <th>seaport_name</th>\n",
       "      <th></th>\n",
       "      <th></th>\n",
       "      <th></th>\n",
       "    </tr>\n",
       "  </thead>\n",
       "  <tbody>\n",
       "    <tr>\n",
       "      <th>Dtse / Gegua Oil Terminal</th>\n",
       "      <td>1121.028458</td>\n",
       "      <td>10.350933</td>\n",
       "      <td>2854.493600</td>\n",
       "    </tr>\n",
       "    <tr>\n",
       "      <th>Porto De Mucuripe</th>\n",
       "      <td>1965.136304</td>\n",
       "      <td>1053.738618</td>\n",
       "      <td>2901.295202</td>\n",
       "    </tr>\n",
       "    <tr>\n",
       "      <th>Portocel</th>\n",
       "      <td>1223.134327</td>\n",
       "      <td>411.269111</td>\n",
       "      <td>2867.979624</td>\n",
       "    </tr>\n",
       "    <tr>\n",
       "      <th>Santa Clara</th>\n",
       "      <td>1216.037957</td>\n",
       "      <td>579.203362</td>\n",
       "      <td>2189.659524</td>\n",
       "    </tr>\n",
       "    <tr>\n",
       "      <th>Aratu</th>\n",
       "      <td>1381.773293</td>\n",
       "      <td>24.032516</td>\n",
       "      <td>2609.953079</td>\n",
       "    </tr>\n",
       "    <tr>\n",
       "      <th>Cabedelo</th>\n",
       "      <td>1973.226516</td>\n",
       "      <td>786.022123</td>\n",
       "      <td>2830.123680</td>\n",
       "    </tr>\n",
       "    <tr>\n",
       "      <th>Imbituba</th>\n",
       "      <td>1495.513055</td>\n",
       "      <td>63.612808</td>\n",
       "      <td>3042.768039</td>\n",
       "    </tr>\n",
       "    <tr>\n",
       "      <th>Angra Dos Reis</th>\n",
       "      <td>1103.420427</td>\n",
       "      <td>111.795735</td>\n",
       "      <td>2791.717379</td>\n",
       "    </tr>\n",
       "    <tr>\n",
       "      <th>Natal</th>\n",
       "      <td>2023.639130</td>\n",
       "      <td>891.421964</td>\n",
       "      <td>2853.930050</td>\n",
       "    </tr>\n",
       "    <tr>\n",
       "      <th>Guamare Oil Terminal</th>\n",
       "      <td>2013.097102</td>\n",
       "      <td>953.130770</td>\n",
       "      <td>2887.478112</td>\n",
       "    </tr>\n",
       "  </tbody>\n",
       "</table>\n",
       "</div>"
      ],
      "text/plain": [
       "                                  mean          min          max\n",
       "seaport_name                                                    \n",
       "Dtse / Gegua Oil Terminal  1121.028458    10.350933  2854.493600\n",
       "Porto De Mucuripe          1965.136304  1053.738618  2901.295202\n",
       "Portocel                   1223.134327   411.269111  2867.979624\n",
       "Santa Clara                1216.037957   579.203362  2189.659524\n",
       "Aratu                      1381.773293    24.032516  2609.953079\n",
       "Cabedelo                   1973.226516   786.022123  2830.123680\n",
       "Imbituba                   1495.513055    63.612808  3042.768039\n",
       "Angra Dos Reis             1103.420427   111.795735  2791.717379\n",
       "Natal                      2023.639130   891.421964  2853.930050\n",
       "Guamare Oil Terminal       2013.097102   953.130770  2887.478112"
      ]
     },
     "execution_count": 28,
     "metadata": {},
     "output_type": "execute_result"
    }
   ],
   "source": [
    "Stat_sea_air=pd.DataFrame()\n",
    "Stat_sea_air['mean']=D_Matrix_sea_air.mean(axis=1) # mean D to all airports\n",
    "Stat_sea_air['min']=D_Matrix_sea_air.min(axis=1)# min D to all airports\n",
    "Stat_sea_air['max']=D_Matrix_sea_air.max(axis=1)# max D to all airports\n",
    "\n",
    "# see some\n",
    "Stat_sea_air.head(10)"
   ]
  },
  {
   "cell_type": "markdown",
   "id": "17565f68-8797-44be-8212-a7a2776a458a",
   "metadata": {
    "id": "17565f68-8797-44be-8212-a7a2776a458a"
   },
   "source": [
    "Of course, the idmax and idmin could come in handy:\n",
    "> Farthest airport to each seaport"
   ]
  },
  {
   "cell_type": "code",
   "execution_count": 29,
   "id": "8690e80d-e3c5-4d22-99cc-8954ea7fee9b",
   "metadata": {
    "id": "8690e80d-e3c5-4d22-99cc-8954ea7fee9b"
   },
   "outputs": [
    {
     "data": {
      "text/plain": [
       "seaport_name\n",
       "Dtse / Gegua Oil Terminal    Eduardo Gomes International Airport\n",
       "Porto De Mucuripe             Hercílio Luz International Airport\n",
       "Portocel                     Eduardo Gomes International Airport\n",
       "Santa Clara                  Eduardo Gomes International Airport\n",
       "Aratu                        Eduardo Gomes International Airport\n",
       "dtype: object"
      ]
     },
     "execution_count": 29,
     "metadata": {},
     "output_type": "execute_result"
    }
   ],
   "source": [
    "D_Matrix_sea_air.idxmax(axis=1).head()"
   ]
  },
  {
   "cell_type": "markdown",
   "id": "1eaca75c-130e-4e5e-b0ef-63fac2e6ae25",
   "metadata": {
    "id": "1eaca75c-130e-4e5e-b0ef-63fac2e6ae25"
   },
   "source": [
    "> Farthest seaport to each airport"
   ]
  },
  {
   "cell_type": "code",
   "execution_count": 30,
   "id": "ffcb2ed2-7e2f-4bd4-9289-c5b68b328d6f",
   "metadata": {
    "id": "ffcb2ed2-7e2f-4bd4-9289-c5b68b328d6f"
   },
   "outputs": [
    {
     "data": {
      "text/plain": [
       "airport_name\n",
       "Guarulhos - Governador André Franco Montoro International Airport    Manaus\n",
       "Rio Galeão – Tom Jobim International Airport                         Manaus\n",
       "Presidente Juscelino Kubitschek International Airport                Manaus\n",
       "Deputado Luiz Eduardo Magalhães International Airport                Manaus\n",
       "Tancredo Neves International Airport                                 Manaus\n",
       "dtype: object"
      ]
     },
     "execution_count": 30,
     "metadata": {},
     "output_type": "execute_result"
    }
   ],
   "source": [
    "D_Matrix_sea_air.idxmax(axis=0).head()"
   ]
  },
  {
   "cell_type": "markdown",
   "id": "b86a39c4-eec0-4e21-aaf5-20ab83411534",
   "metadata": {
    "id": "b86a39c4-eec0-4e21-aaf5-20ab83411534"
   },
   "source": [
    "> Closest airport to each seaport"
   ]
  },
  {
   "cell_type": "code",
   "execution_count": 32,
   "id": "3dce5c5a-2b8d-4930-a476-5be12829f5d8",
   "metadata": {
    "id": "3dce5c5a-2b8d-4930-a476-5be12829f5d8"
   },
   "outputs": [
    {
     "data": {
      "text/plain": [
       "seaport_name\n",
       "Dtse / Gegua Oil Terminal         Rio Galeão – Tom Jobim International Airport\n",
       "Porto De Mucuripe            Deputado Luiz Eduardo Magalhães International ...\n",
       "Portocel                                  Tancredo Neves International Airport\n",
       "Santa Clara                  Guarulhos - Governador André Franco Montoro In...\n",
       "Aratu                        Deputado Luiz Eduardo Magalhães International ...\n",
       "dtype: object"
      ]
     },
     "execution_count": 32,
     "metadata": {},
     "output_type": "execute_result"
    }
   ],
   "source": [
    "D_Matrix_sea_air.idxmin(axis=1).head()"
   ]
  },
  {
   "cell_type": "markdown",
   "id": "c8a8f228-8e64-4707-9fbf-40df21a3fb6e",
   "metadata": {
    "id": "c8a8f228-8e64-4707-9fbf-40df21a3fb6e"
   },
   "source": [
    "> Closest seaport to each airport\n"
   ]
  },
  {
   "cell_type": "code",
   "execution_count": 33,
   "id": "9ba65570-a5da-48a9-ba91-74c3f34a7bc4",
   "metadata": {
    "id": "9ba65570-a5da-48a9-ba91-74c3f34a7bc4"
   },
   "outputs": [
    {
     "data": {
      "text/plain": [
       "airport_name\n",
       "Guarulhos - Governador André Franco Montoro International Airport                       Santos\n",
       "Rio Galeão – Tom Jobim International Airport                         Dtse / Gegua Oil Terminal\n",
       "Presidente Juscelino Kubitschek International Airport                              Santa Clara\n",
       "Deputado Luiz Eduardo Magalhães International Airport                         Port De Salvador\n",
       "Tancredo Neves International Airport                                 Dtse / Gegua Oil Terminal\n",
       "dtype: object"
      ]
     },
     "execution_count": 33,
     "metadata": {},
     "output_type": "execute_result"
    }
   ],
   "source": [
    "# closest seaport to each airport\n",
    "D_Matrix_sea_air.idxmin(axis=0).head()"
   ]
  },
  {
   "cell_type": "markdown",
   "id": "97c282ec-edae-4a48-a4ea-08a2694cae42",
   "metadata": {
    "id": "97c282ec-edae-4a48-a4ea-08a2694cae42"
   },
   "source": [
    "### b. Distance between line and point\n",
    "\n",
    "Once we know understand how **distance** and idxmin/idxmax work, we can feel comfortable in this stage.\n",
    "\n",
    "Let's use these rivers from before:"
   ]
  },
  {
   "cell_type": "code",
   "execution_count": 34,
   "id": "fb1bd828-00c0-4629-878f-c0e7fc5b9436",
   "metadata": {
    "id": "fb1bd828-00c0-4629-878f-c0e7fc5b9436"
   },
   "outputs": [
    {
     "data": {
      "text/html": [
       "<div>\n",
       "<style scoped>\n",
       "    .dataframe tbody tr th:only-of-type {\n",
       "        vertical-align: middle;\n",
       "    }\n",
       "\n",
       "    .dataframe tbody tr th {\n",
       "        vertical-align: top;\n",
       "    }\n",
       "\n",
       "    .dataframe thead th {\n",
       "        text-align: right;\n",
       "    }\n",
       "</style>\n",
       "<table border=\"1\" class=\"dataframe\">\n",
       "  <thead>\n",
       "    <tr style=\"text-align: right;\">\n",
       "      <th></th>\n",
       "      <th>SYSTEM</th>\n",
       "      <th>geometry</th>\n",
       "    </tr>\n",
       "    <tr>\n",
       "      <th>RIVER</th>\n",
       "      <th></th>\n",
       "      <th></th>\n",
       "    </tr>\n",
       "  </thead>\n",
       "  <tbody>\n",
       "    <tr>\n",
       "      <th>Amazon</th>\n",
       "      <td>Amazon</td>\n",
       "      <td>MULTILINESTRING ((4191497.619 9597916.381, 425...</td>\n",
       "    </tr>\n",
       "    <tr>\n",
       "      <th>Guapore</th>\n",
       "      <td>Amazon</td>\n",
       "      <td>MULTILINESTRING ((3784022.891 8842606.845, 378...</td>\n",
       "    </tr>\n",
       "    <tr>\n",
       "      <th>Japura</th>\n",
       "      <td>Amazon</td>\n",
       "      <td>MULTILINESTRING ((3782432.967 9748590.005, 382...</td>\n",
       "    </tr>\n",
       "    <tr>\n",
       "      <th>Madeira</th>\n",
       "      <td>Amazon</td>\n",
       "      <td>MULTILINESTRING ((3784022.891 8842606.845, 378...</td>\n",
       "    </tr>\n",
       "    <tr>\n",
       "      <th>Madre de Dios</th>\n",
       "      <td>Amazon</td>\n",
       "      <td>MULTILINESTRING ((3407019.812 8246998.613, 343...</td>\n",
       "    </tr>\n",
       "    <tr>\n",
       "      <th>Purus</th>\n",
       "      <td>Amazon</td>\n",
       "      <td>MULTILINESTRING ((3008899.534 8748725.178, 305...</td>\n",
       "    </tr>\n",
       "    <tr>\n",
       "      <th>Putamayo</th>\n",
       "      <td>Amazon</td>\n",
       "      <td>MULTILINESTRING ((2478636.973 10162886.59, 246...</td>\n",
       "    </tr>\n",
       "    <tr>\n",
       "      <th>Rio Branco</th>\n",
       "      <td>Amazon</td>\n",
       "      <td>MULTILINESTRING ((4372657.932 10403233.815, 43...</td>\n",
       "    </tr>\n",
       "    <tr>\n",
       "      <th>Rio Juruena</th>\n",
       "      <td>Amazon</td>\n",
       "      <td>MULTILINESTRING ((4488340.769 8382801.957, 456...</td>\n",
       "    </tr>\n",
       "    <tr>\n",
       "      <th>Rio Maranon</th>\n",
       "      <td>Amazon</td>\n",
       "      <td>MULTILINESTRING ((2538298.165 8770999.896, 252...</td>\n",
       "    </tr>\n",
       "    <tr>\n",
       "      <th>Rio Negro</th>\n",
       "      <td>Amazon</td>\n",
       "      <td>MULTILINESTRING ((3242119.495 10234498.68, 327...</td>\n",
       "    </tr>\n",
       "    <tr>\n",
       "      <th>Rio Teles Pires</th>\n",
       "      <td>Amazon</td>\n",
       "      <td>MULTILINESTRING ((4890008.905 8388474.8, 49295...</td>\n",
       "    </tr>\n",
       "    <tr>\n",
       "      <th>Tapajos</th>\n",
       "      <td>Amazon</td>\n",
       "      <td>MULTILINESTRING ((4956154.209 9738475.606, 490...</td>\n",
       "    </tr>\n",
       "    <tr>\n",
       "      <th>Ucayali</th>\n",
       "      <td>Amazon</td>\n",
       "      <td>MULTILINESTRING ((3104425.924 8220993.168, 313...</td>\n",
       "    </tr>\n",
       "    <tr>\n",
       "      <th>Xingu</th>\n",
       "      <td>Amazon</td>\n",
       "      <td>MULTILINESTRING ((4921614.129 8334835.678, 503...</td>\n",
       "    </tr>\n",
       "  </tbody>\n",
       "</table>\n",
       "</div>"
      ],
      "text/plain": [
       "                 SYSTEM                                           geometry\n",
       "RIVER                                                                     \n",
       "Amazon           Amazon  MULTILINESTRING ((4191497.619 9597916.381, 425...\n",
       "Guapore          Amazon  MULTILINESTRING ((3784022.891 8842606.845, 378...\n",
       "Japura           Amazon  MULTILINESTRING ((3782432.967 9748590.005, 382...\n",
       "Madeira          Amazon  MULTILINESTRING ((3784022.891 8842606.845, 378...\n",
       "Madre de Dios    Amazon  MULTILINESTRING ((3407019.812 8246998.613, 343...\n",
       "Purus            Amazon  MULTILINESTRING ((3008899.534 8748725.178, 305...\n",
       "Putamayo         Amazon  MULTILINESTRING ((2478636.973 10162886.59, 246...\n",
       "Rio Branco       Amazon  MULTILINESTRING ((4372657.932 10403233.815, 43...\n",
       "Rio Juruena      Amazon  MULTILINESTRING ((4488340.769 8382801.957, 456...\n",
       "Rio Maranon      Amazon  MULTILINESTRING ((2538298.165 8770999.896, 252...\n",
       "Rio Negro        Amazon  MULTILINESTRING ((3242119.495 10234498.68, 327...\n",
       "Rio Teles Pires  Amazon  MULTILINESTRING ((4890008.905 8388474.8, 49295...\n",
       "Tapajos          Amazon  MULTILINESTRING ((4956154.209 9738475.606, 490...\n",
       "Ucayali          Amazon  MULTILINESTRING ((3104425.924 8220993.168, 313...\n",
       "Xingu            Amazon  MULTILINESTRING ((4921614.129 8334835.678, 503..."
      ]
     },
     "execution_count": 34,
     "metadata": {},
     "output_type": "execute_result"
    }
   ],
   "source": [
    "AmazonSystem_5880.set_index(\"RIVER\",inplace=True)\n",
    "AmazonSystem_5880"
   ]
  },
  {
   "cell_type": "markdown",
   "id": "5b60880d-4dc4-47f3-b35d-180f3f66177d",
   "metadata": {
    "id": "5b60880d-4dc4-47f3-b35d-180f3f66177d"
   },
   "source": [
    "Then,\n",
    "> Distance from river Tapajos to Guarulhos airport"
   ]
  },
  {
   "cell_type": "code",
   "execution_count": 35,
   "id": "243e6709-c61f-437a-afce-f33cb9a89ea0",
   "metadata": {
    "id": "243e6709-c61f-437a-afce-f33cb9a89ea0"
   },
   "outputs": [
    {
     "data": {
      "text/plain": [
       "2170.030197547702"
      ]
     },
     "execution_count": 35,
     "metadata": {},
     "output_type": "execute_result"
    }
   ],
   "source": [
    "airName='Guarulhos - Governador André Franco Montoro International Airport'\n",
    "rivName='Tapajos'\n",
    "AmazonSystem_5880.geometry.loc[rivName].distance(large_airports.geometry.loc[airName])/1000"
   ]
  },
  {
   "cell_type": "markdown",
   "id": "cf5edb0d-d99d-43f0-8ce9-d2a4652b7383",
   "metadata": {
    "id": "cf5edb0d-d99d-43f0-8ce9-d2a4652b7383"
   },
   "source": [
    "We can compute the distance matrix now:"
   ]
  },
  {
   "cell_type": "code",
   "execution_count": 37,
   "id": "37a72307-cf6c-4438-ac58-1c6fed1f90fd",
   "metadata": {
    "id": "37a72307-cf6c-4438-ac58-1c6fed1f90fd"
   },
   "outputs": [
    {
     "data": {
      "text/html": [
       "<div>\n",
       "<style scoped>\n",
       "    .dataframe tbody tr th:only-of-type {\n",
       "        vertical-align: middle;\n",
       "    }\n",
       "\n",
       "    .dataframe tbody tr th {\n",
       "        vertical-align: top;\n",
       "    }\n",
       "\n",
       "    .dataframe thead th {\n",
       "        text-align: right;\n",
       "    }\n",
       "</style>\n",
       "<table border=\"1\" class=\"dataframe\">\n",
       "  <thead>\n",
       "    <tr style=\"text-align: right;\">\n",
       "      <th>airport_name</th>\n",
       "      <th>Guarulhos - Governador André Franco Montoro International Airport</th>\n",
       "      <th>Rio Galeão – Tom Jobim International Airport</th>\n",
       "      <th>Presidente Juscelino Kubitschek International Airport</th>\n",
       "      <th>Deputado Luiz Eduardo Magalhães International Airport</th>\n",
       "      <th>Tancredo Neves International Airport</th>\n",
       "      <th>Eduardo Gomes International Airport</th>\n",
       "      <th>Hercílio Luz International Airport</th>\n",
       "      <th>Val de Cans/Júlio Cezar Ribeiro International Airport</th>\n",
       "    </tr>\n",
       "    <tr>\n",
       "      <th>RIVER</th>\n",
       "      <th></th>\n",
       "      <th></th>\n",
       "      <th></th>\n",
       "      <th></th>\n",
       "      <th></th>\n",
       "      <th></th>\n",
       "      <th></th>\n",
       "      <th></th>\n",
       "    </tr>\n",
       "  </thead>\n",
       "  <tbody>\n",
       "    <tr>\n",
       "      <th>Amazon</th>\n",
       "      <td>2475.774914</td>\n",
       "      <td>2551.736244</td>\n",
       "      <td>1640.038333</td>\n",
       "      <td>1972.201892</td>\n",
       "      <td>2196.772829</td>\n",
       "      <td>25.549158</td>\n",
       "      <td>2865.306190</td>\n",
       "      <td>385.680279</td>\n",
       "    </tr>\n",
       "    <tr>\n",
       "      <th>Guapore</th>\n",
       "      <td>1885.212408</td>\n",
       "      <td>2128.037913</td>\n",
       "      <td>1389.142048</td>\n",
       "      <td>2397.410373</td>\n",
       "      <td>1912.669967</td>\n",
       "      <td>983.345006</td>\n",
       "      <td>2057.607164</td>\n",
       "      <td>1828.131144</td>\n",
       "    </tr>\n",
       "    <tr>\n",
       "      <th>Japura</th>\n",
       "      <td>2980.961532</td>\n",
       "      <td>3174.069943</td>\n",
       "      <td>2308.103552</td>\n",
       "      <td>3088.311946</td>\n",
       "      <td>2895.025757</td>\n",
       "      <td>502.953032</td>\n",
       "      <td>3214.712005</td>\n",
       "      <td>1801.085954</td>\n",
       "    </tr>\n",
       "    <tr>\n",
       "      <th>Madeira</th>\n",
       "      <td>2437.258427</td>\n",
       "      <td>2652.416364</td>\n",
       "      <td>1782.114914</td>\n",
       "      <td>2467.828389</td>\n",
       "      <td>2375.088970</td>\n",
       "      <td>153.127907</td>\n",
       "      <td>2597.378000</td>\n",
       "      <td>1134.676321</td>\n",
       "    </tr>\n",
       "    <tr>\n",
       "      <th>Madre de Dios</th>\n",
       "      <td>2375.202840</td>\n",
       "      <td>2672.533506</td>\n",
       "      <td>1963.250807</td>\n",
       "      <td>2934.051647</td>\n",
       "      <td>2497.142251</td>\n",
       "      <td>983.345006</td>\n",
       "      <td>2384.616336</td>\n",
       "      <td>2088.021380</td>\n",
       "    </tr>\n",
       "    <tr>\n",
       "      <th>Purus</th>\n",
       "      <td>2644.379897</td>\n",
       "      <td>2848.394230</td>\n",
       "      <td>1965.341923</td>\n",
       "      <td>2709.393257</td>\n",
       "      <td>2556.618662</td>\n",
       "      <td>150.306441</td>\n",
       "      <td>2835.604884</td>\n",
       "      <td>1436.934359</td>\n",
       "    </tr>\n",
       "    <tr>\n",
       "      <th>Putamayo</th>\n",
       "      <td>3224.425810</td>\n",
       "      <td>3437.832352</td>\n",
       "      <td>2597.325439</td>\n",
       "      <td>3418.962714</td>\n",
       "      <td>3175.785436</td>\n",
       "      <td>853.437589</td>\n",
       "      <td>3418.665719</td>\n",
       "      <td>2149.442187</td>\n",
       "    </tr>\n",
       "    <tr>\n",
       "      <th>Rio Branco</th>\n",
       "      <td>2952.738921</td>\n",
       "      <td>3110.343230</td>\n",
       "      <td>2210.504022</td>\n",
       "      <td>2882.515275</td>\n",
       "      <td>2804.406666</td>\n",
       "      <td>264.452689</td>\n",
       "      <td>3241.167974</td>\n",
       "      <td>1361.024141</td>\n",
       "    </tr>\n",
       "    <tr>\n",
       "      <th>Rio Juruena</th>\n",
       "      <td>1622.251468</td>\n",
       "      <td>1871.259070</td>\n",
       "      <td>1135.138781</td>\n",
       "      <td>2139.336751</td>\n",
       "      <td>1667.760083</td>\n",
       "      <td>525.908802</td>\n",
       "      <td>1794.951244</td>\n",
       "      <td>1234.846429</td>\n",
       "    </tr>\n",
       "    <tr>\n",
       "      <th>Rio Maranon</th>\n",
       "      <td>3514.828092</td>\n",
       "      <td>3805.996345</td>\n",
       "      <td>3059.974377</td>\n",
       "      <td>3961.463537</td>\n",
       "      <td>3612.622480</td>\n",
       "      <td>1479.515487</td>\n",
       "      <td>3520.939416</td>\n",
       "      <td>2779.735972</td>\n",
       "    </tr>\n",
       "    <tr>\n",
       "      <th>Rio Negro</th>\n",
       "      <td>2668.260093</td>\n",
       "      <td>2818.903911</td>\n",
       "      <td>1916.141397</td>\n",
       "      <td>2596.030267</td>\n",
       "      <td>2510.057594</td>\n",
       "      <td>4.391605</td>\n",
       "      <td>2971.329484</td>\n",
       "      <td>1262.648130</td>\n",
       "    </tr>\n",
       "    <tr>\n",
       "      <th>Rio Teles Pires</th>\n",
       "      <td>1332.383530</td>\n",
       "      <td>1533.734672</td>\n",
       "      <td>745.804258</td>\n",
       "      <td>1773.359648</td>\n",
       "      <td>1285.656506</td>\n",
       "      <td>525.908802</td>\n",
       "      <td>1599.093315</td>\n",
       "      <td>1211.321431</td>\n",
       "    </tr>\n",
       "    <tr>\n",
       "      <th>Tapajos</th>\n",
       "      <td>2170.030198</td>\n",
       "      <td>2333.979311</td>\n",
       "      <td>1447.146547</td>\n",
       "      <td>2127.397989</td>\n",
       "      <td>2038.684937</td>\n",
       "      <td>432.158757</td>\n",
       "      <td>2466.514319</td>\n",
       "      <td>667.419136</td>\n",
       "    </tr>\n",
       "    <tr>\n",
       "      <th>Ucayali</th>\n",
       "      <td>2774.848147</td>\n",
       "      <td>3079.689389</td>\n",
       "      <td>2516.887216</td>\n",
       "      <td>3573.302534</td>\n",
       "      <td>2953.509063</td>\n",
       "      <td>1479.515487</td>\n",
       "      <td>2746.820606</td>\n",
       "      <td>2779.735972</td>\n",
       "    </tr>\n",
       "    <tr>\n",
       "      <th>Xingu</th>\n",
       "      <td>1236.485594</td>\n",
       "      <td>1421.076209</td>\n",
       "      <td>601.142542</td>\n",
       "      <td>1530.429081</td>\n",
       "      <td>1157.791076</td>\n",
       "      <td>841.384236</td>\n",
       "      <td>1537.102713</td>\n",
       "      <td>375.743915</td>\n",
       "    </tr>\n",
       "  </tbody>\n",
       "</table>\n",
       "</div>"
      ],
      "text/plain": [
       "airport_name     Guarulhos - Governador André Franco Montoro International Airport  \\\n",
       "RIVER                                                                                \n",
       "Amazon                                                 2475.774914                   \n",
       "Guapore                                                1885.212408                   \n",
       "Japura                                                 2980.961532                   \n",
       "Madeira                                                2437.258427                   \n",
       "Madre de Dios                                          2375.202840                   \n",
       "Purus                                                  2644.379897                   \n",
       "Putamayo                                               3224.425810                   \n",
       "Rio Branco                                             2952.738921                   \n",
       "Rio Juruena                                            1622.251468                   \n",
       "Rio Maranon                                            3514.828092                   \n",
       "Rio Negro                                              2668.260093                   \n",
       "Rio Teles Pires                                        1332.383530                   \n",
       "Tapajos                                                2170.030198                   \n",
       "Ucayali                                                2774.848147                   \n",
       "Xingu                                                  1236.485594                   \n",
       "\n",
       "airport_name     Rio Galeão – Tom Jobim International Airport  \\\n",
       "RIVER                                                           \n",
       "Amazon                                            2551.736244   \n",
       "Guapore                                           2128.037913   \n",
       "Japura                                            3174.069943   \n",
       "Madeira                                           2652.416364   \n",
       "Madre de Dios                                     2672.533506   \n",
       "Purus                                             2848.394230   \n",
       "Putamayo                                          3437.832352   \n",
       "Rio Branco                                        3110.343230   \n",
       "Rio Juruena                                       1871.259070   \n",
       "Rio Maranon                                       3805.996345   \n",
       "Rio Negro                                         2818.903911   \n",
       "Rio Teles Pires                                   1533.734672   \n",
       "Tapajos                                           2333.979311   \n",
       "Ucayali                                           3079.689389   \n",
       "Xingu                                             1421.076209   \n",
       "\n",
       "airport_name     Presidente Juscelino Kubitschek International Airport  \\\n",
       "RIVER                                                                    \n",
       "Amazon                                                 1640.038333       \n",
       "Guapore                                                1389.142048       \n",
       "Japura                                                 2308.103552       \n",
       "Madeira                                                1782.114914       \n",
       "Madre de Dios                                          1963.250807       \n",
       "Purus                                                  1965.341923       \n",
       "Putamayo                                               2597.325439       \n",
       "Rio Branco                                             2210.504022       \n",
       "Rio Juruena                                            1135.138781       \n",
       "Rio Maranon                                            3059.974377       \n",
       "Rio Negro                                              1916.141397       \n",
       "Rio Teles Pires                                         745.804258       \n",
       "Tapajos                                                1447.146547       \n",
       "Ucayali                                                2516.887216       \n",
       "Xingu                                                   601.142542       \n",
       "\n",
       "airport_name     Deputado Luiz Eduardo Magalhães International Airport  \\\n",
       "RIVER                                                                    \n",
       "Amazon                                                 1972.201892       \n",
       "Guapore                                                2397.410373       \n",
       "Japura                                                 3088.311946       \n",
       "Madeira                                                2467.828389       \n",
       "Madre de Dios                                          2934.051647       \n",
       "Purus                                                  2709.393257       \n",
       "Putamayo                                               3418.962714       \n",
       "Rio Branco                                             2882.515275       \n",
       "Rio Juruena                                            2139.336751       \n",
       "Rio Maranon                                            3961.463537       \n",
       "Rio Negro                                              2596.030267       \n",
       "Rio Teles Pires                                        1773.359648       \n",
       "Tapajos                                                2127.397989       \n",
       "Ucayali                                                3573.302534       \n",
       "Xingu                                                  1530.429081       \n",
       "\n",
       "airport_name     Tancredo Neves International Airport  \\\n",
       "RIVER                                                   \n",
       "Amazon                                    2196.772829   \n",
       "Guapore                                   1912.669967   \n",
       "Japura                                    2895.025757   \n",
       "Madeira                                   2375.088970   \n",
       "Madre de Dios                             2497.142251   \n",
       "Purus                                     2556.618662   \n",
       "Putamayo                                  3175.785436   \n",
       "Rio Branco                                2804.406666   \n",
       "Rio Juruena                               1667.760083   \n",
       "Rio Maranon                               3612.622480   \n",
       "Rio Negro                                 2510.057594   \n",
       "Rio Teles Pires                           1285.656506   \n",
       "Tapajos                                   2038.684937   \n",
       "Ucayali                                   2953.509063   \n",
       "Xingu                                     1157.791076   \n",
       "\n",
       "airport_name     Eduardo Gomes International Airport  \\\n",
       "RIVER                                                  \n",
       "Amazon                                     25.549158   \n",
       "Guapore                                   983.345006   \n",
       "Japura                                    502.953032   \n",
       "Madeira                                   153.127907   \n",
       "Madre de Dios                             983.345006   \n",
       "Purus                                     150.306441   \n",
       "Putamayo                                  853.437589   \n",
       "Rio Branco                                264.452689   \n",
       "Rio Juruena                               525.908802   \n",
       "Rio Maranon                              1479.515487   \n",
       "Rio Negro                                   4.391605   \n",
       "Rio Teles Pires                           525.908802   \n",
       "Tapajos                                   432.158757   \n",
       "Ucayali                                  1479.515487   \n",
       "Xingu                                     841.384236   \n",
       "\n",
       "airport_name     Hercílio Luz International Airport  \\\n",
       "RIVER                                                 \n",
       "Amazon                                  2865.306190   \n",
       "Guapore                                 2057.607164   \n",
       "Japura                                  3214.712005   \n",
       "Madeira                                 2597.378000   \n",
       "Madre de Dios                           2384.616336   \n",
       "Purus                                   2835.604884   \n",
       "Putamayo                                3418.665719   \n",
       "Rio Branco                              3241.167974   \n",
       "Rio Juruena                             1794.951244   \n",
       "Rio Maranon                             3520.939416   \n",
       "Rio Negro                               2971.329484   \n",
       "Rio Teles Pires                         1599.093315   \n",
       "Tapajos                                 2466.514319   \n",
       "Ucayali                                 2746.820606   \n",
       "Xingu                                   1537.102713   \n",
       "\n",
       "airport_name     Val de Cans/Júlio Cezar Ribeiro International Airport  \n",
       "RIVER                                                                   \n",
       "Amazon                                                  385.680279      \n",
       "Guapore                                                1828.131144      \n",
       "Japura                                                 1801.085954      \n",
       "Madeira                                                1134.676321      \n",
       "Madre de Dios                                          2088.021380      \n",
       "Purus                                                  1436.934359      \n",
       "Putamayo                                               2149.442187      \n",
       "Rio Branco                                             1361.024141      \n",
       "Rio Juruena                                            1234.846429      \n",
       "Rio Maranon                                            2779.735972      \n",
       "Rio Negro                                              1262.648130      \n",
       "Rio Teles Pires                                        1211.321431      \n",
       "Tapajos                                                 667.419136      \n",
       "Ucayali                                                2779.735972      \n",
       "Xingu                                                   375.743915      "
      ]
     },
     "execution_count": 37,
     "metadata": {},
     "output_type": "execute_result"
    }
   ],
   "source": [
    "D_Matrix_amazRivs_air=AmazonSystem_5880.geometry.apply \\\n",
    "                (lambda river: large_airports.geometry.distance(river)/1000)\n",
    "\n",
    "D_Matrix_amazRivs_air"
   ]
  },
  {
   "cell_type": "code",
   "execution_count": 38,
   "id": "c0b71d58-963c-4dc0-bd54-bdd45bcdbd3e",
   "metadata": {
    "id": "c0b71d58-963c-4dc0-bd54-bdd45bcdbd3e"
   },
   "outputs": [
    {
     "data": {
      "text/html": [
       "<div>\n",
       "<style scoped>\n",
       "    .dataframe tbody tr th:only-of-type {\n",
       "        vertical-align: middle;\n",
       "    }\n",
       "\n",
       "    .dataframe tbody tr th {\n",
       "        vertical-align: top;\n",
       "    }\n",
       "\n",
       "    .dataframe thead th {\n",
       "        text-align: right;\n",
       "    }\n",
       "</style>\n",
       "<table border=\"1\" class=\"dataframe\">\n",
       "  <thead>\n",
       "    <tr style=\"text-align: right;\">\n",
       "      <th></th>\n",
       "      <th>mean</th>\n",
       "      <th>min</th>\n",
       "      <th>max</th>\n",
       "    </tr>\n",
       "    <tr>\n",
       "      <th>RIVER</th>\n",
       "      <th></th>\n",
       "      <th></th>\n",
       "      <th></th>\n",
       "    </tr>\n",
       "  </thead>\n",
       "  <tbody>\n",
       "    <tr>\n",
       "      <th>Amazon</th>\n",
       "      <td>1764.132480</td>\n",
       "      <td>25.549158</td>\n",
       "      <td>2865.306190</td>\n",
       "    </tr>\n",
       "    <tr>\n",
       "      <th>Guapore</th>\n",
       "      <td>1822.694503</td>\n",
       "      <td>983.345006</td>\n",
       "      <td>2397.410373</td>\n",
       "    </tr>\n",
       "    <tr>\n",
       "      <th>Japura</th>\n",
       "      <td>2495.652965</td>\n",
       "      <td>502.953032</td>\n",
       "      <td>3214.712005</td>\n",
       "    </tr>\n",
       "    <tr>\n",
       "      <th>Madeira</th>\n",
       "      <td>1949.986161</td>\n",
       "      <td>153.127907</td>\n",
       "      <td>2652.416364</td>\n",
       "    </tr>\n",
       "    <tr>\n",
       "      <th>Madre de Dios</th>\n",
       "      <td>2237.270472</td>\n",
       "      <td>983.345006</td>\n",
       "      <td>2934.051647</td>\n",
       "    </tr>\n",
       "    <tr>\n",
       "      <th>Purus</th>\n",
       "      <td>2143.371707</td>\n",
       "      <td>150.306441</td>\n",
       "      <td>2848.394230</td>\n",
       "    </tr>\n",
       "    <tr>\n",
       "      <th>Putamayo</th>\n",
       "      <td>2784.484656</td>\n",
       "      <td>853.437589</td>\n",
       "      <td>3437.832352</td>\n",
       "    </tr>\n",
       "    <tr>\n",
       "      <th>Rio Branco</th>\n",
       "      <td>2353.394115</td>\n",
       "      <td>264.452689</td>\n",
       "      <td>3241.167974</td>\n",
       "    </tr>\n",
       "    <tr>\n",
       "      <th>Rio Juruena</th>\n",
       "      <td>1498.931579</td>\n",
       "      <td>525.908802</td>\n",
       "      <td>2139.336751</td>\n",
       "    </tr>\n",
       "    <tr>\n",
       "      <th>Rio Maranon</th>\n",
       "      <td>3216.884463</td>\n",
       "      <td>1479.515487</td>\n",
       "      <td>3961.463537</td>\n",
       "    </tr>\n",
       "  </tbody>\n",
       "</table>\n",
       "</div>"
      ],
      "text/plain": [
       "                      mean          min          max\n",
       "RIVER                                               \n",
       "Amazon         1764.132480    25.549158  2865.306190\n",
       "Guapore        1822.694503   983.345006  2397.410373\n",
       "Japura         2495.652965   502.953032  3214.712005\n",
       "Madeira        1949.986161   153.127907  2652.416364\n",
       "Madre de Dios  2237.270472   983.345006  2934.051647\n",
       "Purus          2143.371707   150.306441  2848.394230\n",
       "Putamayo       2784.484656   853.437589  3437.832352\n",
       "Rio Branco     2353.394115   264.452689  3241.167974\n",
       "Rio Juruena    1498.931579   525.908802  2139.336751\n",
       "Rio Maranon    3216.884463  1479.515487  3961.463537"
      ]
     },
     "execution_count": 38,
     "metadata": {},
     "output_type": "execute_result"
    }
   ],
   "source": [
    "Stat_amz_air=pd.DataFrame()\n",
    "Stat_amz_air['mean']=D_Matrix_amazRivs_air.mean(axis=1) # mean D to all airports\n",
    "Stat_amz_air['min']=D_Matrix_amazRivs_air.min(axis=1)# min D to all airports\n",
    "Stat_amz_air['max']=D_Matrix_amazRivs_air.max(axis=1)# max D to all airports\n",
    "\n",
    "# see some\n",
    "Stat_amz_air.head(10)"
   ]
  },
  {
   "cell_type": "code",
   "execution_count": 39,
   "id": "619ad58c-5197-4f92-9883-75ca8b00699f",
   "metadata": {
    "id": "619ad58c-5197-4f92-9883-75ca8b00699f"
   },
   "outputs": [
    {
     "data": {
      "text/plain": [
       "airport_name\n",
       "Guarulhos - Governador André Franco Montoro International Airport    Xingu\n",
       "Rio Galeão – Tom Jobim International Airport                         Xingu\n",
       "Presidente Juscelino Kubitschek International Airport                Xingu\n",
       "Deputado Luiz Eduardo Magalhães International Airport                Xingu\n",
       "Tancredo Neves International Airport                                 Xingu\n",
       "dtype: object"
      ]
     },
     "execution_count": 39,
     "metadata": {},
     "output_type": "execute_result"
    }
   ],
   "source": [
    "# closest river to each airport\n",
    "D_Matrix_amazRivs_air.idxmin(axis=0).head()"
   ]
  },
  {
   "cell_type": "code",
   "execution_count": 40,
   "id": "6107daa5-d610-40e2-a1c0-930e7044ee94",
   "metadata": {
    "id": "6107daa5-d610-40e2-a1c0-930e7044ee94"
   },
   "outputs": [
    {
     "data": {
      "text/plain": [
       "airport_name\n",
       "Guarulhos - Governador André Franco Montoro International Airport    Rio Maranon\n",
       "Rio Galeão – Tom Jobim International Airport                         Rio Maranon\n",
       "Presidente Juscelino Kubitschek International Airport                Rio Maranon\n",
       "Deputado Luiz Eduardo Magalhães International Airport                Rio Maranon\n",
       "Tancredo Neves International Airport                                 Rio Maranon\n",
       "dtype: object"
      ]
     },
     "execution_count": 40,
     "metadata": {},
     "output_type": "execute_result"
    }
   ],
   "source": [
    "# farthest river to each airport\n",
    "D_Matrix_amazRivs_air.idxmax(axis=0).head()"
   ]
  },
  {
   "cell_type": "markdown",
   "id": "1d249122-c2be-43b2-9496-dba32beab171",
   "metadata": {
    "id": "1d249122-c2be-43b2-9496-dba32beab171"
   },
   "source": [
    "### c. Between Polygon and Point\n",
    "\n",
    "Let me re use the world rivers to get the rivers in a couple of systems:"
   ]
  },
  {
   "cell_type": "code",
   "execution_count": 41,
   "id": "f7759c73-da70-4e24-875a-1318540ad1aa",
   "metadata": {
    "id": "f7759c73-da70-4e24-875a-1318540ad1aa"
   },
   "outputs": [
    {
     "data": {
      "text/html": [
       "<div>\n",
       "<style scoped>\n",
       "    .dataframe tbody tr th:only-of-type {\n",
       "        vertical-align: middle;\n",
       "    }\n",
       "\n",
       "    .dataframe tbody tr th {\n",
       "        vertical-align: top;\n",
       "    }\n",
       "\n",
       "    .dataframe thead th {\n",
       "        text-align: right;\n",
       "    }\n",
       "</style>\n",
       "<table border=\"1\" class=\"dataframe\">\n",
       "  <thead>\n",
       "    <tr style=\"text-align: right;\">\n",
       "      <th></th>\n",
       "      <th>RIVER</th>\n",
       "      <th>SYSTEM</th>\n",
       "      <th>geometry</th>\n",
       "    </tr>\n",
       "  </thead>\n",
       "  <tbody>\n",
       "    <tr>\n",
       "      <th>1</th>\n",
       "      <td>Amazon</td>\n",
       "      <td>Amazon</td>\n",
       "      <td>MULTILINESTRING ((-61.2773 -3.60706, -60.68466...</td>\n",
       "    </tr>\n",
       "    <tr>\n",
       "      <th>24</th>\n",
       "      <td>Guapore</td>\n",
       "      <td>Amazon</td>\n",
       "      <td>MULTILINESTRING ((-65.1024 -10.27593, -65.1201...</td>\n",
       "    </tr>\n",
       "    <tr>\n",
       "      <th>29</th>\n",
       "      <td>Japura</td>\n",
       "      <td>Amazon</td>\n",
       "      <td>MULTILINESTRING ((-64.94595 -2.23269, -64.5731...</td>\n",
       "    </tr>\n",
       "    <tr>\n",
       "      <th>37</th>\n",
       "      <td>Madeira</td>\n",
       "      <td>Amazon</td>\n",
       "      <td>MULTILINESTRING ((-65.1024 -10.27593, -65.0844...</td>\n",
       "    </tr>\n",
       "    <tr>\n",
       "      <th>38</th>\n",
       "      <td>Madre de Dios</td>\n",
       "      <td>Amazon</td>\n",
       "      <td>MULTILINESTRING ((-68.84791 -15.35547, -68.594...</td>\n",
       "    </tr>\n",
       "    <tr>\n",
       "      <th>55</th>\n",
       "      <td>Paraguay</td>\n",
       "      <td>Parana</td>\n",
       "      <td>MULTILINESTRING ((-53.47152 -16.67963, -54.309...</td>\n",
       "    </tr>\n",
       "    <tr>\n",
       "      <th>56</th>\n",
       "      <td>Parana</td>\n",
       "      <td>Parana</td>\n",
       "      <td>MULTILINESTRING ((-58.48091 -27.30186, -58.402...</td>\n",
       "    </tr>\n",
       "    <tr>\n",
       "      <th>59</th>\n",
       "      <td>Purus</td>\n",
       "      <td>Amazon</td>\n",
       "      <td>MULTILINESTRING ((-72.21624 -10.77936, -71.803...</td>\n",
       "    </tr>\n",
       "    <tr>\n",
       "      <th>60</th>\n",
       "      <td>Putamayo</td>\n",
       "      <td>Amazon</td>\n",
       "      <td>MULTILINESTRING ((-76.65652 1.36565, -76.77346...</td>\n",
       "    </tr>\n",
       "    <tr>\n",
       "      <th>62</th>\n",
       "      <td>Rio Branco</td>\n",
       "      <td>Amazon</td>\n",
       "      <td>MULTILINESTRING ((-59.64679 3.62898, -60.19013...</td>\n",
       "    </tr>\n",
       "    <tr>\n",
       "      <th>64</th>\n",
       "      <td>Rio Juruena</td>\n",
       "      <td>Amazon</td>\n",
       "      <td>MULTILINESTRING ((-58.74846 -14.57408, -58.045...</td>\n",
       "    </tr>\n",
       "    <tr>\n",
       "      <th>65</th>\n",
       "      <td>Rio Maranon</td>\n",
       "      <td>Amazon</td>\n",
       "      <td>MULTILINESTRING ((-76.49432 -10.32964, -76.523...</td>\n",
       "    </tr>\n",
       "    <tr>\n",
       "      <th>66</th>\n",
       "      <td>Rio Negro</td>\n",
       "      <td>Amazon</td>\n",
       "      <td>MULTILINESTRING ((-69.80154 2.04259, -69.48542...</td>\n",
       "    </tr>\n",
       "    <tr>\n",
       "      <th>67</th>\n",
       "      <td>Rio Paranaiba</td>\n",
       "      <td>Parana</td>\n",
       "      <td>MULTILINESTRING ((-46.02263 -19.02853, -46.130...</td>\n",
       "    </tr>\n",
       "    <tr>\n",
       "      <th>68</th>\n",
       "      <td>Rio Teles Pires</td>\n",
       "      <td>Amazon</td>\n",
       "      <td>MULTILINESTRING ((-55.02068 -14.5688, -54.6526...</td>\n",
       "    </tr>\n",
       "    <tr>\n",
       "      <th>80</th>\n",
       "      <td>Tapajos</td>\n",
       "      <td>Amazon</td>\n",
       "      <td>MULTILINESTRING ((-54.39421 -2.36508, -54.8251...</td>\n",
       "    </tr>\n",
       "    <tr>\n",
       "      <th>85</th>\n",
       "      <td>Ucayali</td>\n",
       "      <td>Amazon</td>\n",
       "      <td>MULTILINESTRING ((-71.67654 -15.38325, -71.373...</td>\n",
       "    </tr>\n",
       "    <tr>\n",
       "      <th>92</th>\n",
       "      <td>Xingu</td>\n",
       "      <td>Amazon</td>\n",
       "      <td>MULTILINESTRING ((-54.72902 -15.05463, -53.670...</td>\n",
       "    </tr>\n",
       "    <tr>\n",
       "      <th>97</th>\n",
       "      <td>Rio Grande, South America</td>\n",
       "      <td>Parana</td>\n",
       "      <td>MULTILINESTRING ((-44.37152 -22.17241, -43.860...</td>\n",
       "    </tr>\n",
       "  </tbody>\n",
       "</table>\n",
       "</div>"
      ],
      "text/plain": [
       "                        RIVER  SYSTEM  \\\n",
       "1                      Amazon  Amazon   \n",
       "24                    Guapore  Amazon   \n",
       "29                     Japura  Amazon   \n",
       "37                    Madeira  Amazon   \n",
       "38              Madre de Dios  Amazon   \n",
       "55                   Paraguay  Parana   \n",
       "56                     Parana  Parana   \n",
       "59                      Purus  Amazon   \n",
       "60                   Putamayo  Amazon   \n",
       "62                 Rio Branco  Amazon   \n",
       "64                Rio Juruena  Amazon   \n",
       "65                Rio Maranon  Amazon   \n",
       "66                  Rio Negro  Amazon   \n",
       "67              Rio Paranaiba  Parana   \n",
       "68            Rio Teles Pires  Amazon   \n",
       "80                    Tapajos  Amazon   \n",
       "85                    Ucayali  Amazon   \n",
       "92                      Xingu  Amazon   \n",
       "97  Rio Grande, South America  Parana   \n",
       "\n",
       "                                             geometry  \n",
       "1   MULTILINESTRING ((-61.2773 -3.60706, -60.68466...  \n",
       "24  MULTILINESTRING ((-65.1024 -10.27593, -65.1201...  \n",
       "29  MULTILINESTRING ((-64.94595 -2.23269, -64.5731...  \n",
       "37  MULTILINESTRING ((-65.1024 -10.27593, -65.0844...  \n",
       "38  MULTILINESTRING ((-68.84791 -15.35547, -68.594...  \n",
       "55  MULTILINESTRING ((-53.47152 -16.67963, -54.309...  \n",
       "56  MULTILINESTRING ((-58.48091 -27.30186, -58.402...  \n",
       "59  MULTILINESTRING ((-72.21624 -10.77936, -71.803...  \n",
       "60  MULTILINESTRING ((-76.65652 1.36565, -76.77346...  \n",
       "62  MULTILINESTRING ((-59.64679 3.62898, -60.19013...  \n",
       "64  MULTILINESTRING ((-58.74846 -14.57408, -58.045...  \n",
       "65  MULTILINESTRING ((-76.49432 -10.32964, -76.523...  \n",
       "66  MULTILINESTRING ((-69.80154 2.04259, -69.48542...  \n",
       "67  MULTILINESTRING ((-46.02263 -19.02853, -46.130...  \n",
       "68  MULTILINESTRING ((-55.02068 -14.5688, -54.6526...  \n",
       "80  MULTILINESTRING ((-54.39421 -2.36508, -54.8251...  \n",
       "85  MULTILINESTRING ((-71.67654 -15.38325, -71.373...  \n",
       "92  MULTILINESTRING ((-54.72902 -15.05463, -53.670...  \n",
       "97  MULTILINESTRING ((-44.37152 -22.17241, -43.860...  "
      ]
     },
     "execution_count": 41,
     "metadata": {},
     "output_type": "execute_result"
    }
   ],
   "source": [
    "river_systems=world_rivers.query(\"SYSTEM in ['Amazon','Parana']\")\n",
    "river_systems"
   ]
  },
  {
   "cell_type": "markdown",
   "id": "b0414c61-e3a5-476a-af4c-0bd58e3c745a",
   "metadata": {
    "id": "b0414c61-e3a5-476a-af4c-0bd58e3c745a"
   },
   "source": [
    "Let me combine per system:"
   ]
  },
  {
   "cell_type": "code",
   "execution_count": 42,
   "id": "dae1761f-7914-4b9d-9140-8ef51a7b5cb3",
   "metadata": {
    "id": "dae1761f-7914-4b9d-9140-8ef51a7b5cb3"
   },
   "outputs": [
    {
     "data": {
      "text/html": [
       "<div>\n",
       "<style scoped>\n",
       "    .dataframe tbody tr th:only-of-type {\n",
       "        vertical-align: middle;\n",
       "    }\n",
       "\n",
       "    .dataframe tbody tr th {\n",
       "        vertical-align: top;\n",
       "    }\n",
       "\n",
       "    .dataframe thead th {\n",
       "        text-align: right;\n",
       "    }\n",
       "</style>\n",
       "<table border=\"1\" class=\"dataframe\">\n",
       "  <thead>\n",
       "    <tr style=\"text-align: right;\">\n",
       "      <th></th>\n",
       "      <th>geometry</th>\n",
       "    </tr>\n",
       "    <tr>\n",
       "      <th>SYSTEM</th>\n",
       "      <th></th>\n",
       "    </tr>\n",
       "  </thead>\n",
       "  <tbody>\n",
       "    <tr>\n",
       "      <th>Amazon</th>\n",
       "      <td>MULTILINESTRING ((-61.2773 -3.60706, -60.68466...</td>\n",
       "    </tr>\n",
       "    <tr>\n",
       "      <th>Parana</th>\n",
       "      <td>MULTILINESTRING ((-53.47152 -16.67963, -54.309...</td>\n",
       "    </tr>\n",
       "  </tbody>\n",
       "</table>\n",
       "</div>"
      ],
      "text/plain": [
       "                                                 geometry\n",
       "SYSTEM                                                   \n",
       "Amazon  MULTILINESTRING ((-61.2773 -3.60706, -60.68466...\n",
       "Parana  MULTILINESTRING ((-53.47152 -16.67963, -54.309..."
      ]
     },
     "execution_count": 42,
     "metadata": {},
     "output_type": "execute_result"
    }
   ],
   "source": [
    "ama_para=river_systems.dissolve(by='SYSTEM')\n",
    "ama_para.drop(columns='RIVER',inplace=True)\n",
    "ama_para"
   ]
  },
  {
   "cell_type": "markdown",
   "id": "7f20d8a7-a2ab-4997-af3b-b05902ce2f33",
   "metadata": {
    "id": "7f20d8a7-a2ab-4997-af3b-b05902ce2f33"
   },
   "source": [
    "We still have lines:"
   ]
  },
  {
   "cell_type": "code",
   "execution_count": 43,
   "id": "8cd483d9-5585-45b7-ad3f-8416a6b2b496",
   "metadata": {
    "id": "8cd483d9-5585-45b7-ad3f-8416a6b2b496"
   },
   "outputs": [
    {
     "data": {
      "text/plain": [
       "<Axes: >"
      ]
     },
     "execution_count": 43,
     "metadata": {},
     "output_type": "execute_result"
    },
    {
     "data": {
      "image/png": "[encoded data removed]",
      "text/plain": [
       "<Figure size 640x480 with 1 Axes>"
      ]
     },
     "metadata": {},
     "output_type": "display_data"
    }
   ],
   "source": [
    "ama_para.plot(cmap='viridis')"
   ]
  },
  {
   "cell_type": "markdown",
   "id": "755dabce-1a0b-4f09-adfe-424bb56ea391",
   "metadata": {
    "id": "755dabce-1a0b-4f09-adfe-424bb56ea391"
   },
   "source": [
    "But we will have polygons after this:"
   ]
  },
  {
   "cell_type": "code",
   "execution_count": 44,
   "id": "a40a5543-d676-4696-a2d8-a0447b19d3d9",
   "metadata": {
    "id": "a40a5543-d676-4696-a2d8-a0447b19d3d9"
   },
   "outputs": [
    {
     "data": {
      "text/plain": [
       "<Axes: >"
      ]
     },
     "execution_count": 44,
     "metadata": {},
     "output_type": "execute_result"
    },
    {
     "data": {
      "image/png": "[encoded data removed]",
      "text/plain": [
       "<Figure size 640x480 with 1 Axes>"
      ]
     },
     "metadata": {},
     "output_type": "display_data"
    }
   ],
   "source": [
    "ama_para.convex_hull.plot(cmap='viridis')"
   ]
  },
  {
   "cell_type": "markdown",
   "id": "eea2280b-f1d7-4b62-a891-1f2cd3c48d0c",
   "metadata": {
    "id": "eea2280b-f1d7-4b62-a891-1f2cd3c48d0c"
   },
   "source": [
    "As we have a geoseries of two geometries..."
   ]
  },
  {
   "cell_type": "code",
   "execution_count": 45,
   "id": "b480caad-02ae-4525-a823-3fb7c4c83aa9",
   "metadata": {
    "id": "b480caad-02ae-4525-a823-3fb7c4c83aa9"
   },
   "outputs": [
    {
     "data": {
      "text/plain": [
       "(SYSTEM\n",
       " Amazon    POLYGON ((-68.59431 -15.48713, -71.67654 -15.3...\n",
       " Parana    POLYGON ((-58.13602 -34.19917, -59.41318 -33.6...\n",
       " dtype: geometry,\n",
       " geopandas.geoseries.GeoSeries)"
      ]
     },
     "execution_count": 45,
     "metadata": {},
     "output_type": "execute_result"
    }
   ],
   "source": [
    "ama_para.convex_hull,type(ama_para.convex_hull)"
   ]
  },
  {
   "cell_type": "markdown",
   "id": "fc972130-f2ba-49b8-97d4-624ec1d0791d",
   "metadata": {
    "id": "fc972130-f2ba-49b8-97d4-624ec1d0791d"
   },
   "source": [
    "Let's turn that into a GDF:"
   ]
  },
  {
   "cell_type": "code",
   "execution_count": 46,
   "id": "f6085f9d-044c-43eb-ac09-110dba687c53",
   "metadata": {
    "id": "f6085f9d-044c-43eb-ac09-110dba687c53"
   },
   "outputs": [
    {
     "data": {
      "text/html": [
       "<div>\n",
       "<style scoped>\n",
       "    .dataframe tbody tr th:only-of-type {\n",
       "        vertical-align: middle;\n",
       "    }\n",
       "\n",
       "    .dataframe tbody tr th {\n",
       "        vertical-align: top;\n",
       "    }\n",
       "\n",
       "    .dataframe thead th {\n",
       "        text-align: right;\n",
       "    }\n",
       "</style>\n",
       "<table border=\"1\" class=\"dataframe\">\n",
       "  <thead>\n",
       "    <tr style=\"text-align: right;\">\n",
       "      <th></th>\n",
       "      <th>geometry</th>\n",
       "    </tr>\n",
       "    <tr>\n",
       "      <th>SYSTEM</th>\n",
       "      <th></th>\n",
       "    </tr>\n",
       "  </thead>\n",
       "  <tbody>\n",
       "    <tr>\n",
       "      <th>Amazon</th>\n",
       "      <td>POLYGON ((-68.594 -15.487, -71.677 -15.383, -7...</td>\n",
       "    </tr>\n",
       "    <tr>\n",
       "      <th>Parana</th>\n",
       "      <td>POLYGON ((-58.136 -34.199, -59.413 -33.614, -6...</td>\n",
       "    </tr>\n",
       "  </tbody>\n",
       "</table>\n",
       "</div>"
      ],
      "text/plain": [
       "                                                 geometry\n",
       "SYSTEM                                                   \n",
       "Amazon  POLYGON ((-68.594 -15.487, -71.677 -15.383, -7...\n",
       "Parana  POLYGON ((-58.136 -34.199, -59.413 -33.614, -6..."
      ]
     },
     "execution_count": 46,
     "metadata": {},
     "output_type": "execute_result"
    }
   ],
   "source": [
    "ama_para_hulls=ama_para.convex_hull.to_frame()\n",
    "ama_para_hulls.rename(columns={0:'geometry'},inplace=True)\n",
    "ama_para_hulls=ama_para_hulls.set_geometry('geometry')\n",
    "ama_para_hulls.crs=\"EPSG:5880\"\n",
    "\n",
    "#voila\n",
    "ama_para_hulls"
   ]
  },
  {
   "cell_type": "markdown",
   "id": "6c0a05f1-9e77-451b-a0b6-f0a69ecbd044",
   "metadata": {
    "id": "6c0a05f1-9e77-451b-a0b6-f0a69ecbd044"
   },
   "source": [
    "And now, the distance matrix:"
   ]
  },
  {
   "cell_type": "code",
   "execution_count": 47,
   "id": "f4d2e3c6-6a33-4247-b83b-5055b5ac980e",
   "metadata": {
    "id": "f4d2e3c6-6a33-4247-b83b-5055b5ac980e"
   },
   "outputs": [
    {
     "data": {
      "text/html": [
       "<div>\n",
       "<style scoped>\n",
       "    .dataframe tbody tr th:only-of-type {\n",
       "        vertical-align: middle;\n",
       "    }\n",
       "\n",
       "    .dataframe tbody tr th {\n",
       "        vertical-align: top;\n",
       "    }\n",
       "\n",
       "    .dataframe thead th {\n",
       "        text-align: right;\n",
       "    }\n",
       "</style>\n",
       "<table border=\"1\" class=\"dataframe\">\n",
       "  <thead>\n",
       "    <tr style=\"text-align: right;\">\n",
       "      <th>airport_name</th>\n",
       "      <th>Guarulhos - Governador André Franco Montoro International Airport</th>\n",
       "      <th>Rio Galeão – Tom Jobim International Airport</th>\n",
       "      <th>Presidente Juscelino Kubitschek International Airport</th>\n",
       "      <th>Deputado Luiz Eduardo Magalhães International Airport</th>\n",
       "      <th>Tancredo Neves International Airport</th>\n",
       "      <th>Eduardo Gomes International Airport</th>\n",
       "      <th>Hercílio Luz International Airport</th>\n",
       "      <th>Val de Cans/Júlio Cezar Ribeiro International Airport</th>\n",
       "    </tr>\n",
       "    <tr>\n",
       "      <th>SYSTEM</th>\n",
       "      <th></th>\n",
       "      <th></th>\n",
       "      <th></th>\n",
       "      <th></th>\n",
       "      <th></th>\n",
       "      <th></th>\n",
       "      <th></th>\n",
       "      <th></th>\n",
       "    </tr>\n",
       "  </thead>\n",
       "  <tbody>\n",
       "    <tr>\n",
       "      <th>Amazon</th>\n",
       "      <td>9373.464024</td>\n",
       "      <td>9619.902769</td>\n",
       "      <td>9987.801447</td>\n",
       "      <td>10839.402030</td>\n",
       "      <td>9870.020232</td>\n",
       "      <td>10586.985788</td>\n",
       "      <td>8867.621633</td>\n",
       "      <td>11335.110218</td>\n",
       "    </tr>\n",
       "    <tr>\n",
       "      <th>Parana</th>\n",
       "      <td>9373.473877</td>\n",
       "      <td>9619.912262</td>\n",
       "      <td>9987.812192</td>\n",
       "      <td>10839.411834</td>\n",
       "      <td>9870.030130</td>\n",
       "      <td>10587.000384</td>\n",
       "      <td>8867.631318</td>\n",
       "      <td>11335.122740</td>\n",
       "    </tr>\n",
       "  </tbody>\n",
       "</table>\n",
       "</div>"
      ],
      "text/plain": [
       "airport_name  Guarulhos - Governador André Franco Montoro International Airport  \\\n",
       "SYSTEM                                                                            \n",
       "Amazon                                              9373.464024                   \n",
       "Parana                                              9373.473877                   \n",
       "\n",
       "airport_name  Rio Galeão – Tom Jobim International Airport  \\\n",
       "SYSTEM                                                       \n",
       "Amazon                                         9619.902769   \n",
       "Parana                                         9619.912262   \n",
       "\n",
       "airport_name  Presidente Juscelino Kubitschek International Airport  \\\n",
       "SYSTEM                                                                \n",
       "Amazon                                              9987.801447       \n",
       "Parana                                              9987.812192       \n",
       "\n",
       "airport_name  Deputado Luiz Eduardo Magalhães International Airport  \\\n",
       "SYSTEM                                                                \n",
       "Amazon                                             10839.402030       \n",
       "Parana                                             10839.411834       \n",
       "\n",
       "airport_name  Tancredo Neves International Airport  \\\n",
       "SYSTEM                                               \n",
       "Amazon                                 9870.020232   \n",
       "Parana                                 9870.030130   \n",
       "\n",
       "airport_name  Eduardo Gomes International Airport  \\\n",
       "SYSTEM                                              \n",
       "Amazon                               10586.985788   \n",
       "Parana                               10587.000384   \n",
       "\n",
       "airport_name  Hercílio Luz International Airport  \\\n",
       "SYSTEM                                             \n",
       "Amazon                               8867.621633   \n",
       "Parana                               8867.631318   \n",
       "\n",
       "airport_name  Val de Cans/Júlio Cezar Ribeiro International Airport  \n",
       "SYSTEM                                                               \n",
       "Amazon                                             11335.110218      \n",
       "Parana                                             11335.122740      "
      ]
     },
     "execution_count": 47,
     "metadata": {},
     "output_type": "execute_result"
    }
   ],
   "source": [
    "D_Matrix_SYSHulls_air=ama_para_hulls.geometry.apply \\\n",
    "                (lambda system: large_airports.geometry.distance(system)/1000)\n",
    "D_Matrix_SYSHulls_air"
   ]
  },
  {
   "cell_type": "markdown",
   "id": "d97ed48a-1dd4-48e0-9940-de75ea43b5ed",
   "metadata": {
    "id": "d97ed48a-1dd4-48e0-9940-de75ea43b5ed"
   },
   "source": [
    "From here, you can compute distances between other kinds of geometries."
   ]
  },
  {
   "cell_type": "markdown",
   "id": "be643505-1c8f-435c-b3ca-150aee9c4b3b",
   "metadata": {
    "id": "be643505-1c8f-435c-b3ca-150aee9c4b3b"
   },
   "source": [
    "## II. Clipping\n",
    "\n",
    "Clipping uses a GDF geometry as a MASK to cut another GDF which suppossedly is bigger and needes to be clipped."
   ]
  },
  {
   "cell_type": "markdown",
   "id": "01e11a63-f60d-46b7-90b3-29f8e554227f",
   "metadata": {
    "id": "01e11a63-f60d-46b7-90b3-29f8e554227f"
   },
   "source": [
    "Pay attention to the world rivers again:"
   ]
  },
  {
   "cell_type": "code",
   "execution_count": 48,
   "id": "e04c8325-ac9e-416a-a15d-165a3945c028",
   "metadata": {
    "id": "e04c8325-ac9e-416a-a15d-165a3945c028"
   },
   "outputs": [
    {
     "data": {
      "text/html": [
       "<div>\n",
       "<style scoped>\n",
       "    .dataframe tbody tr th:only-of-type {\n",
       "        vertical-align: middle;\n",
       "    }\n",
       "\n",
       "    .dataframe tbody tr th {\n",
       "        vertical-align: top;\n",
       "    }\n",
       "\n",
       "    .dataframe thead th {\n",
       "        text-align: right;\n",
       "    }\n",
       "</style>\n",
       "<table border=\"1\" class=\"dataframe\">\n",
       "  <thead>\n",
       "    <tr style=\"text-align: right;\">\n",
       "      <th></th>\n",
       "      <th>RIVER</th>\n",
       "      <th>SYSTEM</th>\n",
       "      <th>geometry</th>\n",
       "    </tr>\n",
       "  </thead>\n",
       "  <tbody>\n",
       "    <tr>\n",
       "      <th>0</th>\n",
       "      <td>Aldan</td>\n",
       "      <td>Lena</td>\n",
       "      <td>MULTILINESTRING ((124.00678 56.47258, 123.2595...</td>\n",
       "    </tr>\n",
       "    <tr>\n",
       "      <th>1</th>\n",
       "      <td>Amazon</td>\n",
       "      <td>Amazon</td>\n",
       "      <td>MULTILINESTRING ((-61.2773 -3.60706, -60.68466...</td>\n",
       "    </tr>\n",
       "    <tr>\n",
       "      <th>2</th>\n",
       "      <td>Amu Darya</td>\n",
       "      <td>None</td>\n",
       "      <td>MULTILINESTRING ((73.98818 37.49952, 73.52595 ...</td>\n",
       "    </tr>\n",
       "    <tr>\n",
       "      <th>3</th>\n",
       "      <td>Amur</td>\n",
       "      <td>None</td>\n",
       "      <td>MULTILINESTRING ((122.63956 49.9973, 120.47874...</td>\n",
       "    </tr>\n",
       "    <tr>\n",
       "      <th>4</th>\n",
       "      <td>Angara</td>\n",
       "      <td>None</td>\n",
       "      <td>MULTILINESTRING ((105.07841 51.93053, 103.9295...</td>\n",
       "    </tr>\n",
       "    <tr>\n",
       "      <th>...</th>\n",
       "      <td>...</td>\n",
       "      <td>...</td>\n",
       "      <td>...</td>\n",
       "    </tr>\n",
       "    <tr>\n",
       "      <th>93</th>\n",
       "      <td>Yangtze</td>\n",
       "      <td>None</td>\n",
       "      <td>MULTILINESTRING ((119.82609 32.24864, 118.9707...</td>\n",
       "    </tr>\n",
       "    <tr>\n",
       "      <th>94</th>\n",
       "      <td>Yenisey</td>\n",
       "      <td>None</td>\n",
       "      <td>MULTILINESTRING ((98.94706 52.57675, 98.12095 ...</td>\n",
       "    </tr>\n",
       "    <tr>\n",
       "      <th>95</th>\n",
       "      <td>Yukon</td>\n",
       "      <td>None</td>\n",
       "      <td>MULTILINESTRING ((-130.89319 59.2448, -131.065...</td>\n",
       "    </tr>\n",
       "    <tr>\n",
       "      <th>96</th>\n",
       "      <td>Zambezi</td>\n",
       "      <td>None</td>\n",
       "      <td>MULTILINESTRING ((35.52866 -17.66773, 36.28055...</td>\n",
       "    </tr>\n",
       "    <tr>\n",
       "      <th>97</th>\n",
       "      <td>Rio Grande, South America</td>\n",
       "      <td>Parana</td>\n",
       "      <td>MULTILINESTRING ((-44.37152 -22.17241, -43.860...</td>\n",
       "    </tr>\n",
       "  </tbody>\n",
       "</table>\n",
       "<p>98 rows × 3 columns</p>\n",
       "</div>"
      ],
      "text/plain": [
       "                        RIVER  SYSTEM  \\\n",
       "0                       Aldan    Lena   \n",
       "1                      Amazon  Amazon   \n",
       "2                   Amu Darya    None   \n",
       "3                        Amur    None   \n",
       "4                      Angara    None   \n",
       "..                        ...     ...   \n",
       "93                    Yangtze    None   \n",
       "94                    Yenisey    None   \n",
       "95                      Yukon    None   \n",
       "96                    Zambezi    None   \n",
       "97  Rio Grande, South America  Parana   \n",
       "\n",
       "                                             geometry  \n",
       "0   MULTILINESTRING ((124.00678 56.47258, 123.2595...  \n",
       "1   MULTILINESTRING ((-61.2773 -3.60706, -60.68466...  \n",
       "2   MULTILINESTRING ((73.98818 37.49952, 73.52595 ...  \n",
       "3   MULTILINESTRING ((122.63956 49.9973, 120.47874...  \n",
       "4   MULTILINESTRING ((105.07841 51.93053, 103.9295...  \n",
       "..                                                ...  \n",
       "93  MULTILINESTRING ((119.82609 32.24864, 118.9707...  \n",
       "94  MULTILINESTRING ((98.94706 52.57675, 98.12095 ...  \n",
       "95  MULTILINESTRING ((-130.89319 59.2448, -131.065...  \n",
       "96  MULTILINESTRING ((35.52866 -17.66773, 36.28055...  \n",
       "97  MULTILINESTRING ((-44.37152 -22.17241, -43.860...  \n",
       "\n",
       "[98 rows x 3 columns]"
      ]
     },
     "execution_count": 48,
     "metadata": {},
     "output_type": "execute_result"
    }
   ],
   "source": [
    "world_rivers"
   ]
  },
  {
   "cell_type": "markdown",
   "id": "c6fcbcc4-6b4e-45ea-ba63-814549807e6d",
   "metadata": {
    "id": "c6fcbcc4-6b4e-45ea-ba63-814549807e6d"
   },
   "source": [
    "As you see, this GDF has no Country column. But since it has geometry, you can keep the rivers, or their sections, that serve a country:"
   ]
  },
  {
   "cell_type": "code",
   "execution_count": 49,
   "id": "5b6a5884-4c38-4cf9-b452-c472e409d82b",
   "metadata": {
    "id": "5b6a5884-4c38-4cf9-b452-c472e409d82b"
   },
   "outputs": [],
   "source": [
    "rivers_brazil5880 = gpd.clip(gdf=world_rivers.to_crs(5880),\n",
    "                             mask=brazil5880)"
   ]
  },
  {
   "cell_type": "markdown",
   "id": "59424b3b-f335-47dd-8496-c4a7a5b7ee72",
   "metadata": {
    "id": "59424b3b-f335-47dd-8496-c4a7a5b7ee72"
   },
   "source": [
    "See differences:"
   ]
  },
  {
   "cell_type": "markdown",
   "id": "46dd5477-558e-4d69-b220-dfd436f7d543",
   "metadata": {
    "id": "46dd5477-558e-4d69-b220-dfd436f7d543"
   },
   "source": [
    "- input 1: Rivers"
   ]
  },
  {
   "cell_type": "code",
   "execution_count": 50,
   "id": "67a2f2f0-e29b-4599-bb23-e8b5e18404b6",
   "metadata": {
    "id": "67a2f2f0-e29b-4599-bb23-e8b5e18404b6"
   },
   "outputs": [
    {
     "data": {
      "text/plain": [
       "<Axes: >"
      ]
     },
     "execution_count": 50,
     "metadata": {},
     "output_type": "execute_result"
    },
    {
     "data": {
      "image/png": "[encoded data removed]",
      "text/plain": [
       "<Figure size 640x480 with 1 Axes>"
      ]
     },
     "metadata": {},
     "output_type": "display_data"
    }
   ],
   "source": [
    "world_rivers.plot()"
   ]
  },
  {
   "cell_type": "markdown",
   "id": "b64ee07c-535a-4157-a1bb-ef231a2be5b4",
   "metadata": {
    "id": "b64ee07c-535a-4157-a1bb-ef231a2be5b4"
   },
   "source": [
    "- input 2: mask (Brazil)"
   ]
  },
  {
   "cell_type": "code",
   "execution_count": 51,
   "id": "3485141c-b939-4c6d-aee0-864899796637",
   "metadata": {
    "id": "3485141c-b939-4c6d-aee0-864899796637"
   },
   "outputs": [
    {
     "data": {
      "text/plain": [
       "<Axes: >"
      ]
     },
     "execution_count": 51,
     "metadata": {},
     "output_type": "execute_result"
    },
    {
     "data": {
      "image/png": "[encoded data removed]",
      "text/plain": [
       "<Figure size 640x480 with 1 Axes>"
      ]
     },
     "metadata": {},
     "output_type": "display_data"
    }
   ],
   "source": [
    "brazil5880.plot(facecolor=\"greenyellow\")"
   ]
  },
  {
   "cell_type": "markdown",
   "id": "b3b59839-475a-4c8e-a67b-62d2f00d4899",
   "metadata": {
    "id": "b3b59839-475a-4c8e-a67b-62d2f00d4899"
   },
   "source": [
    "> Output: clipped rivers"
   ]
  },
  {
   "cell_type": "code",
   "execution_count": 52,
   "id": "fcc48289-88b6-439f-a483-e0f08375de4c",
   "metadata": {
    "id": "fcc48289-88b6-439f-a483-e0f08375de4c"
   },
   "outputs": [
    {
     "data": {
      "text/plain": [
       "<Axes: >"
      ]
     },
     "execution_count": 52,
     "metadata": {},
     "output_type": "execute_result"
    },
    {
     "data": {
      "image/png": "[encoded data removed]",
      "text/plain": [
       "<Figure size 640x480 with 1 Axes>"
      ]
     },
     "metadata": {},
     "output_type": "display_data"
    }
   ],
   "source": [
    "rivers_brazil5880.plot()"
   ]
  },
  {
   "cell_type": "code",
   "execution_count": 53,
   "id": "4cc43012-dcc3-45b3-b31e-35bcb26cab94",
   "metadata": {
    "id": "4cc43012-dcc3-45b3-b31e-35bcb26cab94"
   },
   "outputs": [
    {
     "data": {
      "text/plain": [
       "<Axes: >"
      ]
     },
     "execution_count": 53,
     "metadata": {},
     "output_type": "execute_result"
    },
    {
     "data": {
      "image/png": "[encoded data removed]",
      "text/plain": [
       "<Figure size 500x500 with 1 Axes>"
      ]
     },
     "metadata": {},
     "output_type": "display_data"
    }
   ],
   "source": [
    "base = brazil5880.plot(facecolor=\"greenyellow\", edgecolor='black', linewidth=0.4,figsize=(5,5))\n",
    "rivers_brazil5880.plot(edgecolor='blue', linewidth=0.5,\n",
    "                    ax=base)"
   ]
  },
  {
   "cell_type": "markdown",
   "id": "c77dfd82-1685-4f2d-a1ae-3ff26f8f3041",
   "metadata": {
    "id": "c77dfd82-1685-4f2d-a1ae-3ff26f8f3041"
   },
   "source": [
    "We can create our own mask for clipping:\n",
    "\n",
    "Let me get the **bounding box** of the map (the smallest possible rectangle that completely encloses a geometric shape or set of shapes):"
   ]
  },
  {
   "cell_type": "code",
   "execution_count": 54,
   "id": "80f8a267-da8a-4831-be2b-7d83bac3c595",
   "metadata": {
    "id": "80f8a267-da8a-4831-be2b-7d83bac3c595",
    "scrolled": true
   },
   "outputs": [
    {
     "data": {
      "text/plain": [
       "array([ 2793074.63914733,  6264891.06203913,  7120881.08835731,\n",
       "       10586462.14322563])"
      ]
     },
     "execution_count": 54,
     "metadata": {},
     "output_type": "execute_result"
    }
   ],
   "source": [
    "brazil5880.total_bounds #[minx, miny, maxx, maxy]"
   ]
  },
  {
   "cell_type": "code",
   "execution_count": 55,
   "id": "76f1dee2-1db3-4aca-a389-0d9b87718514",
   "metadata": {
    "id": "76f1dee2-1db3-4aca-a389-0d9b87718514"
   },
   "outputs": [
    {
     "data": {
      "text/plain": [
       "(np.float64(2793074.6391473296),\n",
       " np.float64(6264891.0620391285),\n",
       " np.float64(7120881.088357305),\n",
       " np.float64(10586462.143225627))"
      ]
     },
     "execution_count": 55,
     "metadata": {},
     "output_type": "execute_result"
    }
   ],
   "source": [
    "# saving the output\n",
    "minx, miny, maxx, maxy=brazil5880.total_bounds\n",
    "minx, miny, maxx, maxy"
   ]
  },
  {
   "cell_type": "markdown",
   "id": "e00d037a-9493-4bee-807a-c04202409990",
   "metadata": {
    "id": "e00d037a-9493-4bee-807a-c04202409990"
   },
   "source": [
    "I will combine those coordinates with the _centroid_ (mid_x,mid_y)to create a BOX of the north and south of Brazil:"
   ]
  },
  {
   "cell_type": "code",
   "execution_count": 56,
   "id": "0180a0cd-311b-43e4-a68a-2fe82f46b4a0",
   "metadata": {
    "id": "0180a0cd-311b-43e4-a68a-2fe82f46b4a0"
   },
   "outputs": [
    {
     "data": {
      "text/plain": [
       "<Axes: >"
      ]
     },
     "execution_count": 56,
     "metadata": {},
     "output_type": "execute_result"
    },
    {
     "data": {
      "image/png": "[encoded data removed]",
      "text/plain": [
       "<Figure size 640x480 with 1 Axes>"
      ]
     },
     "metadata": {},
     "output_type": "display_data"
    }
   ],
   "source": [
    "north_mask = [minx, mid_y, maxx, maxy]\n",
    "south_mask = [minx, minx, maxx, mid_y]\n",
    "\n",
    "# split Brazil\n",
    "states_brazil5880.clip(north_mask).plot(edgecolor=\"yellow\")"
   ]
  },
  {
   "cell_type": "code",
   "execution_count": null,
   "id": "1b9e1c22-e6ec-4671-b60c-a946bccb7791",
   "metadata": {
    "id": "1b9e1c22-e6ec-4671-b60c-a946bccb7791"
   },
   "outputs": [],
   "source": [
    "states_brazil5880.clip(south_mask).plot(edgecolor=\"yellow\")"
   ]
  },
  {
   "cell_type": "markdown",
   "id": "f465c328-5cb2-49ce-a90a-37419ade4a6f",
   "metadata": {
    "id": "f465c328-5cb2-49ce-a90a-37419ade4a6f"
   },
   "source": [
    "As you see, with clip we can cut polygons (not respecting the borders)."
   ]
  },
  {
   "cell_type": "markdown",
   "id": "b5c4eee9-24fc-4fa2-a639-9d774eb60825",
   "metadata": {
    "id": "b5c4eee9-24fc-4fa2-a639-9d774eb60825"
   },
   "source": [
    "## III. Spatial Joins\n",
    "\n",
    "We’re familiar with **merging**, which joins tables using common keys. Spatial joins, by contrast, rely solely on **geometry columns** to perform various types of filtering.\n",
    "\n",
    "Let me use the brazilian large airports and states:"
   ]
  },
  {
   "cell_type": "code",
   "execution_count": null,
   "id": "a0dfc63d-650e-4f89-bd29-817a42534b8e",
   "metadata": {
    "id": "a0dfc63d-650e-4f89-bd29-817a42534b8e"
   },
   "outputs": [],
   "source": [
    "large_airports.head()"
   ]
  },
  {
   "cell_type": "markdown",
   "id": "b887209c-7a1a-4a3c-a79e-e74321e373ad",
   "metadata": {
    "id": "b887209c-7a1a-4a3c-a79e-e74321e373ad"
   },
   "source": [
    "...and:"
   ]
  },
  {
   "cell_type": "code",
   "execution_count": null,
   "id": "e30b503a-c304-4615-aa27-72a66a3a3cc9",
   "metadata": {
    "id": "e30b503a-c304-4615-aa27-72a66a3a3cc9"
   },
   "outputs": [],
   "source": [
    "states_brazil5880.head()"
   ]
  },
  {
   "cell_type": "code",
   "execution_count": null,
   "id": "58d5a4e6-1d55-434d-9d0e-616394bba9a8",
   "metadata": {
    "id": "58d5a4e6-1d55-434d-9d0e-616394bba9a8"
   },
   "outputs": [],
   "source": [
    "# as before set index for 'states'\n",
    "states_brazil5880.set_index('state_name',inplace=True)\n",
    "states_brazil5880.head()"
   ]
  },
  {
   "cell_type": "markdown",
   "id": "bc834d8a-ada5-4cfc-9a23-f04800d4cd3e",
   "metadata": {
    "id": "bc834d8a-ada5-4cfc-9a23-f04800d4cd3e"
   },
   "source": [
    "### a. Within"
   ]
  },
  {
   "cell_type": "markdown",
   "id": "92e16665-bba3-462b-a6cb-971fd2cac082",
   "metadata": {
    "id": "92e16665-bba3-462b-a6cb-971fd2cac082"
   },
   "source": [
    "Let's ask:\n",
    "> The large airports whose geometries are within the borders of a state in Brazil."
   ]
  },
  {
   "cell_type": "code",
   "execution_count": null,
   "id": "e4093e9f-2149-4390-b7fb-676b6a24beff",
   "metadata": {
    "id": "e4093e9f-2149-4390-b7fb-676b6a24beff"
   },
   "outputs": [],
   "source": [
    "airports_within_states = gpd.sjoin(\n",
    "    large_airports,         # LEFT: airports we want to filter/keep\n",
    "    states_brazil5880,      # RIGHT: spatial boundaries to check against\n",
    "    how='inner',            # return geometries that match in both LEFT/RIGHT (jointype)\n",
    "    predicate='within'      # spatial condition: LEFT geometry within RIGHT geometry\n",
    ")\n",
    "\n",
    "# these are:\n",
    "airports_within_states"
   ]
  },
  {
   "cell_type": "markdown",
   "id": "d15e0714-7198-4d4f-9c60-e295520f5ce6",
   "metadata": {
    "id": "d15e0714-7198-4d4f-9c60-e295520f5ce6"
   },
   "source": [
    "We just performed a point-to-polygon spatial join.\n",
    "Notice that the result preserves the original geometries from the LEFT GeoDataFrame — specifically, only those features whose spatial relationship satisfied both the predicate (e.g., 'within') and the join type ('inner').\n",
    "The non-geometric attributes (columns) from the RIGHT GeoDataFrame are joined to the matching rows.\n",
    "\n",
    "Notice that, the request gave you points. I will add all the states below:"
   ]
  },
  {
   "cell_type": "code",
   "execution_count": null,
   "id": "3301bb57-d56d-4510-9681-63d5ceb8d04c",
   "metadata": {
    "id": "3301bb57-d56d-4510-9681-63d5ceb8d04c"
   },
   "outputs": [],
   "source": [
    "base=states_brazil5880.explore(edgecolor='black',style_kwds={'fillOpacity': 0.1,'color':'grey'})\n",
    "airports_within_states.explore(color='red',m=base)"
   ]
  },
  {
   "cell_type": "markdown",
   "id": "b5304d8d-9ff5-4c65-94ad-5a7c4727396a",
   "metadata": {
    "id": "b5304d8d-9ff5-4c65-94ad-5a7c4727396a"
   },
   "source": [
    "### b. Contains"
   ]
  },
  {
   "cell_type": "markdown",
   "id": "9a8607e8-a979-4cdb-b980-83d474c2418d",
   "metadata": {
    "id": "9a8607e8-a979-4cdb-b980-83d474c2418d"
   },
   "source": [
    "Importantly, if the LEFT GeoDataFrame geometries are polygons and the RIGHT one points (a polygon-to-point join), you’ll typically need to use a different predicate — such as 'contains' — to express the spatial relationship correctly.\n",
    "\n",
    "> Brazilian states that house large airports"
   ]
  },
  {
   "cell_type": "code",
   "execution_count": null,
   "id": "86d0683e-21fd-4300-a04e-59cc7392ef25",
   "metadata": {
    "id": "86d0683e-21fd-4300-a04e-59cc7392ef25"
   },
   "outputs": [],
   "source": [
    "states_containing_LargeAirports = gpd.sjoin(states_brazil5880,large_airports,how='inner',\n",
    "                                            predicate='contains')\n",
    "\n",
    "states_containing_LargeAirports"
   ]
  },
  {
   "cell_type": "markdown",
   "id": "f46d4882-a537-4094-a5cd-f7d98e4d2d08",
   "metadata": {
    "id": "f46d4882-a537-4094-a5cd-f7d98e4d2d08"
   },
   "source": [
    "As requested, you got polygons (not the airports). I will add airports for reference."
   ]
  },
  {
   "cell_type": "code",
   "execution_count": null,
   "id": "fe147401-f04a-4937-8e1f-1844d7edab4d",
   "metadata": {
    "id": "fe147401-f04a-4937-8e1f-1844d7edab4d"
   },
   "outputs": [],
   "source": [
    "base=states_containing_LargeAirports.explore(color='red')\n",
    "large_airports.explore(color='white',m=base)"
   ]
  },
  {
   "cell_type": "markdown",
   "id": "1d051af3-f9e2-47f2-974a-f22731bcab89",
   "metadata": {
    "id": "1d051af3-f9e2-47f2-974a-f22731bcab89"
   },
   "source": [
    "### c. Intersects\n",
    "\n",
    "'Contains' and 'within' are literally strict: Any airport located exactly on a state boundary — whether due to data precision, snapping, or real geography — will be excluded, even if it’s “practically” inside the state. More flexibility is achieved with **intersects**.\n",
    "\n",
    "> A point on the border of Rio de Janeiro, can be detected if I use intersect!"
   ]
  },
  {
   "cell_type": "code",
   "execution_count": null,
   "id": "312b0bb8-3ca7-40a6-b2df-c8cb63f573c9",
   "metadata": {
    "id": "312b0bb8-3ca7-40a6-b2df-c8cb63f573c9"
   },
   "outputs": [],
   "source": [
    "# this is RDJ:\n",
    "Rio=states_brazil5880.loc[['Rio de Janeiro'],:]\n",
    "\n",
    "#this a point on its border\n",
    "from shapely.geometry import Point\n",
    "\n",
    "coordinates=Rio.geometry.iloc[0].boundary.geoms[0].coords[1]\n",
    "aRDJ_PointInBorder=Point(coordinates)\n",
    "aRDJ_borderPoint = gpd.GeoDataFrame({'name': ['RioJaneiro Border Point']},\n",
    "                                    geometry=[aRDJ_PointInBorder],\n",
    "                                    crs=states_brazil5880.crs)"
   ]
  },
  {
   "cell_type": "code",
   "execution_count": null,
   "id": "ed58e5eb-663f-4973-b6c0-f9e1a00f6532",
   "metadata": {
    "id": "ed58e5eb-663f-4973-b6c0-f9e1a00f6532"
   },
   "outputs": [],
   "source": [
    "## Intersects result\n",
    "gpd.sjoin(aRDJ_borderPoint,Rio,\n",
    "          how='inner', predicate='intersects')"
   ]
  },
  {
   "cell_type": "markdown",
   "id": "3e71678d-23c3-44be-9163-16b1d5f5a2f3",
   "metadata": {
    "id": "3e71678d-23c3-44be-9163-16b1d5f5a2f3"
   },
   "source": [
    "> A point on the border of Rio de Janeiro, can NOT be detected if I use within / contains"
   ]
  },
  {
   "cell_type": "code",
   "execution_count": null,
   "id": "560e2e75-fdbc-44b8-a86c-5dc4b8a81f28",
   "metadata": {
    "id": "560e2e75-fdbc-44b8-a86c-5dc4b8a81f28"
   },
   "outputs": [],
   "source": [
    "## within should return no rows\n",
    "gpd.sjoin(aRDJ_borderPoint,Rio,\n",
    "          how='inner', predicate='within')"
   ]
  },
  {
   "cell_type": "code",
   "execution_count": null,
   "id": "6bc8e82c-7988-4fdf-b8d3-34fb8bfe8645",
   "metadata": {
    "id": "6bc8e82c-7988-4fdf-b8d3-34fb8bfe8645"
   },
   "outputs": [],
   "source": [
    "## contains should return no rows\n",
    "gpd.sjoin(Rio,aRDJ_borderPoint,\n",
    "          how='inner', predicate='contains')"
   ]
  },
  {
   "cell_type": "markdown",
   "id": "74e7d374-e2b7-4645-bf8d-a9fabaea19d4",
   "metadata": {
    "id": "74e7d374-e2b7-4645-bf8d-a9fabaea19d4"
   },
   "source": [
    "We knew this:"
   ]
  },
  {
   "cell_type": "code",
   "execution_count": null,
   "id": "2fc71c37-07df-4406-bf38-8dfb1fabf8b2",
   "metadata": {
    "id": "2fc71c37-07df-4406-bf38-8dfb1fabf8b2"
   },
   "outputs": [],
   "source": [
    "# we need crs4326 for explore:\n",
    "aRDJ_borderPoint_latlon = aRDJ_borderPoint.to_crs(4326).geometry.iloc[0]\n",
    "\n",
    "base=Rio.explore(zoom_start=20,location=[aRDJ_borderPoint_latlon.y, aRDJ_borderPoint_latlon.x])\n",
    "aRDJ_borderPoint.explore(m=base, color='red')"
   ]
  },
  {
   "cell_type": "markdown",
   "id": "fa2ca902-c593-4b74-a33a-8169a49c0250",
   "metadata": {
    "id": "fa2ca902-c593-4b74-a33a-8169a49c0250"
   },
   "source": [
    "### d. Touches\n",
    "\n",
    "We also have 'touches', a more stringent predicate than 'intersects'. It returns geometries that:\n",
    " - Share a only a border (for polygons or lines), or\n",
    " - Have only one tangent point in common.\n",
    "\n",
    "> Which states are neighbors of 'BAHIA\", including BAHIA"
   ]
  },
  {
   "cell_type": "code",
   "execution_count": null,
   "id": "9c2276e2-4e96-43b3-ab33-45f90eeea7fc",
   "metadata": {
    "id": "9c2276e2-4e96-43b3-ab33-45f90eeea7fc"
   },
   "outputs": [],
   "source": [
    "# Neighbors of Bahia?\n",
    "gpd.sjoin(N_brazil.loc[N_brazil.state_name=='Bahia',:],N_brazil,how='inner', predicate='intersects').shape"
   ]
  },
  {
   "cell_type": "markdown",
   "id": "f862a19d-e5ec-4268-b126-dcbab84693c3",
   "metadata": {
    "id": "f862a19d-e5ec-4268-b126-dcbab84693c3"
   },
   "source": [
    "That is, Bahia seems to share borders with 5 states:"
   ]
  },
  {
   "cell_type": "code",
   "execution_count": null,
   "id": "65d81e9d-b406-47de-9b06-dd26ed2b58d7",
   "metadata": {
    "id": "65d81e9d-b406-47de-9b06-dd26ed2b58d7"
   },
   "outputs": [],
   "source": [
    "base=gpd.sjoin(N_brazil,N_brazil.loc[N_brazil.state_name=='Bahia',:],\n",
    "               how='inner',\n",
    "               predicate='intersects').plot(color='yellow',edgecolor='red')\n",
    "N_brazil.loc[N_brazil.state_name=='Bahia',:].plot(ax=base, color='red')"
   ]
  },
  {
   "cell_type": "markdown",
   "id": "bbe020a9-92cf-40de-8eab-2edb5d9088ee",
   "metadata": {
    "id": "bbe020a9-92cf-40de-8eab-2edb5d9088ee"
   },
   "source": [
    "However, because many free GeoDataFrames — especially those sourced as Shapefiles — contain topological imperfections like gaps, overlaps, or misaligned vertices, 'touches' often fails to detect what should be adjacent features. Ironically, this “failure” can be useful: 'touches' acts as a diagnostic tool — highlighting where boundaries are not perfectly aligned."
   ]
  },
  {
   "cell_type": "code",
   "execution_count": null,
   "id": "a2fcd8fc-b227-40c4-860e-c6367385d980",
   "metadata": {
    "id": "a2fcd8fc-b227-40c4-860e-c6367385d980"
   },
   "outputs": [],
   "source": [
    "gpd.sjoin(N_brazil.loc[N_brazil.state_name=='Bahia',:],N_brazil,how='inner', predicate='touches').shape"
   ]
  },
  {
   "cell_type": "markdown",
   "id": "a78b37ed-372c-48db-ad41-193e70866a5c",
   "metadata": {
    "id": "a78b37ed-372c-48db-ad41-193e70866a5c"
   },
   "source": [
    "See the neighbor that disappears:"
   ]
  },
  {
   "cell_type": "code",
   "execution_count": null,
   "id": "0f7315ce-674e-4ed4-a3ea-c302d5bbdd8b",
   "metadata": {
    "id": "0f7315ce-674e-4ed4-a3ea-c302d5bbdd8b"
   },
   "outputs": [],
   "source": [
    "base=gpd.sjoin(N_brazil,N_brazil.loc[N_brazil.state_name=='Bahia',:],\n",
    "               how='inner',\n",
    "               predicate='touches').plot(color='yellow',edgecolor='red')\n",
    "N_brazil.loc[N_brazil.state_name=='Bahia',:].plot(ax=base, color='red')"
   ]
  },
  {
   "cell_type": "markdown",
   "id": "542dcd95-0a36-4d83-8216-13a7da41b41e",
   "metadata": {
    "id": "542dcd95-0a36-4d83-8216-13a7da41b41e"
   },
   "source": [
    "### e. Crosses\n",
    "\n",
    "When we have **lines**, we may need **crosses**. Let me subset our rivers:"
   ]
  },
  {
   "cell_type": "code",
   "execution_count": null,
   "id": "d74706f6-8eb3-4d5a-a5ad-00b896a0738c",
   "metadata": {
    "id": "d74706f6-8eb3-4d5a-a5ad-00b896a0738c"
   },
   "outputs": [],
   "source": [
    "amazonSystem=rivers_brazil5880[rivers_brazil5880.SYSTEM=='Amazon']\n",
    "amazonSystem.set_index('RIVER',inplace=True)"
   ]
  },
  {
   "cell_type": "markdown",
   "id": "06bf70f4-9fa3-4d2c-bb19-099e0317641b",
   "metadata": {
    "id": "06bf70f4-9fa3-4d2c-bb19-099e0317641b"
   },
   "source": [
    "Then,\n",
    "> Which rivers from the Amazon system are intersecting states?"
   ]
  },
  {
   "cell_type": "code",
   "execution_count": null,
   "id": "4b255e2d-1410-47c5-ae3a-936757b47152",
   "metadata": {
    "id": "4b255e2d-1410-47c5-ae3a-936757b47152"
   },
   "outputs": [],
   "source": [
    "gpd.sjoin(amazonSystem,states_brazil5880,how='inner', predicate='intersects')"
   ]
  },
  {
   "cell_type": "markdown",
   "id": "4e3fd7eb-bf69-4f62-8f85-93f4a6e908bc",
   "metadata": {
    "id": "4e3fd7eb-bf69-4f62-8f85-93f4a6e908bc"
   },
   "source": [
    "A count of the result:"
   ]
  },
  {
   "cell_type": "code",
   "execution_count": null,
   "id": "96be5973-9fea-45d3-a6de-a8a6ff7b868a",
   "metadata": {
    "id": "96be5973-9fea-45d3-a6de-a8a6ff7b868a"
   },
   "outputs": [],
   "source": [
    "gpd.sjoin(amazonSystem,states_brazil5880,how='inner', predicate='intersects').shape"
   ]
  },
  {
   "cell_type": "markdown",
   "id": "ea5546ab-0870-406a-9ef6-dff58b69ad03",
   "metadata": {
    "id": "ea5546ab-0870-406a-9ef6-dff58b69ad03"
   },
   "source": [
    "Alternatively,\n",
    "\n",
    "> Which rivers from the Amazon system are crossing states?"
   ]
  },
  {
   "cell_type": "code",
   "execution_count": null,
   "id": "ebd2b4be-3b5f-47d4-b42d-e4a4d0a0f6ad",
   "metadata": {
    "id": "ebd2b4be-3b5f-47d4-b42d-e4a4d0a0f6ad"
   },
   "outputs": [],
   "source": [
    "gpd.sjoin(amazonSystem,states_brazil5880,how='inner', predicate='crosses')"
   ]
  },
  {
   "cell_type": "markdown",
   "id": "0d8dd114-c458-4e54-8abf-34bf9d7c0ba8",
   "metadata": {
    "id": "0d8dd114-c458-4e54-8abf-34bf9d7c0ba8"
   },
   "source": [
    "You got one less:"
   ]
  },
  {
   "cell_type": "code",
   "execution_count": null,
   "id": "80662036-9e9a-47b3-af64-8287707c95ed",
   "metadata": {
    "id": "80662036-9e9a-47b3-af64-8287707c95ed"
   },
   "outputs": [],
   "source": [
    "gpd.sjoin(amazonSystem,states_brazil5880,how='inner', predicate='crosses').shape"
   ]
  },
  {
   "cell_type": "markdown",
   "id": "49f10269-28e7-4ec2-851c-d8b8acacb161",
   "metadata": {
    "id": "49f10269-28e7-4ec2-851c-d8b8acacb161"
   },
   "source": [
    "Again, _intersects_ means both geometries have some 'space' in common. But **crosses** is an intersection that has to cross the spatial object. From the result above, there is one river that shares space with the state, but is not crossing its border:"
   ]
  },
  {
   "cell_type": "code",
   "execution_count": null,
   "id": "1ce5511d-bcfe-4008-9989-6c349685a83a",
   "metadata": {
    "id": "1ce5511d-bcfe-4008-9989-6c349685a83a"
   },
   "outputs": [],
   "source": [
    "# Get intersects result\n",
    "intersects_result = gpd.sjoin(amazonSystem,states_brazil5880, how='inner', predicate='intersects')\n",
    "intersects_result"
   ]
  },
  {
   "cell_type": "code",
   "execution_count": null,
   "id": "9f702482-0263-498b-bd87-49686f5d00ba",
   "metadata": {
    "id": "9f702482-0263-498b-bd87-49686f5d00ba"
   },
   "outputs": [],
   "source": [
    "# Get crosses result\n",
    "crosses_result = gpd.sjoin(amazonSystem,states_brazil5880, how='inner', predicate='crosses')\n",
    "crosses_result"
   ]
  },
  {
   "cell_type": "code",
   "execution_count": null,
   "id": "3bda6206-14b8-4d32-822e-9dc599e1a8c4",
   "metadata": {
    "id": "3bda6206-14b8-4d32-822e-9dc599e1a8c4"
   },
   "outputs": [],
   "source": [
    "river_notCrossing=list(set(intersects_result.index)-set(crosses_result.index))\n",
    "river_notCrossing"
   ]
  },
  {
   "cell_type": "code",
   "execution_count": null,
   "id": "ac682687-f791-47ca-b6d1-86fb80ba6eef",
   "metadata": {
    "id": "ac682687-f791-47ca-b6d1-86fb80ba6eef"
   },
   "outputs": [],
   "source": [
    "# Find indexes/columns\n",
    "state_notCrossed=intersects_result.loc[river_notCrossing,'state_name'].to_list()\n",
    "state_notCrossed"
   ]
  },
  {
   "cell_type": "markdown",
   "id": "98684eea-ab6b-42f8-8afa-d66000fd0c17",
   "metadata": {
    "id": "98684eea-ab6b-42f8-8afa-d66000fd0c17"
   },
   "source": [
    "Now we know the river that is not crossing an state, and the name of that state."
   ]
  },
  {
   "cell_type": "code",
   "execution_count": null,
   "id": "06cc6736-5808-41c8-8062-5f72527c8cdb",
   "metadata": {
    "id": "06cc6736-5808-41c8-8062-5f72527c8cdb"
   },
   "outputs": [],
   "source": [
    "base=states_brazil5880.loc[state_notCrossed,:].plot(color='w',edgecolor='k',figsize=(12, 8))\n",
    "amazonSystem.plot(ax=base)\n",
    "amazonSystem.loc[river_notCrossing,:].plot(color='red',ax=base)\n"
   ]
  },
  {
   "cell_type": "markdown",
   "id": "aff9f8ed-ce13-4c36-a219-ae4d5f2d0b83",
   "metadata": {
    "id": "aff9f8ed-ce13-4c36-a219-ae4d5f2d0b83"
   },
   "source": [
    "## IV. Spatial Overlay\n",
    "\n",
    "As the name implies, you need two inputs. We might need to create or find some geometries from the geometries we already have. Using a set theory approach, we will see the use of _intersection_, _union_, _difference_, and _symmetric difference_.\n",
    "Let's remember these results:"
   ]
  },
  {
   "cell_type": "code",
   "execution_count": null,
   "id": "a264444a-0383-48b8-b52d-b4ad3119b260",
   "metadata": {
    "id": "a264444a-0383-48b8-b52d-b4ad3119b260"
   },
   "outputs": [],
   "source": [
    "# Create a figure and a 2x2 grid of axes\n",
    "import matplotlib.pyplot as plt\n",
    "fig, axes = plt.subplots(nrows=2, ncols=2, figsize=(12, 10))\n",
    "axes = axes.flatten()\n",
    "\n",
    "N_brazil.plot(color='pink',edgecolor='k',ax=axes[0])\n",
    "axes[0].set_title(\"1. North\")\n",
    "\n",
    "S_brazil.plot(color='pink',edgecolor='k',ax=axes[1])\n",
    "axes[1].set_title(\"2. South\")\n",
    "\n",
    "W_brazil.plot(color='pink',edgecolor='k',ax=axes[2])\n",
    "axes[2].set_title(\"3. West\")\n",
    "\n",
    "E_brazil.plot(color='pink',edgecolor='k',ax=axes[3])\n",
    "axes[3].set_title(\"4. East\")\n",
    "\n",
    "plt.show()"
   ]
  },
  {
   "cell_type": "markdown",
   "id": "8e770e96-da53-412d-8ab5-70e186c62f53",
   "metadata": {
    "id": "8e770e96-da53-412d-8ab5-70e186c62f53"
   },
   "source": [
    "Let's play with these GDFs, keep in mind the position of the GDFs:\n",
    "\n",
    "```\n",
    "GDFleft.overlay(GDFright, ...)\n",
    "```"
   ]
  },
  {
   "cell_type": "markdown",
   "id": "b751684b-270f-4b3a-9b7d-d51ae7f2b641",
   "metadata": {
    "id": "b751684b-270f-4b3a-9b7d-d51ae7f2b641"
   },
   "source": [
    "### a. Intersection\n",
    "\n",
    "We keep what is common between _left_ and _right_ GDFs.\n",
    "\n",
    "> Intersection of North and South"
   ]
  },
  {
   "cell_type": "code",
   "execution_count": null,
   "id": "43047a28-d7ac-4c99-9ebc-6629fe10ab11",
   "metadata": {
    "id": "43047a28-d7ac-4c99-9ebc-6629fe10ab11"
   },
   "outputs": [],
   "source": [
    "NS_brazil=N_brazil.overlay(S_brazil, how=\"intersection\",keep_geom_type=True)\n",
    "NS_brazil.plot(color='pink',edgecolor='k')"
   ]
  },
  {
   "cell_type": "markdown",
   "id": "f31e1a0d-2685-43cc-8328-7414a2cbe0ec",
   "metadata": {
    "id": "f31e1a0d-2685-43cc-8328-7414a2cbe0ec"
   },
   "source": [
    "> Intersection of West and East"
   ]
  },
  {
   "cell_type": "code",
   "execution_count": null,
   "id": "39a07a96-ff42-4ddc-9f80-6f93d315c8b1",
   "metadata": {
    "id": "39a07a96-ff42-4ddc-9f80-6f93d315c8b1"
   },
   "outputs": [],
   "source": [
    "WE_brazil=W_brazil.overlay(E_brazil, how=\"intersection\",keep_geom_type=True)\n",
    "WE_brazil.plot(color='pink',edgecolor='k')"
   ]
  },
  {
   "cell_type": "markdown",
   "id": "ec14306e-6c6e-4759-88e0-66a02b4294ec",
   "metadata": {
    "id": "ec14306e-6c6e-4759-88e0-66a02b4294ec"
   },
   "source": [
    "### b. Union\n",
    "\n",
    "In the union overlay, we do not return dissolved geometries. Instead, we return a complete set of new geometries that represent every unique spatial combination of the two input GeoDataFrames. The resulting GeoDataFrame will contain the columns from both GDFs, and the row count will be the sum of all parts of A, all parts of B, and the newly created intersection parts, potentially inflated by topological flaws\n"
   ]
  },
  {
   "cell_type": "markdown",
   "id": "21dbcb9e-2130-40f1-8261-4b386fd63673",
   "metadata": {
    "id": "21dbcb9e-2130-40f1-8261-4b386fd63673"
   },
   "source": [
    "> Unite the West/East intersection with the North/South intersection"
   ]
  },
  {
   "cell_type": "code",
   "execution_count": null,
   "id": "5dfab57c-04e5-468d-b60a-0cc82ddeb1de",
   "metadata": {
    "id": "5dfab57c-04e5-468d-b60a-0cc82ddeb1de"
   },
   "outputs": [],
   "source": [
    "mid_Brazil=NS_brazil.overlay(WE_brazil,how=\"union\",keep_geom_type=True)\n",
    "mid_Brazil.plot(color='pink',edgecolor='k')"
   ]
  },
  {
   "cell_type": "markdown",
   "id": "bd80963c-3d9e-4708-af62-6d19149a6a4b",
   "metadata": {
    "id": "bd80963c-3d9e-4708-af62-6d19149a6a4b"
   },
   "source": [
    "### c. Difference\n",
    "\n",
    "Here, you keep what belongs to the left GDF that is not in the right GDF.\n",
    "\n",
    "> Keep nothern states that are not in the southern ones"
   ]
  },
  {
   "cell_type": "code",
   "execution_count": null,
   "id": "667a9eeb-dadb-4fcf-9c67-23ce0f6da08a",
   "metadata": {
    "id": "667a9eeb-dadb-4fcf-9c67-23ce0f6da08a"
   },
   "outputs": [],
   "source": [
    "NS_diff_brazil=N_brazil.overlay(S_brazil, how='difference')\n",
    "NS_diff_brazil.plot(color='pink',edgecolor='k')"
   ]
  },
  {
   "cell_type": "markdown",
   "id": "8170b033-0707-43e8-b4ee-dca39e46f17a",
   "metadata": {
    "id": "8170b033-0707-43e8-b4ee-dca39e46f17a"
   },
   "source": [
    "### d. Symmetric Difference"
   ]
  },
  {
   "cell_type": "markdown",
   "id": "5f2728ec-f142-47a9-8de2-a65fef18680f",
   "metadata": {
    "id": "5f2728ec-f142-47a9-8de2-a65fef18680f"
   },
   "source": [
    "Here, we keep what is not in the intersection but in both GDFs.\n",
    "\n",
    "> Unite Northern and Southern states, but keep states that are not in their intersection."
   ]
  },
  {
   "cell_type": "code",
   "execution_count": null,
   "id": "1a3e81f0-3f80-4a88-98c7-5f6611c50cfe",
   "metadata": {
    "id": "1a3e81f0-3f80-4a88-98c7-5f6611c50cfe"
   },
   "outputs": [],
   "source": [
    "NS_simdiff_brazil=N_brazil.overlay(S_brazil, how='symmetric_difference')\n",
    "NS_simdiff_brazil.plot(color='pink',edgecolor='k')"
   ]
  },
  {
   "cell_type": "markdown",
   "id": "7caa0e58",
   "metadata": {
    "id": "7caa0e58"
   },
   "source": [
    "\n",
    "_____________\n",
    "\n",
    "\n",
    "### e. Cleaning and Overlay\n",
    "\n",
    "Overlay and SJoin differ in that overlay, as it creates geometries, may not output clean results. Not because overlay fault, but due to the quality of the original maps.\n"
   ]
  },
  {
   "cell_type": "markdown",
   "id": "2317badb-dae3-4e00-a7fa-de3a157fbe1c",
   "metadata": {
    "id": "2317badb-dae3-4e00-a7fa-de3a157fbe1c"
   },
   "source": [
    "Let me use the **intersection** as our topological detective."
   ]
  },
  {
   "cell_type": "markdown",
   "id": "48df2aa6-d0f3-4568-aee9-7fa2a163fe59",
   "metadata": {
    "id": "48df2aa6-d0f3-4568-aee9-7fa2a163fe59"
   },
   "source": [
    "- **Using set operations**: What are the common states between northern and souther states."
   ]
  },
  {
   "cell_type": "code",
   "execution_count": null,
   "id": "b595dde9-ed0f-4ff1-babb-e95068a63423",
   "metadata": {
    "id": "b595dde9-ed0f-4ff1-babb-e95068a63423"
   },
   "outputs": [],
   "source": [
    "setIntersection=set(N_brazil.state_name) & set(S_brazil.state_name)\n",
    "\n",
    "# how many, which are they\n",
    "len(setIntersection),setIntersection"
   ]
  },
  {
   "cell_type": "markdown",
   "id": "ccfe4249-53e5-4b7d-922f-7f6af1bfca52",
   "metadata": {
    "id": "ccfe4249-53e5-4b7d-922f-7f6af1bfca52"
   },
   "source": [
    "- **The spatial overlay with keep_geom_type as True**:"
   ]
  },
  {
   "cell_type": "code",
   "execution_count": null,
   "id": "f6c71c71-f9d1-4a3d-b03e-d3a492ddb2e7",
   "metadata": {
    "id": "f6c71c71-f9d1-4a3d-b03e-d3a492ddb2e7"
   },
   "outputs": [],
   "source": [
    "NS_brazil_T=N_brazil.overlay(S_brazil, how=\"intersection\",keep_geom_type=True)\n",
    "\n",
    "# different from 8 (see above)\n",
    "NS_brazil_T.shape[0]"
   ]
  },
  {
   "cell_type": "markdown",
   "id": "fddbd82c-4126-4867-ba1b-f73c4c97d560",
   "metadata": {
    "id": "fddbd82c-4126-4867-ba1b-f73c4c97d560"
   },
   "source": [
    "- **The spatial overlay with keep_geom_type as False**:"
   ]
  },
  {
   "cell_type": "code",
   "execution_count": null,
   "id": "0b18044b-7735-4c95-bf90-08234055f34d",
   "metadata": {
    "id": "0b18044b-7735-4c95-bf90-08234055f34d"
   },
   "outputs": [],
   "source": [
    "NS_brazil_F=N_brazil.overlay(S_brazil, how=\"intersection\",keep_geom_type=False)\n",
    "\n",
    "# different from 8 and 11 (see above)\n",
    "NS_brazil_F.shape[0]"
   ]
  },
  {
   "cell_type": "markdown",
   "id": "fa1c156d-d1f5-41e9-8374-f7bc93529a38",
   "metadata": {
    "id": "fa1c156d-d1f5-41e9-8374-f7bc93529a38"
   },
   "source": [
    "As you see, the intersection that we plotted before had several topological issues we could not see with bare eyes. There were several **additional** geometries that represent flaws. When we used \"keep_geom_type=True\" the results were polygons (left GDF geometries were polygons); but when we asked \"keep_geom_type=False\" the result may include polygons and more (even collections). Let's see this last case:"
   ]
  },
  {
   "cell_type": "code",
   "execution_count": null,
   "id": "7f1b0650-dea5-4362-9915-f58cf7da8706",
   "metadata": {
    "id": "7f1b0650-dea5-4362-9915-f58cf7da8706"
   },
   "outputs": [],
   "source": [
    "NS_brazil_F.geometry.geom_type.value_counts()"
   ]
  },
  {
   "cell_type": "markdown",
   "id": "c26ff82d-cb26-4c18-8b6f-f89e09bd85fc",
   "metadata": {
    "id": "c26ff82d-cb26-4c18-8b6f-f89e09bd85fc"
   },
   "source": [
    "> Can this be fixed?"
   ]
  },
  {
   "cell_type": "markdown",
   "id": "2eb98b61-73c2-4474-8770-1d96f92f03d6",
   "metadata": {
    "id": "2eb98b61-73c2-4474-8770-1d96f92f03d6"
   },
   "source": [
    "Let's see what can be done:\n",
    "\n",
    "- review the previous intersection:"
   ]
  },
  {
   "cell_type": "code",
   "execution_count": null,
   "id": "50778adb-882d-4f02-8293-c6af28dd8942",
   "metadata": {
    "id": "50778adb-882d-4f02-8293-c6af28dd8942"
   },
   "outputs": [],
   "source": [
    "NS_brazil_T"
   ]
  },
  {
   "cell_type": "markdown",
   "id": "efb09511-d995-4d38-92ef-4fc3ea018208",
   "metadata": {
    "id": "efb09511-d995-4d38-92ef-4fc3ea018208"
   },
   "source": [
    "- Detect problematic rows"
   ]
  },
  {
   "cell_type": "code",
   "execution_count": null,
   "id": "6674f874-d8df-4d4f-9786-dca6571d46c2",
   "metadata": {
    "id": "6674f874-d8df-4d4f-9786-dca6571d46c2"
   },
   "outputs": [],
   "source": [
    "NS_brazil_T[NS_brazil_T.state_name_1!=NS_brazil_T.state_name_2]"
   ]
  },
  {
   "cell_type": "markdown",
   "id": "0d4de83e-03db-4215-8680-8af8c7291b1c",
   "metadata": {
    "id": "0d4de83e-03db-4215-8680-8af8c7291b1c"
   },
   "source": [
    "Pernambuco and Minas Gerais must have some of their points \"invading\" Bahia and  Alagoas polygon. The strategy here is that Bahia and Aalagoas will not push away the invading points, but to 'abandon' the area in conflict (difference) for the sake of clean limits (dissolve).\n",
    "\n",
    "- We need to work with the original states. Let's make a copy of them before cleaning:"
   ]
  },
  {
   "cell_type": "code",
   "execution_count": null,
   "id": "c260c5af-9a0c-4a6e-a7e0-135cd4945f20",
   "metadata": {
    "id": "c260c5af-9a0c-4a6e-a7e0-135cd4945f20"
   },
   "outputs": [],
   "source": [
    "states_brazil_clean=states_brazil5880.copy()\n",
    "states_brazil_clean.head()"
   ]
  },
  {
   "cell_type": "markdown",
   "id": "740bfa34-9ecd-4450-8285-3d4a6a8147ce",
   "metadata": {
    "id": "740bfa34-9ecd-4450-8285-3d4a6a8147ce"
   },
   "source": [
    "- Let's dissolve Pernambuco and Minas Gerais, the invaders:"
   ]
  },
  {
   "cell_type": "code",
   "execution_count": null,
   "id": "e5011dc4-aecf-47aa-877a-0df9aea75723",
   "metadata": {
    "id": "e5011dc4-aecf-47aa-877a-0df9aea75723"
   },
   "outputs": [],
   "source": [
    "alienStates=[\"Minas Gerais\",\"Pernambuco\"]\n",
    "alienUnion_GDF=states_brazil_clean[states_brazil_clean.index.isin(alienStates)].dissolve()\n",
    "alienUnion_GDF"
   ]
  },
  {
   "cell_type": "markdown",
   "id": "339e349e-e349-4185-9d75-ec2823d24250",
   "metadata": {
    "id": "339e349e-e349-4185-9d75-ec2823d24250"
   },
   "source": [
    "- Keep the states to be cleaned from the 'alienStates', no dissolving - just filtering:"
   ]
  },
  {
   "cell_type": "code",
   "execution_count": null,
   "id": "731db026-fb18-4119-961f-2fad3ecf1579",
   "metadata": {
    "id": "731db026-fb18-4119-961f-2fad3ecf1579"
   },
   "outputs": [],
   "source": [
    "forCleaning=[\"Alagoas\",\"Bahia\"] #order matters\n",
    "forCleaning_GDF=states_brazil_clean[states_brazil_clean.index.isin(forCleaning)]\n",
    "forCleaning_GDF"
   ]
  },
  {
   "cell_type": "markdown",
   "id": "409417c6-71eb-43e4-8856-846a1afb4cd8",
   "metadata": {
    "id": "409417c6-71eb-43e4-8856-846a1afb4cd8"
   },
   "source": [
    "- Recreate boundaries, so that no intersection occurs... do you see different values in geometry column now?"
   ]
  },
  {
   "cell_type": "code",
   "execution_count": null,
   "id": "17486e7c-5b7c-4815-8196-b7271954274b",
   "metadata": {
    "id": "17486e7c-5b7c-4815-8196-b7271954274b"
   },
   "outputs": [],
   "source": [
    "recreatedPolygons=forCleaning_GDF.overlay(alienUnion_GDF,how=\"difference\",keep_geom_type=False).dissolve(by=\"state_code\")\n",
    "recreatedPolygons"
   ]
  },
  {
   "cell_type": "markdown",
   "id": "7376bdf4-61cc-4d01-8a50-209b57f6d6a5",
   "metadata": {
    "id": "7376bdf4-61cc-4d01-8a50-209b57f6d6a5"
   },
   "source": [
    "- Replace old geometries with recent values.\n",
    "\n",
    "This is a sensible moment: You need to change just the geometry cells, not the whole rows:"
   ]
  },
  {
   "cell_type": "code",
   "execution_count": null,
   "id": "71c89b70-031d-4061-bd5b-a6f57d390836",
   "metadata": {
    "id": "71c89b70-031d-4061-bd5b-a6f57d390836"
   },
   "outputs": [],
   "source": [
    "#old values\n",
    "states_brazil_clean.loc[forCleaning,'geometry']"
   ]
  },
  {
   "cell_type": "code",
   "execution_count": null,
   "id": "5a767042-4403-4f12-a0ac-9f44420f27ce",
   "metadata": {
    "id": "5a767042-4403-4f12-a0ac-9f44420f27ce"
   },
   "outputs": [],
   "source": [
    "#new values - notice order\n",
    "recreatedPolygons.geometry"
   ]
  },
  {
   "cell_type": "code",
   "execution_count": null,
   "id": "5b089f7c-5f40-4e37-9f5d-9bda3173e71a",
   "metadata": {
    "id": "5b089f7c-5f40-4e37-9f5d-9bda3173e71a"
   },
   "outputs": [],
   "source": [
    "# but use this for replacement\n",
    "recreatedPolygons.geometry.values"
   ]
  },
  {
   "cell_type": "markdown",
   "id": "c13320c0-3d74-402f-9f93-2afd18208737",
   "metadata": {
    "id": "c13320c0-3d74-402f-9f93-2afd18208737"
   },
   "source": [
    "Then,"
   ]
  },
  {
   "cell_type": "code",
   "execution_count": null,
   "id": "a7ae59e8-d098-47c2-a53b-80ac59db0b67",
   "metadata": {
    "id": "a7ae59e8-d098-47c2-a53b-80ac59db0b67"
   },
   "outputs": [],
   "source": [
    "states_brazil_clean.loc[forCleaning,'geometry']=recreatedPolygons.geometry.values\n",
    "\n",
    "#see\n",
    "states_brazil_clean.loc[forCleaning,'geometry']"
   ]
  },
  {
   "cell_type": "markdown",
   "id": "6e402082-c8d7-4703-be6b-ba4dc6fa18fc",
   "metadata": {
    "id": "6e402082-c8d7-4703-be6b-ba4dc6fa18fc"
   },
   "source": [
    "- We need to recreate northern and southern GDFs, let's redo the four ones at once:"
   ]
  },
  {
   "cell_type": "code",
   "execution_count": null,
   "id": "d011b48d-5e8a-4588-8533-1a69f9ec81a2",
   "metadata": {
    "id": "d011b48d-5e8a-4588-8533-1a69f9ec81a2"
   },
   "outputs": [],
   "source": [
    "# the north\n",
    "N_brazil_clean=states_brazil_clean.reset_index().cx[:,mid_y:]\n",
    "# the south\n",
    "S_brazil_clean=states_brazil_clean.reset_index().cx[:,:mid_y]\n",
    "# the west\n",
    "W_brazil_clean=states_brazil_clean.reset_index().cx[:mid_x,:]\n",
    "# the east\n",
    "E_brazil_clean=states_brazil_clean.reset_index().cx[mid_x:,:]"
   ]
  },
  {
   "cell_type": "markdown",
   "id": "d355265c-af33-4272-87a8-b934e2d0689b",
   "metadata": {
    "id": "d355265c-af33-4272-87a8-b934e2d0689b"
   },
   "source": [
    "- Confirm you have improved the intersection with **keep_geom_type=True**:"
   ]
  },
  {
   "cell_type": "code",
   "execution_count": null,
   "id": "57876151-3f62-4eb3-bf31-650234137342",
   "metadata": {
    "id": "57876151-3f62-4eb3-bf31-650234137342"
   },
   "outputs": [],
   "source": [
    "N_brazil_clean.overlay(S_brazil_clean, how=\"intersection\",keep_geom_type=True)"
   ]
  },
  {
   "cell_type": "markdown",
   "id": "10d460e4-ccf9-418a-944e-1543b6dc35a2",
   "metadata": {
    "id": "10d460e4-ccf9-418a-944e-1543b6dc35a2"
   },
   "source": [
    "- Confirm you have improved the intersection with **keep_geom_type=False**:"
   ]
  },
  {
   "cell_type": "code",
   "execution_count": null,
   "id": "23c14cef-7359-40ea-a1fc-4012d404d261",
   "metadata": {
    "id": "23c14cef-7359-40ea-a1fc-4012d404d261"
   },
   "outputs": [],
   "source": [
    "N_brazil_clean.overlay(S_brazil_clean, how=\"intersection\",keep_geom_type=False).geometry.geom_type.value_counts()"
   ]
  },
  {
   "cell_type": "markdown",
   "id": "dd161eb9-0f58-467a-8c3b-75b62a23bbe5",
   "metadata": {
    "id": "dd161eb9-0f58-467a-8c3b-75b62a23bbe5"
   },
   "source": [
    "All this work did help. But remember while we cleaned the neighborhood issues between 4 states, cleaning 2 of them there might be more cleaning remaining."
   ]
  },
  {
   "cell_type": "markdown",
   "id": "52cc6720-acce-41c0-935a-5acc3c667e35",
   "metadata": {
    "id": "52cc6720-acce-41c0-935a-5acc3c667e35"
   },
   "source": [
    "**What about** union?\n",
    "\n",
    "The _mid_Brazil_ had these many geometries (rows):"
   ]
  },
  {
   "cell_type": "code",
   "execution_count": null,
   "id": "af2a7335-b79b-4c11-8ee5-4e62feb9369e",
   "metadata": {
    "id": "af2a7335-b79b-4c11-8ee5-4e62feb9369e"
   },
   "outputs": [],
   "source": [
    "len(mid_Brazil)"
   ]
  },
  {
   "cell_type": "markdown",
   "id": "28f44117-80c7-43f6-bb99-4cf458a70f03",
   "metadata": {
    "id": "28f44117-80c7-43f6-bb99-4cf458a70f03"
   },
   "source": [
    "Just using sets, this is the target count:"
   ]
  },
  {
   "cell_type": "code",
   "execution_count": null,
   "id": "33cf6d95-1006-4d39-9160-6a2ccde3016a",
   "metadata": {
    "id": "33cf6d95-1006-4d39-9160-6a2ccde3016a"
   },
   "outputs": [],
   "source": [
    "interNS=set(N_brazil_clean.state_name)&set(S_brazil_clean.state_name)\n",
    "interEW=set(E_brazil_clean.state_name)&set(W_brazil_clean.state_name)\n",
    "union_interNSEW=interNS|interEW\n",
    "len(union_interNSEW)"
   ]
  },
  {
   "cell_type": "markdown",
   "id": "5849eace-8aed-4e77-aede-f1139d211e73",
   "metadata": {
    "id": "5849eace-8aed-4e77-aede-f1139d211e73"
   },
   "source": [
    "Let's recreate intersection to recreate a clean mid Brazil:"
   ]
  },
  {
   "cell_type": "code",
   "execution_count": null,
   "id": "dd6e9be1-e150-4a40-b6e2-03f41d3633e3",
   "metadata": {
    "id": "dd6e9be1-e150-4a40-b6e2-03f41d3633e3"
   },
   "outputs": [],
   "source": [
    "NS_brazil_clean=N_brazil_clean.overlay(S_brazil_clean, how=\"intersection\",keep_geom_type=True)\n",
    "EW_brazil_clean=E_brazil_clean.overlay(W_brazil_clean, how=\"intersection\",keep_geom_type=True)\n",
    "\n",
    "# then\n",
    "mid_Brazil_clean=NS_brazil_clean.overlay(EW_brazil_clean,how=\"union\",keep_geom_type=True)\n",
    "\n",
    "# count\n",
    "len(mid_Brazil_clean)"
   ]
  },
  {
   "cell_type": "markdown",
   "id": "d48f14b9-78eb-4381-8ead-f82c22c15efa",
   "metadata": {
    "id": "d48f14b9-78eb-4381-8ead-f82c22c15efa"
   },
   "source": [
    "Again, we had improved, but you realize there is still more cleaning to do.\n",
    "\n",
    "Finally, let's check the recent result:"
   ]
  },
  {
   "cell_type": "code",
   "execution_count": null,
   "id": "4fc3ec85-00f7-48db-a766-149cad4a7b4c",
   "metadata": {
    "id": "4fc3ec85-00f7-48db-a766-149cad4a7b4c"
   },
   "outputs": [],
   "source": [
    "mid_Brazil_clean"
   ]
  },
  {
   "cell_type": "markdown",
   "id": "2764a544-f086-41a0-b87b-19ce9525debc",
   "metadata": {
    "id": "2764a544-f086-41a0-b87b-19ce9525debc"
   },
   "source": [
    "The UNION overlay is a simple idea. But the result above does not seem friendly.\n",
    "\n",
    "Let's recreat this GDF from previous steps:"
   ]
  },
  {
   "cell_type": "code",
   "execution_count": null,
   "id": "208960f9-5827-4fdb-9278-5b1f4b4169f6",
   "metadata": {
    "id": "208960f9-5827-4fdb-9278-5b1f4b4169f6"
   },
   "outputs": [],
   "source": [
    "NS_brazil_clean"
   ]
  },
  {
   "cell_type": "code",
   "execution_count": null,
   "id": "6333fbb5-f6e0-4703-b788-82a9d7053083",
   "metadata": {
    "id": "6333fbb5-f6e0-4703-b788-82a9d7053083"
   },
   "outputs": [],
   "source": [
    "# better format\n",
    "NS_brazil_clean.drop(columns=['state_code_1','state_name_2','state_code_2'],inplace=True)\n",
    "NS_brazil_clean.rename(columns={'state_name_1':'state_name_clean'},inplace=True)\n",
    "# then\n",
    "NS_brazil_clean"
   ]
  },
  {
   "cell_type": "markdown",
   "id": "a4eb8455-12fb-47eb-8e70-a1d8575613e8",
   "metadata": {
    "id": "a4eb8455-12fb-47eb-8e70-a1d8575613e8"
   },
   "source": [
    "Notice this one is not cleaned:"
   ]
  },
  {
   "cell_type": "code",
   "execution_count": null,
   "id": "ba84df5d-2480-4555-b8d4-024a0373cb85",
   "metadata": {
    "id": "ba84df5d-2480-4555-b8d4-024a0373cb85"
   },
   "outputs": [],
   "source": [
    "EW_brazil_clean"
   ]
  },
  {
   "cell_type": "markdown",
   "id": "839824d2-4ced-426a-9d48-3c816865f489",
   "metadata": {
    "id": "839824d2-4ced-426a-9d48-3c816865f489"
   },
   "source": [
    "We will not do the any reformatting as before, since we can not erase columns.\n",
    "\n",
    "Let's see the 'mid' again:"
   ]
  },
  {
   "cell_type": "code",
   "execution_count": null,
   "id": "529bcb4d-dcdd-4f89-ac84-82fb13c3e2e9",
   "metadata": {
    "id": "529bcb4d-dcdd-4f89-ac84-82fb13c3e2e9"
   },
   "outputs": [],
   "source": [
    "mid_Brazil_clean=NS_brazil_clean.overlay(EW_brazil_clean,how=\"union\",keep_geom_type=True)\n",
    "mid_Brazil_clean"
   ]
  },
  {
   "cell_type": "markdown",
   "id": "4630ac7f-d8f5-4f98-b88b-4b3e201cdba3",
   "metadata": {
    "id": "4630ac7f-d8f5-4f98-b88b-4b3e201cdba3"
   },
   "source": [
    "Notice this UNION operation  identifies the intersection in the result. **MATO GROSSO** is present in both.\n",
    "\n",
    "However, missing values were created where no intersection exists. Remember, whatever is not in the intersection of these two, would be the result of **symmetric difference**:"
   ]
  },
  {
   "cell_type": "code",
   "execution_count": null,
   "id": "f34ba4e9-8bc4-45a3-8c8e-a30c2438c209",
   "metadata": {
    "id": "f34ba4e9-8bc4-45a3-8c8e-a30c2438c209"
   },
   "outputs": [],
   "source": [
    "NS_brazil_clean.overlay(EW_brazil_clean,how=\"symmetric_difference\",keep_geom_type=True)"
   ]
  },
  {
   "cell_type": "markdown",
   "id": "b0a0a6b4-d74a-48e8-bc9d-3d619b205900",
   "metadata": {
    "id": "b0a0a6b4-d74a-48e8-bc9d-3d619b205900"
   },
   "source": [
    "As you see, the fact that we have not clean all the geometries affects all these overlay operations."
   ]
  },
  {
   "cell_type": "markdown",
   "id": "75f1fd42-45a2-41d5-a048-7a32d441b217",
   "metadata": {
    "id": "75f1fd42-45a2-41d5-a048-7a32d441b217"
   },
   "source": [
    "**NEXT STEPS**\n",
    "\n",
    "- Cleaning spatial data is not trivial. It is time consuming. We could keep working here to improve this.\n",
    "- We may need to take this fight to QGis or ArcGis to edit the points manually, it gives you more control, but it will affect replicability.\n",
    "- A smart decision would be to get a new map  with a [better quality](https://www.naturalearthdata.com/downloads/110m-cultural-vectors/) - which might also require some money investment."
   ]
  }
 ],
 "metadata": {
  "anaconda-cloud": {
   "attach-environment": true,
   "summary": "test"
  },
  "colab": {
   "provenance": []
  },
  "hide_input": false,
  "jupytext": {
   "cell_metadata_filter": "-all",
   "notebook_metadata_filter": "-all"
  },
  "kernelspec": {
   "display_name": "geo_env",
   "language": "python",
   "name": "geo_env"
  },
  "language_info": {
   "codemirror_mode": {
    "name": "ipython",
    "version": 3
   },
   "file_extension": ".py",
   "mimetype": "text/x-python",
   "name": "python",
   "nbconvert_exporter": "python",
   "pygments_lexer": "ipython3",
   "version": "3.13.5"
  },
  "toc-autonumbering": false
 },
 "nbformat": 4,
 "nbformat_minor": 5
}
